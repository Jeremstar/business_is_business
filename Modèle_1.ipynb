{
 "cells": [
  {
   "cell_type": "code",
   "execution_count": 1,
   "id": "f8b91a4b",
   "metadata": {
    "tags": []
   },
   "outputs": [],
   "source": [
    "%%capture\n",
    "!pip install prophet\n",
    "!pip install stan\n",
    "!pip install pystan\n",
    "!pip install nest_asyncio"
   ]
  },
  {
   "cell_type": "code",
   "execution_count": 12,
   "id": "9258f2f4",
   "metadata": {
    "tags": []
   },
   "outputs": [],
   "source": [
    "import pandas as pd\n",
    "from prophet import Prophet\n",
    "import numpy as np\n",
    "import math\n",
    "import matplotlib.pyplot as plt\n",
    "from sklearn.linear_model import LinearRegression\n",
    "import stan\n",
    "import nest_asyncio\n",
    "nest_asyncio.apply()\n"
   ]
  },
  {
   "cell_type": "markdown",
   "id": "151f72ac-8c95-48e9-b5c3-0f91a17644eb",
   "metadata": {},
   "source": [
    "# DATA"
   ]
  },
  {
   "cell_type": "code",
   "execution_count": 3,
   "id": "2b0a6421",
   "metadata": {
    "tags": []
   },
   "outputs": [
    {
     "data": {
      "text/html": [
       "<div>\n",
       "<style scoped>\n",
       "    .dataframe tbody tr th:only-of-type {\n",
       "        vertical-align: middle;\n",
       "    }\n",
       "\n",
       "    .dataframe tbody tr th {\n",
       "        vertical-align: top;\n",
       "    }\n",
       "\n",
       "    .dataframe thead th {\n",
       "        text-align: right;\n",
       "    }\n",
       "</style>\n",
       "<table border=\"1\" class=\"dataframe\">\n",
       "  <thead>\n",
       "    <tr style=\"text-align: right;\">\n",
       "      <th></th>\n",
       "      <th>date</th>\n",
       "      <th>area_type</th>\n",
       "      <th>area_name</th>\n",
       "      <th>daily_cases</th>\n",
       "      <th>cum_cases</th>\n",
       "      <th>new_deaths_28days</th>\n",
       "      <th>cum_deaths_28days</th>\n",
       "      <th>new_deaths_60days</th>\n",
       "      <th>cum_deaths_60days</th>\n",
       "      <th>new_first_episode</th>\n",
       "      <th>...</th>\n",
       "      <th>new_third_dose</th>\n",
       "      <th>cum_third_dose</th>\n",
       "      <th>new_admissions</th>\n",
       "      <th>cum_admissions</th>\n",
       "      <th>hospital_cases</th>\n",
       "      <th>ventilator_beds</th>\n",
       "      <th>trans_rate_min</th>\n",
       "      <th>trans_rate_max</th>\n",
       "      <th>trans_growth_min</th>\n",
       "      <th>trans_growth_max</th>\n",
       "    </tr>\n",
       "  </thead>\n",
       "  <tbody>\n",
       "    <tr>\n",
       "      <th>0</th>\n",
       "      <td>2023-02-01</td>\n",
       "      <td>nation</td>\n",
       "      <td>England</td>\n",
       "      <td>1573.0</td>\n",
       "      <td>20535061.0</td>\n",
       "      <td>NaN</td>\n",
       "      <td>NaN</td>\n",
       "      <td>NaN</td>\n",
       "      <td>NaN</td>\n",
       "      <td>892.0</td>\n",
       "      <td>...</td>\n",
       "      <td>625.0</td>\n",
       "      <td>33356701.0</td>\n",
       "      <td>NaN</td>\n",
       "      <td>NaN</td>\n",
       "      <td>6055.0</td>\n",
       "      <td>136.0</td>\n",
       "      <td>NaN</td>\n",
       "      <td>NaN</td>\n",
       "      <td>NaN</td>\n",
       "      <td>NaN</td>\n",
       "    </tr>\n",
       "    <tr>\n",
       "      <th>1</th>\n",
       "      <td>2023-01-31</td>\n",
       "      <td>nation</td>\n",
       "      <td>England</td>\n",
       "      <td>2678.0</td>\n",
       "      <td>20533488.0</td>\n",
       "      <td>NaN</td>\n",
       "      <td>NaN</td>\n",
       "      <td>NaN</td>\n",
       "      <td>NaN</td>\n",
       "      <td>1564.0</td>\n",
       "      <td>...</td>\n",
       "      <td>587.0</td>\n",
       "      <td>33356076.0</td>\n",
       "      <td>NaN</td>\n",
       "      <td>NaN</td>\n",
       "      <td>6015.0</td>\n",
       "      <td>136.0</td>\n",
       "      <td>NaN</td>\n",
       "      <td>NaN</td>\n",
       "      <td>NaN</td>\n",
       "      <td>NaN</td>\n",
       "    </tr>\n",
       "    <tr>\n",
       "      <th>2</th>\n",
       "      <td>2023-01-30</td>\n",
       "      <td>nation</td>\n",
       "      <td>England</td>\n",
       "      <td>2886.0</td>\n",
       "      <td>20530810.0</td>\n",
       "      <td>30.0</td>\n",
       "      <td>180801.0</td>\n",
       "      <td>41.0</td>\n",
       "      <td>226052.0</td>\n",
       "      <td>1724.0</td>\n",
       "      <td>...</td>\n",
       "      <td>613.0</td>\n",
       "      <td>33355489.0</td>\n",
       "      <td>741.0</td>\n",
       "      <td>958745.0</td>\n",
       "      <td>5959.0</td>\n",
       "      <td>142.0</td>\n",
       "      <td>NaN</td>\n",
       "      <td>NaN</td>\n",
       "      <td>NaN</td>\n",
       "      <td>NaN</td>\n",
       "    </tr>\n",
       "    <tr>\n",
       "      <th>3</th>\n",
       "      <td>2023-01-29</td>\n",
       "      <td>nation</td>\n",
       "      <td>England</td>\n",
       "      <td>2118.0</td>\n",
       "      <td>20527924.0</td>\n",
       "      <td>44.0</td>\n",
       "      <td>180771.0</td>\n",
       "      <td>72.0</td>\n",
       "      <td>226011.0</td>\n",
       "      <td>1224.0</td>\n",
       "      <td>...</td>\n",
       "      <td>247.0</td>\n",
       "      <td>33354876.0</td>\n",
       "      <td>705.0</td>\n",
       "      <td>958004.0</td>\n",
       "      <td>5834.0</td>\n",
       "      <td>145.0</td>\n",
       "      <td>NaN</td>\n",
       "      <td>NaN</td>\n",
       "      <td>NaN</td>\n",
       "      <td>NaN</td>\n",
       "    </tr>\n",
       "    <tr>\n",
       "      <th>4</th>\n",
       "      <td>2023-01-28</td>\n",
       "      <td>nation</td>\n",
       "      <td>England</td>\n",
       "      <td>1711.0</td>\n",
       "      <td>20525806.0</td>\n",
       "      <td>47.0</td>\n",
       "      <td>180727.0</td>\n",
       "      <td>80.0</td>\n",
       "      <td>225939.0</td>\n",
       "      <td>1119.0</td>\n",
       "      <td>...</td>\n",
       "      <td>1326.0</td>\n",
       "      <td>33354629.0</td>\n",
       "      <td>562.0</td>\n",
       "      <td>957299.0</td>\n",
       "      <td>5750.0</td>\n",
       "      <td>140.0</td>\n",
       "      <td>NaN</td>\n",
       "      <td>NaN</td>\n",
       "      <td>NaN</td>\n",
       "      <td>NaN</td>\n",
       "    </tr>\n",
       "  </tbody>\n",
       "</table>\n",
       "<p>5 rows × 35 columns</p>\n",
       "</div>"
      ],
      "text/plain": [
       "         date area_type area_name  daily_cases   cum_cases  new_deaths_28days  \\\n",
       "0  2023-02-01    nation   England       1573.0  20535061.0                NaN   \n",
       "1  2023-01-31    nation   England       2678.0  20533488.0                NaN   \n",
       "2  2023-01-30    nation   England       2886.0  20530810.0               30.0   \n",
       "3  2023-01-29    nation   England       2118.0  20527924.0               44.0   \n",
       "4  2023-01-28    nation   England       1711.0  20525806.0               47.0   \n",
       "\n",
       "   cum_deaths_28days  new_deaths_60days  cum_deaths_60days  new_first_episode  \\\n",
       "0                NaN                NaN                NaN              892.0   \n",
       "1                NaN                NaN                NaN             1564.0   \n",
       "2           180801.0               41.0           226052.0             1724.0   \n",
       "3           180771.0               72.0           226011.0             1224.0   \n",
       "4           180727.0               80.0           225939.0             1119.0   \n",
       "\n",
       "   ...  new_third_dose  cum_third_dose  new_admissions  cum_admissions  \\\n",
       "0  ...           625.0      33356701.0             NaN             NaN   \n",
       "1  ...           587.0      33356076.0             NaN             NaN   \n",
       "2  ...           613.0      33355489.0           741.0        958745.0   \n",
       "3  ...           247.0      33354876.0           705.0        958004.0   \n",
       "4  ...          1326.0      33354629.0           562.0        957299.0   \n",
       "\n",
       "   hospital_cases  ventilator_beds  trans_rate_min  trans_rate_max  \\\n",
       "0          6055.0            136.0             NaN             NaN   \n",
       "1          6015.0            136.0             NaN             NaN   \n",
       "2          5959.0            142.0             NaN             NaN   \n",
       "3          5834.0            145.0             NaN             NaN   \n",
       "4          5750.0            140.0             NaN             NaN   \n",
       "\n",
       "   trans_growth_min  trans_growth_max  \n",
       "0               NaN               NaN  \n",
       "1               NaN               NaN  \n",
       "2               NaN               NaN  \n",
       "3               NaN               NaN  \n",
       "4               NaN               NaN  \n",
       "\n",
       "[5 rows x 35 columns]"
      ]
     },
     "execution_count": 3,
     "metadata": {},
     "output_type": "execute_result"
    }
   ],
   "source": [
    "df = pd.read_csv('https://raw.githubusercontent.com/Jeremstar/business_is_business/main/England_covid.csv')\n",
    "df.head()\n"
   ]
  },
  {
   "cell_type": "code",
   "execution_count": 4,
   "id": "d772ca04",
   "metadata": {
    "tags": []
   },
   "outputs": [
    {
     "data": {
      "text/html": [
       "<div>\n",
       "<style scoped>\n",
       "    .dataframe tbody tr th:only-of-type {\n",
       "        vertical-align: middle;\n",
       "    }\n",
       "\n",
       "    .dataframe tbody tr th {\n",
       "        vertical-align: top;\n",
       "    }\n",
       "\n",
       "    .dataframe thead th {\n",
       "        text-align: right;\n",
       "    }\n",
       "</style>\n",
       "<table border=\"1\" class=\"dataframe\">\n",
       "  <thead>\n",
       "    <tr style=\"text-align: right;\">\n",
       "      <th></th>\n",
       "      <th>date</th>\n",
       "      <th>new_deaths_60days</th>\n",
       "      <th>new_virus_test</th>\n",
       "      <th>daily_cases</th>\n",
       "    </tr>\n",
       "  </thead>\n",
       "  <tbody>\n",
       "    <tr>\n",
       "      <th>0</th>\n",
       "      <td>2023-02-01</td>\n",
       "      <td>NaN</td>\n",
       "      <td>20351</td>\n",
       "      <td>1573.0</td>\n",
       "    </tr>\n",
       "    <tr>\n",
       "      <th>1</th>\n",
       "      <td>2023-01-31</td>\n",
       "      <td>NaN</td>\n",
       "      <td>22623</td>\n",
       "      <td>2678.0</td>\n",
       "    </tr>\n",
       "    <tr>\n",
       "      <th>2</th>\n",
       "      <td>2023-01-30</td>\n",
       "      <td>41.0</td>\n",
       "      <td>24780</td>\n",
       "      <td>2886.0</td>\n",
       "    </tr>\n",
       "    <tr>\n",
       "      <th>3</th>\n",
       "      <td>2023-01-29</td>\n",
       "      <td>72.0</td>\n",
       "      <td>23254</td>\n",
       "      <td>2118.0</td>\n",
       "    </tr>\n",
       "    <tr>\n",
       "      <th>4</th>\n",
       "      <td>2023-01-28</td>\n",
       "      <td>80.0</td>\n",
       "      <td>24243</td>\n",
       "      <td>1711.0</td>\n",
       "    </tr>\n",
       "  </tbody>\n",
       "</table>\n",
       "</div>"
      ],
      "text/plain": [
       "         date  new_deaths_60days  new_virus_test  daily_cases\n",
       "0  2023-02-01                NaN           20351       1573.0\n",
       "1  2023-01-31                NaN           22623       2678.0\n",
       "2  2023-01-30               41.0           24780       2886.0\n",
       "3  2023-01-29               72.0           23254       2118.0\n",
       "4  2023-01-28               80.0           24243       1711.0"
      ]
     },
     "execution_count": 4,
     "metadata": {},
     "output_type": "execute_result"
    }
   ],
   "source": [
    "#Nettoyage des données\n",
    "df = df[[\"date\", \"new_deaths_60days\",\"new_virus_test\",\"daily_cases\"]]\n",
    "df.head()"
   ]
  },
  {
   "cell_type": "code",
   "execution_count": 5,
   "id": "b49c054a",
   "metadata": {
    "tags": []
   },
   "outputs": [
    {
     "name": "stdout",
     "output_type": "stream",
     "text": [
      "date                  0\n",
      "new_deaths_60days    61\n",
      "new_virus_test        0\n",
      "daily_cases          27\n",
      "dtype: int64\n",
      "4504\n"
     ]
    },
    {
     "data": {
      "text/html": [
       "<div>\n",
       "<style scoped>\n",
       "    .dataframe tbody tr th:only-of-type {\n",
       "        vertical-align: middle;\n",
       "    }\n",
       "\n",
       "    .dataframe tbody tr th {\n",
       "        vertical-align: top;\n",
       "    }\n",
       "\n",
       "    .dataframe thead th {\n",
       "        text-align: right;\n",
       "    }\n",
       "</style>\n",
       "<table border=\"1\" class=\"dataframe\">\n",
       "  <thead>\n",
       "    <tr style=\"text-align: right;\">\n",
       "      <th></th>\n",
       "      <th>date</th>\n",
       "      <th>new_deaths_60days</th>\n",
       "      <th>new_virus_test</th>\n",
       "      <th>daily_cases</th>\n",
       "    </tr>\n",
       "  </thead>\n",
       "  <tbody>\n",
       "    <tr>\n",
       "      <th>2</th>\n",
       "      <td>2023-01-30</td>\n",
       "      <td>41.0</td>\n",
       "      <td>24780</td>\n",
       "      <td>2886.0</td>\n",
       "    </tr>\n",
       "    <tr>\n",
       "      <th>3</th>\n",
       "      <td>2023-01-29</td>\n",
       "      <td>72.0</td>\n",
       "      <td>23254</td>\n",
       "      <td>2118.0</td>\n",
       "    </tr>\n",
       "    <tr>\n",
       "      <th>4</th>\n",
       "      <td>2023-01-28</td>\n",
       "      <td>80.0</td>\n",
       "      <td>24243</td>\n",
       "      <td>1711.0</td>\n",
       "    </tr>\n",
       "    <tr>\n",
       "      <th>5</th>\n",
       "      <td>2023-01-27</td>\n",
       "      <td>97.0</td>\n",
       "      <td>31287</td>\n",
       "      <td>2189.0</td>\n",
       "    </tr>\n",
       "    <tr>\n",
       "      <th>6</th>\n",
       "      <td>2023-01-26</td>\n",
       "      <td>119.0</td>\n",
       "      <td>37446</td>\n",
       "      <td>2250.0</td>\n",
       "    </tr>\n",
       "  </tbody>\n",
       "</table>\n",
       "</div>"
      ],
      "text/plain": [
       "         date  new_deaths_60days  new_virus_test  daily_cases\n",
       "2  2023-01-30               41.0           24780       2886.0\n",
       "3  2023-01-29               72.0           23254       2118.0\n",
       "4  2023-01-28               80.0           24243       1711.0\n",
       "5  2023-01-27               97.0           31287       2189.0\n",
       "6  2023-01-26              119.0           37446       2250.0"
      ]
     },
     "execution_count": 5,
     "metadata": {},
     "output_type": "execute_result"
    }
   ],
   "source": [
    "missing = df.isnull().sum()\n",
    "print(missing)\n",
    "print(df.size)\n",
    "\n",
    "#On décide d'enlever les valeurs manquantes\n",
    "df = df.dropna(axis=0)\n",
    "df.head()"
   ]
  },
  {
   "cell_type": "code",
   "execution_count": 6,
   "id": "0fe3fe30",
   "metadata": {},
   "outputs": [
    {
     "data": {
      "text/html": [
       "<div>\n",
       "<style scoped>\n",
       "    .dataframe tbody tr th:only-of-type {\n",
       "        vertical-align: middle;\n",
       "    }\n",
       "\n",
       "    .dataframe tbody tr th {\n",
       "        vertical-align: top;\n",
       "    }\n",
       "\n",
       "    .dataframe thead th {\n",
       "        text-align: right;\n",
       "    }\n",
       "</style>\n",
       "<table border=\"1\" class=\"dataframe\">\n",
       "  <thead>\n",
       "    <tr style=\"text-align: right;\">\n",
       "      <th></th>\n",
       "      <th>date</th>\n",
       "      <th>new_deaths_60days</th>\n",
       "      <th>new_virus_test</th>\n",
       "      <th>daily_cases</th>\n",
       "      <th>j</th>\n",
       "    </tr>\n",
       "  </thead>\n",
       "  <tbody>\n",
       "    <tr>\n",
       "      <th>6</th>\n",
       "      <td>2023-01-26</td>\n",
       "      <td>119.0</td>\n",
       "      <td>37446</td>\n",
       "      <td>2250.0</td>\n",
       "      <td>1061</td>\n",
       "    </tr>\n",
       "    <tr>\n",
       "      <th>5</th>\n",
       "      <td>2023-01-27</td>\n",
       "      <td>97.0</td>\n",
       "      <td>31287</td>\n",
       "      <td>2189.0</td>\n",
       "      <td>1062</td>\n",
       "    </tr>\n",
       "    <tr>\n",
       "      <th>4</th>\n",
       "      <td>2023-01-28</td>\n",
       "      <td>80.0</td>\n",
       "      <td>24243</td>\n",
       "      <td>1711.0</td>\n",
       "      <td>1063</td>\n",
       "    </tr>\n",
       "    <tr>\n",
       "      <th>3</th>\n",
       "      <td>2023-01-29</td>\n",
       "      <td>72.0</td>\n",
       "      <td>23254</td>\n",
       "      <td>2118.0</td>\n",
       "      <td>1064</td>\n",
       "    </tr>\n",
       "    <tr>\n",
       "      <th>2</th>\n",
       "      <td>2023-01-30</td>\n",
       "      <td>41.0</td>\n",
       "      <td>24780</td>\n",
       "      <td>2886.0</td>\n",
       "      <td>1065</td>\n",
       "    </tr>\n",
       "  </tbody>\n",
       "</table>\n",
       "</div>"
      ],
      "text/plain": [
       "         date  new_deaths_60days  new_virus_test  daily_cases     j\n",
       "6  2023-01-26              119.0           37446       2250.0  1061\n",
       "5  2023-01-27               97.0           31287       2189.0  1062\n",
       "4  2023-01-28               80.0           24243       1711.0  1063\n",
       "3  2023-01-29               72.0           23254       2118.0  1064\n",
       "2  2023-01-30               41.0           24780       2886.0  1065"
      ]
     },
     "execution_count": 6,
     "metadata": {},
     "output_type": "execute_result"
    }
   ],
   "source": [
    "#On transforme la date en donnée incrémentale \n",
    "df = df.sort_values(by='date')\n",
    "df['j'] = np.arange(df.shape[0])\n",
    "df[\"j\"] = df['j'] + 1\n",
    "df.tail()"
   ]
  },
  {
   "cell_type": "markdown",
   "id": "86f28e7f-5e05-4ede-9eea-8a5bc3729702",
   "metadata": {},
   "source": [
    "# Construction de la matrice design"
   ]
  },
  {
   "cell_type": "code",
   "execution_count": 7,
   "id": "b00f012c-f488-4b4c-8692-7f6a33bf464e",
   "metadata": {
    "tags": []
   },
   "outputs": [],
   "source": [
    "#fonction pour implémenter la matrice design à partir de j (voir mémoire pour la méthodologie). Elle prend un j et retourne le vecteur associé. \n",
    "def find_var_expl_time(j): \n",
    "    x_j = [1]\n",
    "    x_j.append(j/365*3)\n",
    "    for l in range(2,46): \n",
    "        if l >= 2 and l <= 8: \n",
    "            x_j.append(math.cos(2*math.pi*(l-2)*j/7))\n",
    "        elif l >= 9 and l <= 15:\n",
    "            x_j.append(math.sin(2*math.pi*(l-9)*j/7))\n",
    "        elif l >= 16 and l <= 30: \n",
    "            x_j.append(math.cos(2*math.pi*(l-16)*j/(365.25)))\n",
    "        elif l >= 31 and l <= 45:\n",
    "            x_j.append(math.sin(2*math.pi*(l-35)*j/(365.25)))\n",
    "    return x_j"
   ]
  },
  {
   "cell_type": "code",
   "execution_count": 8,
   "id": "e519c1d4-69a5-49b7-a882-0b06856f87bf",
   "metadata": {
    "tags": []
   },
   "outputs": [],
   "source": [
    "#Construction de la matrice design à partir de la fonction précèdente. \n",
    "mat_design = np.empty((0,46))\n",
    "for j in df[\"j\"]:\n",
    "    row = np.array(find_var_expl_time(j))\n",
    "    mat_design = np.r_[mat_design,[row]]\n",
    "\n",
    "#mat_design = pd.DataFrame(mat_design)"
   ]
  },
  {
   "cell_type": "code",
   "execution_count": 9,
   "id": "8946a941-b589-4671-b5a2-10d2a9134848",
   "metadata": {
    "tags": []
   },
   "outputs": [
    {
     "data": {
      "text/plain": [
       "array([[1.00000000e+00, 8.21917808e-03, 1.00000000e+00, ...,\n",
       "        1.37185404e-01, 1.54204048e-01, 1.71177060e-01],\n",
       "       [1.00000000e+00, 1.64383562e-02, 1.00000000e+00, ...,\n",
       "        2.71776738e-01, 3.04719233e-01, 3.37301069e-01],\n",
       "       [1.00000000e+00, 2.46575342e-02, 1.00000000e+00, ...,\n",
       "        4.01228985e-01, 4.47944939e-01, 4.93468142e-01],\n",
       "       ...,\n",
       "       [1.00000000e+00, 8.73698630e+00, 1.00000000e+00, ...,\n",
       "        9.78988874e-01, 9.36590583e-01, 6.04701877e-01],\n",
       "       [1.00000000e+00, 8.74520548e+00, 1.00000000e+00, ...,\n",
       "        9.41758934e-01, 9.79425086e-01, 7.32110943e-01],\n",
       "       [1.00000000e+00, 8.75342466e+00, 1.00000000e+00, ...,\n",
       "        8.86721063e-01, 9.98829828e-01, 8.37908509e-01]])"
      ]
     },
     "execution_count": 9,
     "metadata": {},
     "output_type": "execute_result"
    }
   ],
   "source": [
    "mat_design"
   ]
  },
  {
   "cell_type": "markdown",
   "id": "37fd6d4e-bfce-4bc3-804d-8f5813519d02",
   "metadata": {},
   "source": [
    "# Régression linéaire "
   ]
  },
  {
   "cell_type": "code",
   "execution_count": 15,
   "id": "253676c7",
   "metadata": {},
   "outputs": [
    {
     "name": "stdout",
     "output_type": "stream",
     "text": [
      "Intercept :  10653972756292.0\n",
      "Beta :  [-8.85566644e+12  6.79418912e+03  8.85743826e+13  1.27595079e+16\n",
      "  2.25085571e+16 -4.62591842e+16  4.62591842e+16 -2.25085571e+16\n",
      " -1.27595079e+16 -9.20475328e+12  7.00782807e+15  2.43997969e+16\n",
      "  2.31460230e+16  2.31460230e+16  2.43997969e+16  7.00782807e+15\n",
      " -9.03726884e+13  1.21475213e+05  4.86454039e+04  3.46248381e+03\n",
      " -1.68945236e+04  7.72904117e+03  1.01306003e+04 -2.85857635e+04\n",
      " -2.38232582e+04 -3.09641476e+04 -2.21029870e+04 -1.83837049e+04\n",
      " -1.45739898e+04  2.50410068e+03  1.51934173e+04 -2.71537982e+13\n",
      " -4.19105551e+12  1.67566383e+13 -3.76213996e+13 -8.95119615e+11\n",
      " -3.76213996e+13  1.67566382e+13 -4.19105553e+12 -2.71537981e+13\n",
      " -1.41123458e+04  7.82408637e+03 -4.83270472e+03  6.09632585e+03\n",
      "  6.25603083e+03  1.30033945e+04]\n"
     ]
    }
   ],
   "source": [
    "#Regression linéaire simple:\n",
    "X = mat_design\n",
    "y = df[\"new_virus_test\"]\n",
    "model = LinearRegression().fit(X, y)\n",
    "\n",
    "epsilon = model.intercept_\n",
    "theta = model.coef_\n",
    "\n",
    "print(\"Intercept : \",epsilon)\n",
    "print(\"Beta : \", theta)"
   ]
  },
  {
   "cell_type": "code",
   "execution_count": 13,
   "id": "1b6c1e4d",
   "metadata": {},
   "outputs": [
    {
     "data": {
      "image/png": "[encoded data removed]",
      "text/plain": [
       "<Figure size 640x480 with 1 Axes>"
      ]
     },
     "metadata": {},
     "output_type": "display_data"
    }
   ],
   "source": [
    "T = df.shape[0]\n",
    "t = np.array(df.index).reshape(-1, 1) / T\n",
    "\n",
    "\n",
    "plt.scatter(t, df['new_virus_test'], color='blue')\n",
    "plt.plot(t, model.predict(X), color='red')\n",
    "plt.xlabel('Time')\n",
    "plt.ylabel('new_virus_test')\n",
    "plt.title('Linear Regression')\n",
    "plt.show()"
   ]
  },
  {
   "cell_type": "code",
   "execution_count": 19,
   "id": "77407d02-0441-4eae-8bce-0298995e225a",
   "metadata": {
    "tags": []
   },
   "outputs": [
    {
     "name": "stderr",
     "output_type": "stream",
     "text": [
      "\u001b[32mBuilding:\u001b[0m found in cache, done.\n",
      "\u001b[36mMessages from \u001b[0m\u001b[36;1mstanc\u001b[0m\u001b[36m:\u001b[0m\n",
      "Warning: The parameter beta has no priors. This means either no prior is\n",
      "    provided, or the prior(s) depend on data variables. In the later case,\n",
      "    this may be a false positive.\n",
      "\u001b[36mSampling:\u001b[0m   0%\n",
      "\u001b[1A\u001b[0J\u001b[36mSampling:\u001b[0m   0% (1/8000)\n",
      "\u001b[1A\u001b[0J\u001b[36mSampling:\u001b[0m   0% (2/8000)\n",
      "\u001b[1A\u001b[0J\u001b[36mSampling:\u001b[0m   0% (3/8000)\n",
      "\u001b[1A\u001b[0J\u001b[36mSampling:\u001b[0m   0% (4/8000)\n",
      "\u001b[1A\u001b[0J\u001b[36mSampling:\u001b[0m   1% (103/8000)\n",
      "\u001b[1A\u001b[0J\u001b[36mSampling:\u001b[0m   3% (202/8000)\n",
      "\u001b[1A\u001b[0J\u001b[36mSampling:\u001b[0m   4% (302/8000)\n",
      "\u001b[1A\u001b[0J\u001b[36mSampling:\u001b[0m   5% (401/8000)\n",
      "\u001b[1A\u001b[0J\u001b[36mSampling:\u001b[0m   8% (600/8000)\n",
      "\u001b[1A\u001b[0J\u001b[36mSampling:\u001b[0m   9% (700/8000)\n",
      "\u001b[1A\u001b[0J\u001b[36mSampling:\u001b[0m  10% (800/8000)\n",
      "\u001b[1A\u001b[0J\u001b[36mSampling:\u001b[0m  11% (900/8000)\n",
      "\u001b[1A\u001b[0J\u001b[36mSampling:\u001b[0m  12% (1000/8000)\n",
      "\u001b[1A\u001b[0J\u001b[36mSampling:\u001b[0m  14% (1100/8000)\n",
      "\u001b[1A\u001b[0J\u001b[36mSampling:\u001b[0m  15% (1200/8000)\n",
      "\u001b[1A\u001b[0J\u001b[36mSampling:\u001b[0m  16% (1300/8000)\n",
      "\u001b[1A\u001b[0J\u001b[36mSampling:\u001b[0m  19% (1500/8000)\n",
      "\u001b[1A\u001b[0J\u001b[36mSampling:\u001b[0m  20% (1600/8000)\n",
      "\u001b[1A\u001b[0J\u001b[36mSampling:\u001b[0m  21% (1700/8000)\n",
      "\u001b[1A\u001b[0J\u001b[36mSampling:\u001b[0m  22% (1800/8000)\n",
      "\u001b[1A\u001b[0J\u001b[36mSampling:\u001b[0m  24% (1900/8000)\n",
      "\u001b[1A\u001b[0J\u001b[36mSampling:\u001b[0m  25% (2000/8000)\n",
      "\u001b[1A\u001b[0J\u001b[36mSampling:\u001b[0m  26% (2100/8000)\n",
      "\u001b[1A\u001b[0J\u001b[36mSampling:\u001b[0m  28% (2200/8000)\n",
      "\u001b[1A\u001b[0J\u001b[36mSampling:\u001b[0m  29% (2300/8000)\n",
      "\u001b[1A\u001b[0J\u001b[36mSampling:\u001b[0m  30% (2400/8000)\n",
      "\u001b[1A\u001b[0J\u001b[36mSampling:\u001b[0m  31% (2500/8000)\n",
      "\u001b[1A\u001b[0J\u001b[36mSampling:\u001b[0m  32% (2600/8000)\n",
      "\u001b[1A\u001b[0J\u001b[36mSampling:\u001b[0m  34% (2700/8000)\n",
      "\u001b[1A\u001b[0J\u001b[36mSampling:\u001b[0m  35% (2800/8000)\n",
      "\u001b[1A\u001b[0J\u001b[36mSampling:\u001b[0m  36% (2900/8000)\n",
      "\u001b[1A\u001b[0J\u001b[36mSampling:\u001b[0m  38% (3000/8000)\n",
      "\u001b[1A\u001b[0J\u001b[36mSampling:\u001b[0m  39% (3100/8000)\n",
      "\u001b[1A\u001b[0J\u001b[36mSampling:\u001b[0m  40% (3200/8000)\n",
      "\u001b[1A\u001b[0J\u001b[36mSampling:\u001b[0m  41% (3300/8000)\n",
      "\u001b[1A\u001b[0J\u001b[36mSampling:\u001b[0m  42% (3400/8000)\n",
      "\u001b[1A\u001b[0J\u001b[36mSampling:\u001b[0m  44% (3500/8000)\n",
      "\u001b[1A\u001b[0J\u001b[36mSampling:\u001b[0m  45% (3600/8000)\n",
      "\u001b[1A\u001b[0J\u001b[36mSampling:\u001b[0m  46% (3701/8000)\n",
      "\u001b[1A\u001b[0J\u001b[36mSampling:\u001b[0m  48% (3800/8000)\n",
      "\u001b[1A\u001b[0J\u001b[36mSampling:\u001b[0m  49% (3901/8000)\n",
      "\u001b[1A\u001b[0J\u001b[36mSampling:\u001b[0m  50% (4001/8000)\n",
      "\u001b[1A\u001b[0J\u001b[36mSampling:\u001b[0m  51% (4102/8000)\n",
      "\u001b[1A\u001b[0J\u001b[36mSampling:\u001b[0m  53% (4203/8000)\n",
      "\u001b[1A\u001b[0J\u001b[36mSampling:\u001b[0m  54% (4303/8000)\n",
      "\u001b[1A\u001b[0J\u001b[36mSampling:\u001b[0m  55% (4402/8000)\n",
      "\u001b[1A\u001b[0J\u001b[36mSampling:\u001b[0m  56% (4502/8000)\n",
      "\u001b[1A\u001b[0J\u001b[36mSampling:\u001b[0m  58% (4601/8000)\n",
      "\u001b[1A\u001b[0J\u001b[36mSampling:\u001b[0m  59% (4700/8000)\n",
      "\u001b[1A\u001b[0J\u001b[36mSampling:\u001b[0m  60% (4800/8000)\n",
      "\u001b[1A\u001b[0J\u001b[36mSampling:\u001b[0m  61% (4900/8000)\n",
      "\u001b[1A\u001b[0J\u001b[36mSampling:\u001b[0m  62% (5000/8000)\n",
      "\u001b[1A\u001b[0J\u001b[36mSampling:\u001b[0m  64% (5100/8000)\n",
      "\u001b[1A\u001b[0J\u001b[36mSampling:\u001b[0m  65% (5200/8000)\n",
      "\u001b[1A\u001b[0J\u001b[36mSampling:\u001b[0m  66% (5300/8000)\n",
      "\u001b[1A\u001b[0J\u001b[36mSampling:\u001b[0m  68% (5400/8000)\n",
      "\u001b[1A\u001b[0J\u001b[36mSampling:\u001b[0m  69% (5500/8000)\n",
      "\u001b[1A\u001b[0J\u001b[36mSampling:\u001b[0m  70% (5600/8000)\n",
      "\u001b[1A\u001b[0J\u001b[36mSampling:\u001b[0m  71% (5700/8000)\n",
      "\u001b[1A\u001b[0J\u001b[36mSampling:\u001b[0m  72% (5800/8000)\n",
      "\u001b[1A\u001b[0J\u001b[36mSampling:\u001b[0m  74% (5900/8000)\n",
      "\u001b[1A\u001b[0J\u001b[36mSampling:\u001b[0m  75% (6000/8000)\n",
      "\u001b[1A\u001b[0J\u001b[36mSampling:\u001b[0m  76% (6100/8000)\n",
      "\u001b[1A\u001b[0J\u001b[36mSampling:\u001b[0m  78% (6200/8000)\n",
      "\u001b[1A\u001b[0J\u001b[36mSampling:\u001b[0m  79% (6300/8000)\n",
      "\u001b[1A\u001b[0J\u001b[36mSampling:\u001b[0m  80% (6400/8000)\n",
      "\u001b[1A\u001b[0J\u001b[36mSampling:\u001b[0m  81% (6500/8000)\n",
      "\u001b[1A\u001b[0J\u001b[36mSampling:\u001b[0m  82% (6600/8000)\n",
      "\u001b[1A\u001b[0J\u001b[36mSampling:\u001b[0m  84% (6700/8000)\n",
      "\u001b[1A\u001b[0J\u001b[36mSampling:\u001b[0m  85% (6800/8000)\n",
      "\u001b[1A\u001b[0J\u001b[36mSampling:\u001b[0m  86% (6900/8000)\n",
      "\u001b[1A\u001b[0J\u001b[36mSampling:\u001b[0m  88% (7000/8000)\n",
      "\u001b[1A\u001b[0J\u001b[36mSampling:\u001b[0m  89% (7100/8000)\n",
      "\u001b[1A\u001b[0J\u001b[36mSampling:\u001b[0m  90% (7200/8000)\n",
      "\u001b[1A\u001b[0J\u001b[36mSampling:\u001b[0m  91% (7300/8000)\n",
      "\u001b[1A\u001b[0J\u001b[36mSampling:\u001b[0m  92% (7400/8000)\n",
      "\u001b[1A\u001b[0J\u001b[36mSampling:\u001b[0m  94% (7500/8000)\n",
      "\u001b[1A\u001b[0J\u001b[36mSampling:\u001b[0m  95% (7600/8000)\n",
      "\u001b[1A\u001b[0J\u001b[36mSampling:\u001b[0m  96% (7700/8000)\n",
      "\u001b[1A\u001b[0J\u001b[36mSampling:\u001b[0m  98% (7800/8000)\n",
      "\u001b[1A\u001b[0J\u001b[36mSampling:\u001b[0m  99% (7900/8000)\n",
      "\u001b[1A\u001b[0J\u001b[36mSampling:\u001b[0m 100% (8000/8000)\n",
      "\u001b[1A\u001b[0J\u001b[32mSampling:\u001b[0m 100% (8000/8000), done.\n",
      "\u001b[36mMessages received during sampling:\u001b[0m\n",
      "  Gradient evaluation took 8.3e-05 seconds\n",
      "  1000 transitions using 10 leapfrog steps per transition would take 0.83 seconds.\n",
      "  Adjust your expectations accordingly!\n",
      "  Gradient evaluation took 7e-05 seconds\n",
      "  1000 transitions using 10 leapfrog steps per transition would take 0.7 seconds.\n",
      "  Adjust your expectations accordingly!\n",
      "  Gradient evaluation took 9.1e-05 seconds\n",
      "  1000 transitions using 10 leapfrog steps per transition would take 0.91 seconds.\n",
      "  Adjust your expectations accordingly!\n",
      "  Gradient evaluation took 7.1e-05 seconds\n",
      "  1000 transitions using 10 leapfrog steps per transition would take 0.71 seconds.\n",
      "  Adjust your expectations accordingly!\n"
     ]
    }
   ],
   "source": [
    "#Regression bayésienne avec stan\n",
    "stan_code = \"\"\"\n",
    "data {\n",
    "    int<lower=0> N;\n",
    "    int<lower=0> P;\n",
    "    matrix[N, P] X;\n",
    "    vector[N] y;\n",
    "}\n",
    "parameters {\n",
    "    vector[P] beta;\n",
    "    real<lower=0> sigma;\n",
    "}\n",
    "model {\n",
    "    y ~ normal(X * beta, sigma);\n",
    "    sigma ~ normal(0, 0.5);\n",
    "}\n",
    "\"\"\"\n",
    "\n",
    "# Data\n",
    "N = X.shape[0]\n",
    "P = X.shape[1]\n",
    "stan_data = {'N': N, 'P': P, 'X': pd.DataFrame(X).values, 'y': df[\"new_virus_test\"].values}\n",
    "posterior = stan.build(stan_code, data=stan_data, random_seed = 1)\n",
    "fit = posterior.sample(num_chains = 4, num_samples = 1000)\n",
    "\n",
    "df_fit = fit.to_frame()"
   ]
  },
  {
   "cell_type": "code",
   "execution_count": 23,
   "id": "0c3d7ea9-a15d-48d5-932d-18c7cc9e87fd",
   "metadata": {},
   "outputs": [
    {
     "data": {
      "image/png": "[encoded data removed]",
      "text/plain": [
       "<Figure size 1500x500 with 1 Axes>"
      ]
     },
     "metadata": {},
     "output_type": "display_data"
    }
   ],
   "source": [
    "df_fit.head()\n",
    "# Extract the posterior samples\n",
    "posterior_samples = df_fit[['beta.1', 'beta.2', 'beta.3', 'beta.4', 'beta.5', 'beta.6', 'beta.7', 'beta.8', 'beta.9', 'beta.10', 'beta.11',       'beta.12', 'beta.13', 'beta.14', 'beta.15', 'beta.16', 'beta.17',       'beta.18', 'beta.19', 'beta.20', 'beta.21', 'beta.22', 'beta.23',       'beta.24', 'beta.25', 'beta.26', 'beta.27', 'beta.28', 'beta.29',       'beta.30', 'beta.31', 'beta.32', 'beta.33', 'beta.34', 'beta.35',       'beta.36', 'beta.37', 'beta.38', 'beta.39', 'beta.40', 'beta.41',       'beta.42', 'beta.43', 'beta.44', 'beta.45', 'beta.46']]\n",
    "\n",
    "# Compute the posterior predictive distribution\n",
    "y_pred = X.dot(posterior_samples.mean().values)\n",
    "y_pred_std = X.dot(posterior_samples.std().values)\n",
    "\n",
    "# Plot the posterior predictive distribution\n",
    "plt.figure(figsize=(15, 5))\n",
    "plt.plot(df.index, y_pred, color='red')\n",
    "plt.fill_between(df.index, y_pred - y_pred_std, y_pred + y_pred_std, color='red', alpha=0.2)\n",
    "plt.scatter(df.index, df['new_virus_test'], color='blue')\n",
    "plt.xlabel('Time')\n",
    "plt.ylabel('new_virus_test')\n",
    "plt.title('Bayesian Regression')\n",
    "plt.show()"
   ]
  },
  {
   "cell_type": "code",
   "execution_count": null,
   "id": "8b75df49",
   "metadata": {},
   "outputs": [],
   "source": []
  },
  {
   "cell_type": "markdown",
   "id": "6d75a0b5-2b3d-41b7-b3d1-053d33344a17",
   "metadata": {
    "tags": []
   },
   "source": [
    "# Régression 1 du Modèle 1 "
   ]
  },
  {
   "cell_type": "code",
   "execution_count": 1,
   "id": "8df9653e-2ae0-4b38-8196-c38d4c52d6c6",
   "metadata": {
    "tags": []
   },
   "outputs": [],
   "source": [
    "Model = \"\"\"\n",
    "data {\n",
    "  int N; //nombre de données \n",
    "  int y[N]; //nombre de tests Covid\n",
    "  int K; // nombre de colonnes de la matrice design\n",
    "  matrix[N, K] X; //matrice design \n",
    "  vector[K] theta; //theta (voir mémoire Rég 1) correspondant au beta de la régression précèdente \n",
    "  // priors\n",
    "  real reciprocal_sigma_scale; // borne sup de la loi normale que suit l'inverse du sigma (voir mémoire) \n",
    "}\n",
    "parameters {\n",
    "  real reciprocal_sigma; //inverse du sigma\n",
    "}\n",
    "transformed parameters {\n",
    "  vector[N] mu;\n",
    "  real sigma; //\n",
    "  mu = exp(X * theta);\n",
    "  sigma = 1. / reciprocal_sigma;\n",
    "}\n",
    "model {\n",
    "  reciprocal_sigma ~ normal(0., reciprocal_sigma_scale);\n",
    "  y ~ neg_binomial_2_log(mu, sigma);\n",
    "}\n",
    "generated quantities {\n",
    "  vector[N] y_rep;\n",
    "  for (i in 1:N) {\n",
    "    y_rep[i] = neg_binomial_2_rng(mu[i], sigma);\n",
    "  }\n",
    "}\n",
    "\"\"\""
   ]
  },
  {
   "cell_type": "code",
   "execution_count": 31,
   "id": "9cfa106b-22dd-4bcd-b159-720d768d647d",
   "metadata": {
    "tags": []
   },
   "outputs": [
    {
     "data": {
      "text/plain": [
       "46"
      ]
     },
     "execution_count": 31,
     "metadata": {},
     "output_type": "execute_result"
    }
   ],
   "source": [
    "len(theta)"
   ]
  },
  {
   "cell_type": "code",
   "execution_count": 20,
   "id": "d12347e8-bb4d-4337-a093-112329fd0e81",
   "metadata": {
    "tags": []
   },
   "outputs": [
    {
     "name": "stdout",
     "output_type": "stream",
     "text": [
      "Building..."
     ]
    },
    {
     "name": "stderr",
     "output_type": "stream",
     "text": [
      "In file included from /opt/mamba/lib/python3.10/site-packages/httpstan/include/stan/math/prim/fun.hpp:124,\n",
      "                 from /opt/mamba/lib/python3.10/site-packages/httpstan/include/stan/math/rev/fun/multiply.hpp:7,\n",
      "                 from /opt/mamba/lib/python3.10/site-packages/httpstan/include/stan/math/rev/fun/elt_multiply.hpp:9,\n",
      "                 from /opt/mamba/lib/python3.10/site-packages/httpstan/include/stan/math/rev/fun.hpp:55,\n",
      "                 from /opt/mamba/lib/python3.10/site-packages/httpstan/include/stan/math/rev.hpp:10,\n",
      "                 from /opt/mamba/lib/python3.10/site-packages/httpstan/include/stan/math.hpp:19,\n",
      "                 from /opt/mamba/lib/python3.10/site-packages/httpstan/include/stan/model/model_header.hpp:4,\n",
      "                 from /home/onyxia/.cache/httpstan/4.9.1/models/v47afgoa/model_v47afgoa.cpp:2:\n",
      "/opt/mamba/lib/python3.10/site-packages/httpstan/include/stan/math/prim/fun/grad_2F1.hpp: In instantiation of ‘TupleT stan::math::internal::grad_2F1_impl(const T1&, const T2&, const T3&, const T_z&, double, int) [with bool calc_a1 = true; bool calc_a2 = true; bool calc_b1 = true; bool calc_z = true; T1 = double; T2 = double; T3 = double; T_z = double; ScalarT = double; TupleT = std::tuple<double, double, double, double>]’:\n",
      "/opt/mamba/lib/python3.10/site-packages/httpstan/include/stan/math/prim/fun/grad_2F1.hpp:307:57:   required from ‘auto stan::math::grad_2F1(const T1&, const T2&, const T3&, const T_z&, double, int) [with bool ReturnSameT = true; T1 = double; T2 = double; T3 = double; T_z = double; stan::require_t<std::integral_constant<bool, __v> >* <anonymous> = 0]’\n",
      "/opt/mamba/lib/python3.10/site-packages/httpstan/include/stan/math/prim/fun/grad_inc_beta.hpp:37:25:   required from here\n",
      "/opt/mamba/lib/python3.10/site-packages/httpstan/include/stan/math/prim/fun/grad_2F1.hpp:192:12: warning: unused variable ‘pre_mult’ [-Wunused-variable]\n",
      "  192 |       auto pre_mult = a2 * pow(1 - z, -1 - a2);\n",
      "      |            ^~~~~~~~\n",
      "/opt/mamba/lib/python3.10/site-packages/httpstan/include/stan/math/prim/fun/grad_2F1.hpp: In instantiation of ‘TupleT stan::math::internal::grad_2F1_impl(const T1&, const T2&, const T3&, const T_z&, double, int) [with bool calc_a1 = true; bool calc_a2 = true; bool calc_b1 = true; bool calc_z = true; T1 = stan::math::var_value<double>; T2 = stan::math::var_value<double>; T3 = stan::math::var_value<double>; T_z = stan::math::var_value<double>; ScalarT = stan::math::var_value<double>; TupleT = std::tuple<stan::math::var_value<double, void>, stan::math::var_value<double, void>, stan::math::var_value<double, void>, stan::math::var_value<double, void> >]’:\n",
      "/opt/mamba/lib/python3.10/site-packages/httpstan/include/stan/math/prim/fun/grad_2F1.hpp:307:57:   required from ‘auto stan::math::grad_2F1(const T1&, const T2&, const T3&, const T_z&, double, int) [with bool ReturnSameT = true; T1 = stan::math::var_value<double>; T2 = stan::math::var_value<double>; T3 = stan::math::var_value<double>; T_z = stan::math::var_value<double>; stan::require_t<std::integral_constant<bool, __v> >* <anonymous> = 0]’\n",
      "/opt/mamba/lib/python3.10/site-packages/httpstan/include/stan/math/rev/fun/grad_inc_beta.hpp:49:25:   required from here\n",
      "/opt/mamba/lib/python3.10/site-packages/httpstan/include/stan/math/prim/fun/grad_2F1.hpp:192:12: warning: variable ‘pre_mult’ set but not used [-Wunused-but-set-variable]\n",
      "/home/onyxia/.cache/httpstan/4.9.1/models/v47afgoa/model_v47afgoa.cpp: In instantiation of ‘void model_v47afgoa_namespace::model_v47afgoa::transform_inits_impl(VecVar&, VecI&, VecVar&, std::ostream*) const [with VecVar = std::vector<double, std::allocator<double> >; VecI = std::vector<int>; stan::require_vector_t<T_y>* <anonymous> = 0; stan::require_vector_like_vt<std::is_integral, VecI>* <anonymous> = 0; std::ostream = std::basic_ostream<char>]’:\n",
      "/home/onyxia/.cache/httpstan/4.9.1/models/v47afgoa/model_v47afgoa.cpp:513:26:   required from here\n",
      "/home/onyxia/.cache/httpstan/4.9.1/models/v47afgoa/model_v47afgoa.cpp:324:11: warning: variable ‘pos__’ set but not used [-Wunused-but-set-variable]\n",
      "  324 |       int pos__ = std::numeric_limits<int>::min();\n",
      "      |           ^~~~~\n",
      "In file included from /opt/mamba/lib/python3.10/site-packages/httpstan/include/stan/math/prim/fun.hpp:124,\n",
      "                 from /opt/mamba/lib/python3.10/site-packages/httpstan/include/stan/math/rev/fun/multiply.hpp:7,\n",
      "                 from /opt/mamba/lib/python3.10/site-packages/httpstan/include/stan/math/rev/fun/elt_multiply.hpp:9,\n",
      "                 from /opt/mamba/lib/python3.10/site-packages/httpstan/include/stan/math/rev/fun.hpp:55,\n",
      "                 from /opt/mamba/lib/python3.10/site-packages/httpstan/include/stan/math/rev.hpp:10,\n",
      "                 from /opt/mamba/lib/python3.10/site-packages/httpstan/include/stan/math.hpp:19,\n",
      "                 from /opt/mamba/lib/python3.10/site-packages/httpstan/include/stan/model/model_header.hpp:4,\n",
      "                 from /home/onyxia/.cache/httpstan/4.9.1/models/v47afgoa/model_v47afgoa.cpp:2:\n",
      "/opt/mamba/lib/python3.10/site-packages/httpstan/include/stan/math/prim/fun/grad_2F1.hpp: In instantiation of ‘TupleT stan::math::internal::grad_2F1_impl_ab(const T1&, const T2&, const T3&, const T_z&, double, int) [with bool calc_a1 = true; bool calc_a2 = true; bool calc_b1 = true; T1 = double; T2 = double; T3 = double; T_z = double; ScalarT = double; TupleT = std::tuple<double, double, double>]’:\n",
      "/opt/mamba/lib/python3.10/site-packages/httpstan/include/stan/math/prim/fun/grad_2F1.hpp:205:78:   required from ‘TupleT stan::math::internal::grad_2F1_impl(const T1&, const T2&, const T3&, const T_z&, double, int) [with bool calc_a1 = true; bool calc_a2 = true; bool calc_b1 = true; bool calc_z = true; T1 = double; T2 = double; T3 = double; T_z = double; ScalarT = double; TupleT = std::tuple<double, double, double, double>]’\n",
      "/opt/mamba/lib/python3.10/site-packages/httpstan/include/stan/math/prim/fun/grad_2F1.hpp:307:57:   required from ‘auto stan::math::grad_2F1(const T1&, const T2&, const T3&, const T_z&, double, int) [with bool ReturnSameT = true; T1 = double; T2 = double; T3 = double; T_z = double; stan::require_t<std::integral_constant<bool, __v> >* <anonymous> = 0]’\n",
      "/opt/mamba/lib/python3.10/site-packages/httpstan/include/stan/math/prim/fun/grad_inc_beta.hpp:37:25:   required from here\n",
      "/opt/mamba/lib/python3.10/site-packages/httpstan/include/stan/math/prim/fun/grad_2F1.hpp:68:10: warning: unused variable ‘log_precision’ [-Wunused-variable]\n",
      "   68 |   double log_precision = log(precision);\n",
      "      |          ^~~~~~~~~~~~~\n",
      "/opt/mamba/lib/python3.10/site-packages/httpstan/include/stan/math/prim/fun/grad_2F1.hpp: In instantiation of ‘TupleT stan::math::internal::grad_2F1_impl_ab(const T1&, const T2&, const T3&, const T_z&, double, int) [with bool calc_a1 = true; bool calc_a2 = true; bool calc_b1 = true; T1 = stan::math::var_value<double>; T2 = stan::math::var_value<double>; T3 = stan::math::var_value<double>; T_z = stan::math::var_value<double>; ScalarT = stan::math::var_value<double>; TupleT = std::tuple<stan::math::var_value<double, void>, stan::math::var_value<double, void>, stan::math::var_value<double, void> >]’:\n",
      "/opt/mamba/lib/python3.10/site-packages/httpstan/include/stan/math/prim/fun/grad_2F1.hpp:205:78:   required from ‘TupleT stan::math::internal::grad_2F1_impl(const T1&, const T2&, const T3&, const T_z&, double, int) [with bool calc_a1 = true; bool calc_a2 = true; bool calc_b1 = true; bool calc_z = true; T1 = stan::math::var_value<double>; T2 = stan::math::var_value<double>; T3 = stan::math::var_value<double>; T_z = stan::math::var_value<double>; ScalarT = stan::math::var_value<double>; TupleT = std::tuple<stan::math::var_value<double, void>, stan::math::var_value<double, void>, stan::math::var_value<double, void>, stan::math::var_value<double, void> >]’\n",
      "/opt/mamba/lib/python3.10/site-packages/httpstan/include/stan/math/prim/fun/grad_2F1.hpp:307:57:   required from ‘auto stan::math::grad_2F1(const T1&, const T2&, const T3&, const T_z&, double, int) [with bool ReturnSameT = true; T1 = stan::math::var_value<double>; T2 = stan::math::var_value<double>; T3 = stan::math::var_value<double>; T_z = stan::math::var_value<double>; stan::require_t<std::integral_constant<bool, __v> >* <anonymous> = 0]’\n",
      "/opt/mamba/lib/python3.10/site-packages/httpstan/include/stan/math/rev/fun/grad_inc_beta.hpp:49:25:   required from here\n",
      "/opt/mamba/lib/python3.10/site-packages/httpstan/include/stan/math/prim/fun/grad_2F1.hpp:68:10: warning: unused variable ‘log_precision’ [-Wunused-variable]\n",
      "/home/onyxia/.cache/httpstan/4.9.1/models/v47afgoa/model_v47afgoa.cpp: In instantiation of ‘void model_v47afgoa_namespace::model_v47afgoa::write_array_impl(RNG&, VecR&, VecI&, VecVar&, bool, bool, std::ostream*) const [with RNG = boost::random::additive_combine_engine<boost::random::linear_congruential_engine<unsigned int, 40014, 0, 2147483563>, boost::random::linear_congruential_engine<unsigned int, 40692, 0, 2147483399> >; VecR = Eigen::Matrix<double, -1, 1>; VecI = std::vector<int>; VecVar = Eigen::Matrix<double, -1, 1>; stan::require_vector_like_vt<std::is_floating_point, VecR>* <anonymous> = 0; stan::require_vector_like_vt<std::is_integral, VecI>* <anonymous> = 0; stan::require_vector_vt<std::is_floating_point, VecVar>* <anonymous> = 0; std::ostream = std::basic_ostream<char>]’:\n",
      "/home/onyxia/.cache/httpstan/4.9.1/models/v47afgoa/model_v47afgoa.cpp:443:23:   required from ‘void model_v47afgoa_namespace::model_v47afgoa::write_array(RNG&, Eigen::Matrix<double, -1, 1>&, Eigen::Matrix<double, -1, 1>&, bool, bool, std::ostream*) const [with RNG = boost::random::additive_combine_engine<boost::random::linear_congruential_engine<unsigned int, 40014, 0, 2147483563>, boost::random::linear_congruential_engine<unsigned int, 40692, 0, 2147483399> >; std::ostream = std::basic_ostream<char>]’\n",
      "/opt/mamba/lib/python3.10/site-packages/httpstan/include/stan/model/model_base_crtp.hpp:140:61:   required from ‘void stan::model::model_base_crtp<M>::write_array(boost::random::ecuyer1988&, Eigen::VectorXd&, Eigen::VectorXd&, bool, bool, std::ostream*) const [with M = model_v47afgoa_namespace::model_v47afgoa; boost::random::ecuyer1988 = boost::random::additive_combine_engine<boost::random::linear_congruential_engine<unsigned int, 40014, 0, 2147483563>, boost::random::linear_congruential_engine<unsigned int, 40692, 0, 2147483399> >; Eigen::VectorXd = Eigen::Matrix<double, -1, 1>; std::ostream = std::basic_ostream<char>]’\n",
      "/opt/mamba/lib/python3.10/site-packages/httpstan/include/stan/model/model_base_crtp.hpp:136:8:   required from here\n",
      "/home/onyxia/.cache/httpstan/4.9.1/models/v47afgoa/model_v47afgoa.cpp:251:20: warning: unused variable ‘jacobian__’ [-Wunused-variable]\n",
      "  251 |     constexpr bool jacobian__ = false;\n",
      "      |                    ^~~~~~~~~~\n",
      "/home/onyxia/.cache/httpstan/4.9.1/models/v47afgoa/model_v47afgoa.cpp: In instantiation of ‘void model_v47afgoa_namespace::model_v47afgoa::write_array_impl(RNG&, VecR&, VecI&, VecVar&, bool, bool, std::ostream*) const [with RNG = boost::random::additive_combine_engine<boost::random::linear_congruential_engine<unsigned int, 40014, 0, 2147483563>, boost::random::linear_congruential_engine<unsigned int, 40692, 0, 2147483399> >; VecR = std::vector<double, std::allocator<double> >; VecI = std::vector<int>; VecVar = std::vector<double, std::allocator<double> >; stan::require_vector_like_vt<std::is_floating_point, VecR>* <anonymous> = 0; stan::require_vector_like_vt<std::is_integral, VecI>* <anonymous> = 0; stan::require_vector_vt<std::is_floating_point, VecVar>* <anonymous> = 0; std::ostream = std::basic_ostream<char>]’:\n",
      "/home/onyxia/.cache/httpstan/4.9.1/models/v47afgoa/model_v47afgoa.cpp:463:23:   required from ‘void model_v47afgoa_namespace::model_v47afgoa::write_array(RNG&, std::vector<double, std::allocator<double> >&, std::vector<int>&, std::vector<double, std::allocator<double> >&, bool, bool, std::ostream*) const [with RNG = boost::random::additive_combine_engine<boost::random::linear_congruential_engine<unsigned int, 40014, 0, 2147483563>, boost::random::linear_congruential_engine<unsigned int, 40692, 0, 2147483399> >; std::ostream = std::basic_ostream<char>]’\n",
      "/opt/mamba/lib/python3.10/site-packages/httpstan/include/stan/model/model_base_crtp.hpp:202:61:   required from ‘void stan::model::model_base_crtp<M>::write_array(boost::random::ecuyer1988&, std::vector<double, std::allocator<double> >&, std::vector<int>&, std::vector<double, std::allocator<double> >&, bool, bool, std::ostream*) const [with M = model_v47afgoa_namespace::model_v47afgoa; boost::random::ecuyer1988 = boost::random::additive_combine_engine<boost::random::linear_congruential_engine<unsigned int, 40014, 0, 2147483563>, boost::random::linear_congruential_engine<unsigned int, 40692, 0, 2147483399> >; std::ostream = std::basic_ostream<char>]’\n",
      "/opt/mamba/lib/python3.10/site-packages/httpstan/include/stan/model/model_base_crtp.hpp:198:8:   required from here\n",
      "/home/onyxia/.cache/httpstan/4.9.1/models/v47afgoa/model_v47afgoa.cpp:251:20: warning: unused variable ‘jacobian__’ [-Wunused-variable]\n"
     ]
    },
    {
     "name": "stdout",
     "output_type": "stream",
     "text": [
      "\n"
     ]
    },
    {
     "name": "stderr",
     "output_type": "stream",
     "text": [
      "\n",
      "Building: 16.3s, done.Messages from stanc:\n",
      "Warning in '/tmp/httpstan_rusmeyy8/model_v47afgoa.stan', line 4, column 2: Declaration\n",
      "    of arrays by placing brackets after a variable name is deprecated and\n",
      "    will be removed in Stan 2.32.0. Instead use the array keyword before the\n",
      "    type. This can be changed automatically using the auto-format flag to\n",
      "    stanc\n",
      "Warning: The parameter reciprocal_sigma has no priors. This means either no\n",
      "    prior is provided, or the prior(s) depend on data variables. In the later\n",
      "    case, this may be a false positive.\n"
     ]
    },
    {
     "ename": "RuntimeError",
     "evalue": "Error calling get_param_names: `Exception: mismatch in number dimensions declared and found in context; processing stage=data initialization; variable name=theta; dims declared=(46); dims found=(46,4000) (in '/tmp/httpstan_sjhob61_/model_v47afgoa.stan', line 7, column 2 to column 18)`",
     "output_type": "error",
     "traceback": [
      "\u001b[0;31m---------------------------------------------------------------------------\u001b[0m",
      "\u001b[0;31mRuntimeError\u001b[0m                              Traceback (most recent call last)",
      "Cell \u001b[0;32mIn[20], line 10\u001b[0m\n\u001b[1;32m      1\u001b[0m Data \u001b[38;5;241m=\u001b[39m {\u001b[38;5;124m\"\u001b[39m\u001b[38;5;124my\u001b[39m\u001b[38;5;124m\"\u001b[39m: \u001b[38;5;28mlist\u001b[39m(df[\u001b[38;5;124m\"\u001b[39m\u001b[38;5;124mnew_virus_test\u001b[39m\u001b[38;5;124m\"\u001b[39m]),\n\u001b[1;32m      2\u001b[0m                 \u001b[38;5;124m\"\u001b[39m\u001b[38;5;124mN\u001b[39m\u001b[38;5;124m\"\u001b[39m: \u001b[38;5;28mlen\u001b[39m(y),\n\u001b[1;32m      3\u001b[0m                 \u001b[38;5;124m\"\u001b[39m\u001b[38;5;124mX\u001b[39m\u001b[38;5;124m\"\u001b[39m: mat_design,\n\u001b[0;32m   (...)\u001b[0m\n\u001b[1;32m      6\u001b[0m                 \u001b[38;5;124m\"\u001b[39m\u001b[38;5;124mreciprocal_sigma_scale\u001b[39m\u001b[38;5;124m\"\u001b[39m : \u001b[38;5;241m0.5\u001b[39m\n\u001b[1;32m      7\u001b[0m        }\n\u001b[0;32m---> 10\u001b[0m posterior \u001b[38;5;241m=\u001b[39m \u001b[43mstan\u001b[49m\u001b[38;5;241;43m.\u001b[39;49m\u001b[43mbuild\u001b[49m\u001b[43m(\u001b[49m\u001b[43mModel\u001b[49m\u001b[43m,\u001b[49m\u001b[43m \u001b[49m\u001b[43mdata\u001b[49m\u001b[38;5;241;43m=\u001b[39;49m\u001b[43mData\u001b[49m\u001b[43m)\u001b[49m\n\u001b[1;32m     11\u001b[0m fit \u001b[38;5;241m=\u001b[39m posterior\u001b[38;5;241m.\u001b[39msample(num_chains\u001b[38;5;241m=\u001b[39m\u001b[38;5;241m4\u001b[39m, num_samples\u001b[38;5;241m=\u001b[39m\u001b[38;5;241m1000\u001b[39m)\n\u001b[1;32m     12\u001b[0m df2 \u001b[38;5;241m=\u001b[39m fit\u001b[38;5;241m.\u001b[39mto_frame()  \u001b[38;5;66;03m# pandas `DataFrame`\u001b[39;00m\n",
      "File \u001b[0;32m/opt/mamba/lib/python3.10/site-packages/stan/model.py:519\u001b[0m, in \u001b[0;36mbuild\u001b[0;34m(program_code, data, random_seed)\u001b[0m\n\u001b[1;32m    516\u001b[0m         \u001b[38;5;28;01mreturn\u001b[39;00m Model(model_name, program_code, data, param_names, constrained_param_names, dims, random_seed)\n\u001b[1;32m    518\u001b[0m \u001b[38;5;28;01mtry\u001b[39;00m:\n\u001b[0;32m--> 519\u001b[0m     \u001b[38;5;28;01mreturn\u001b[39;00m \u001b[43masyncio\u001b[49m\u001b[38;5;241;43m.\u001b[39;49m\u001b[43mrun\u001b[49m\u001b[43m(\u001b[49m\u001b[43mgo\u001b[49m\u001b[43m(\u001b[49m\u001b[43m)\u001b[49m\u001b[43m)\u001b[49m\n\u001b[1;32m    520\u001b[0m \u001b[38;5;28;01mexcept\u001b[39;00m \u001b[38;5;167;01mKeyboardInterrupt\u001b[39;00m:\n\u001b[1;32m    521\u001b[0m     \u001b[38;5;28;01mreturn\u001b[39;00m\n",
      "File \u001b[0;32m/opt/mamba/lib/python3.10/site-packages/nest_asyncio.py:35\u001b[0m, in \u001b[0;36m_patch_asyncio.<locals>.run\u001b[0;34m(main, debug)\u001b[0m\n\u001b[1;32m     33\u001b[0m task \u001b[38;5;241m=\u001b[39m asyncio\u001b[38;5;241m.\u001b[39mensure_future(main)\n\u001b[1;32m     34\u001b[0m \u001b[38;5;28;01mtry\u001b[39;00m:\n\u001b[0;32m---> 35\u001b[0m     \u001b[38;5;28;01mreturn\u001b[39;00m \u001b[43mloop\u001b[49m\u001b[38;5;241;43m.\u001b[39;49m\u001b[43mrun_until_complete\u001b[49m\u001b[43m(\u001b[49m\u001b[43mtask\u001b[49m\u001b[43m)\u001b[49m\n\u001b[1;32m     36\u001b[0m \u001b[38;5;28;01mfinally\u001b[39;00m:\n\u001b[1;32m     37\u001b[0m     \u001b[38;5;28;01mif\u001b[39;00m \u001b[38;5;129;01mnot\u001b[39;00m task\u001b[38;5;241m.\u001b[39mdone():\n",
      "File \u001b[0;32m/opt/mamba/lib/python3.10/site-packages/nest_asyncio.py:90\u001b[0m, in \u001b[0;36m_patch_loop.<locals>.run_until_complete\u001b[0;34m(self, future)\u001b[0m\n\u001b[1;32m     87\u001b[0m \u001b[38;5;28;01mif\u001b[39;00m \u001b[38;5;129;01mnot\u001b[39;00m f\u001b[38;5;241m.\u001b[39mdone():\n\u001b[1;32m     88\u001b[0m     \u001b[38;5;28;01mraise\u001b[39;00m \u001b[38;5;167;01mRuntimeError\u001b[39;00m(\n\u001b[1;32m     89\u001b[0m         \u001b[38;5;124m'\u001b[39m\u001b[38;5;124mEvent loop stopped before Future completed.\u001b[39m\u001b[38;5;124m'\u001b[39m)\n\u001b[0;32m---> 90\u001b[0m \u001b[38;5;28;01mreturn\u001b[39;00m \u001b[43mf\u001b[49m\u001b[38;5;241;43m.\u001b[39;49m\u001b[43mresult\u001b[49m\u001b[43m(\u001b[49m\u001b[43m)\u001b[49m\n",
      "File \u001b[0;32m/opt/mamba/lib/python3.10/asyncio/futures.py:201\u001b[0m, in \u001b[0;36mFuture.result\u001b[0;34m(self)\u001b[0m\n\u001b[1;32m    199\u001b[0m \u001b[38;5;28mself\u001b[39m\u001b[38;5;241m.\u001b[39m__log_traceback \u001b[38;5;241m=\u001b[39m \u001b[38;5;28;01mFalse\u001b[39;00m\n\u001b[1;32m    200\u001b[0m \u001b[38;5;28;01mif\u001b[39;00m \u001b[38;5;28mself\u001b[39m\u001b[38;5;241m.\u001b[39m_exception \u001b[38;5;129;01mis\u001b[39;00m \u001b[38;5;129;01mnot\u001b[39;00m \u001b[38;5;28;01mNone\u001b[39;00m:\n\u001b[0;32m--> 201\u001b[0m     \u001b[38;5;28;01mraise\u001b[39;00m \u001b[38;5;28mself\u001b[39m\u001b[38;5;241m.\u001b[39m_exception\u001b[38;5;241m.\u001b[39mwith_traceback(\u001b[38;5;28mself\u001b[39m\u001b[38;5;241m.\u001b[39m_exception_tb)\n\u001b[1;32m    202\u001b[0m \u001b[38;5;28;01mreturn\u001b[39;00m \u001b[38;5;28mself\u001b[39m\u001b[38;5;241m.\u001b[39m_result\n",
      "File \u001b[0;32m/opt/mamba/lib/python3.10/asyncio/tasks.py:232\u001b[0m, in \u001b[0;36mTask.__step\u001b[0;34m(***failed resolving arguments***)\u001b[0m\n\u001b[1;32m    228\u001b[0m \u001b[38;5;28;01mtry\u001b[39;00m:\n\u001b[1;32m    229\u001b[0m     \u001b[38;5;28;01mif\u001b[39;00m exc \u001b[38;5;129;01mis\u001b[39;00m \u001b[38;5;28;01mNone\u001b[39;00m:\n\u001b[1;32m    230\u001b[0m         \u001b[38;5;66;03m# We use the `send` method directly, because coroutines\u001b[39;00m\n\u001b[1;32m    231\u001b[0m         \u001b[38;5;66;03m# don't have `__iter__` and `__next__` methods.\u001b[39;00m\n\u001b[0;32m--> 232\u001b[0m         result \u001b[38;5;241m=\u001b[39m \u001b[43mcoro\u001b[49m\u001b[38;5;241;43m.\u001b[39;49m\u001b[43msend\u001b[49m\u001b[43m(\u001b[49m\u001b[38;5;28;43;01mNone\u001b[39;49;00m\u001b[43m)\u001b[49m\n\u001b[1;32m    233\u001b[0m     \u001b[38;5;28;01melse\u001b[39;00m:\n\u001b[1;32m    234\u001b[0m         result \u001b[38;5;241m=\u001b[39m coro\u001b[38;5;241m.\u001b[39mthrow(exc)\n",
      "File \u001b[0;32m/opt/mamba/lib/python3.10/site-packages/stan/model.py:511\u001b[0m, in \u001b[0;36mbuild.<locals>.go\u001b[0;34m()\u001b[0m\n\u001b[1;32m    509\u001b[0m resp \u001b[38;5;241m=\u001b[39m \u001b[38;5;28;01mawait\u001b[39;00m client\u001b[38;5;241m.\u001b[39mpost(\u001b[38;5;124mf\u001b[39m\u001b[38;5;124m\"\u001b[39m\u001b[38;5;124m/\u001b[39m\u001b[38;5;132;01m{\u001b[39;00mmodel_name\u001b[38;5;132;01m}\u001b[39;00m\u001b[38;5;124m/params\u001b[39m\u001b[38;5;124m\"\u001b[39m, json\u001b[38;5;241m=\u001b[39m{\u001b[38;5;124m\"\u001b[39m\u001b[38;5;124mdata\u001b[39m\u001b[38;5;124m\"\u001b[39m: data})\n\u001b[1;32m    510\u001b[0m \u001b[38;5;28;01mif\u001b[39;00m resp\u001b[38;5;241m.\u001b[39mstatus \u001b[38;5;241m!=\u001b[39m \u001b[38;5;241m200\u001b[39m:\n\u001b[0;32m--> 511\u001b[0m     \u001b[38;5;28;01mraise\u001b[39;00m \u001b[38;5;167;01mRuntimeError\u001b[39;00m(resp\u001b[38;5;241m.\u001b[39mjson()[\u001b[38;5;124m\"\u001b[39m\u001b[38;5;124mmessage\u001b[39m\u001b[38;5;124m\"\u001b[39m])\n\u001b[1;32m    512\u001b[0m params_list \u001b[38;5;241m=\u001b[39m resp\u001b[38;5;241m.\u001b[39mjson()[\u001b[38;5;124m\"\u001b[39m\u001b[38;5;124mparams\u001b[39m\u001b[38;5;124m\"\u001b[39m]\n\u001b[1;32m    513\u001b[0m \u001b[38;5;28;01massert\u001b[39;00m \u001b[38;5;28mlen\u001b[39m({param[\u001b[38;5;124m\"\u001b[39m\u001b[38;5;124mname\u001b[39m\u001b[38;5;124m\"\u001b[39m] \u001b[38;5;28;01mfor\u001b[39;00m param \u001b[38;5;129;01min\u001b[39;00m params_list}) \u001b[38;5;241m==\u001b[39m \u001b[38;5;28mlen\u001b[39m(params_list)\n",
      "\u001b[0;31mRuntimeError\u001b[0m: Error calling get_param_names: `Exception: mismatch in number dimensions declared and found in context; processing stage=data initialization; variable name=theta; dims declared=(46); dims found=(46,4000) (in '/tmp/httpstan_sjhob61_/model_v47afgoa.stan', line 7, column 2 to column 18)`"
     ]
    }
   ],
   "source": [
    "%%capture\n",
    "Data = {\"y\": list(df[\"new_virus_test\"]),\n",
    "                \"N\": len(y),\n",
    "                \"X\": mat_design,\n",
    "                \"K\" : mat_design.shape[1],\n",
    "                \"theta\" : theta,\n",
    "                \"reciprocal_sigma_scale\" : 0.5\n",
    "       }\n",
    "\n",
    "\n",
    "posterior = stan.build(Model, data=Data)\n",
    "fit = posterior.sample(num_chains=4, num_samples=1000)\n",
    "df2 = fit.to_frame()  # pandas `DataFrame`"
   ]
  },
  {
   "cell_type": "code",
   "execution_count": null,
   "id": "90a87902-ebbc-4602-81a4-2c0c1828862b",
   "metadata": {
    "tags": []
   },
   "outputs": [],
   "source": [
    "print(fit)"
   ]
  },
  {
   "cell_type": "code",
   "execution_count": 21,
   "id": "e182f300-94dd-414f-8a18-01e782ec049f",
   "metadata": {
    "tags": []
   },
   "outputs": [
    {
     "data": {
      "text/plain": [
       "array([[ 5.26091583e+07, -1.01716631e+07,  5.38971421e+07, ...,\n",
       "        -6.05182041e+07,  2.15345837e+08, -7.04405137e+07],\n",
       "       [-9.25278179e+03,  1.50775887e+04,  8.59727991e+03, ...,\n",
       "         4.37327144e+03,  1.28085904e+04,  1.22705830e+04],\n",
       "       [-1.36559318e+07,  9.54572746e+06,  2.10485088e+07, ...,\n",
       "         1.80489983e+08, -5.04055901e+07,  3.14713610e+07],\n",
       "       ...,\n",
       "       [-3.04185088e+04,  1.52683682e+04,  2.92309178e+04, ...,\n",
       "         1.35634643e+04,  2.57852315e+04, -2.18393015e+04],\n",
       "       [-1.51591600e+04,  8.98459535e+03,  2.55630151e+04, ...,\n",
       "        -1.43579174e+04, -1.88370444e+04, -1.63623767e+04],\n",
       "       [ 1.73866282e+04, -1.37595081e+04, -1.70250924e+04, ...,\n",
       "         7.72183099e+03, -2.32435038e+04,  1.82633274e+04]])"
      ]
     },
     "execution_count": 21,
     "metadata": {},
     "output_type": "execute_result"
    }
   ],
   "source": [
    "beta"
   ]
  },
  {
   "cell_type": "code",
   "execution_count": null,
   "id": "db7b0fb8-075f-4236-b893-aceb58b6b262",
   "metadata": {},
   "outputs": [],
   "source": []
  }
 ],
 "metadata": {
  "kernelspec": {
   "display_name": "Python 3 (ipykernel)",
   "language": "python",
   "name": "python3"
  },
  "language_info": {
   "codemirror_mode": {
    "name": "ipython",
    "version": 3
   },
   "file_extension": ".py",
   "mimetype": "text/x-python",
   "name": "python",
   "nbconvert_exporter": "python",
   "pygments_lexer": "ipython3",
   "version": "3.9.12"
  }
 },
 "nbformat": 4,
 "nbformat_minor": 5
}
