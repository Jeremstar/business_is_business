{
 "cells": [
  {
   "cell_type": "markdown",
   "id": "bf9bccbe-f262-433f-a5f8-2e39025adba3",
   "metadata": {
    "tags": []
   },
   "source": [
    "---\n",
    "# **La Hiérarchie du Covid :**\n",
    "## *Application d'un modèle hiérarchique bayésien dans le cas du Covid*\n",
    "---\n",
    "\n",
    "Jérémi Bornet, Paul Dupire, Simon Genet"
   ]
  },
  {
   "cell_type": "markdown",
   "id": "1730882c-c013-4b1a-ac5c-a337e7a8c298",
   "metadata": {
    "tags": []
   },
   "source": [
    "# Introduction "
   ]
  },
  {
   "cell_type": "markdown",
   "id": "11294069-708f-4786-97a5-9fcd45c4829c",
   "metadata": {},
   "source": [
    "Le projet vise à créer un modèle hiérarchique de série temporelle à partir des données ralatives à la pandémie de Covid au Royaume-Unie. Ce modèle vise à prédire in fine le nombre de morts après 60 jours d'un test positifs. Nous disposons de 3 variables : le nombre de test par jour (**new_virus_test**), le nombre de test positif par jour (**daily_cases**) et le nombre de morts au bout de 60 jours après un test positif (**new_deaths_60days**). Nous disposons de 1065 données (J). "
   ]
  },
  {
   "cell_type": "markdown",
   "id": "3b33f927-52d7-4492-bf6d-f820e0bb59e5",
   "metadata": {
    "tags": []
   },
   "source": [
    "# Le Modèle \n",
    "\n",
    "Le modèle correspond de manière simplifiée à celui présenté par Monsieur Benjamin Riu dans le cadre du séminaire de modélisation statistique. Notre modèle sera constitué de 3 niveaux et portera sur nos trois variables dont vous trouverez ci-dessous les correspondances avec celles du mémoire de M. Riu : \n",
    "\n",
    "- **$S_{j}$** : le nombre de test (**new_virus_test**) pour le jour j $ \\in $ $J$ = 1065  qui correspond au nombre de session dans le mémoire ; \n",
    "- **$T_{j}$** : le nombre de test positif (**daily_cases**)  pour le jour j $ \\in $  $J$ = 1065 qui correspond au nombre de transaction ;\n",
    "- **$R_{j}$** : le nombre de morts au bout de 60 jours après un test positif (**new_deaths_60days**) pour le jour j $ \\in $  $J$ = 1065 qui correspond au revenu. \n",
    "\n",
    "Contrairement au modèle de M. Riu nous ne disposons pas de 3 types de produits ( $H$ = 1) "
   ]
  },
  {
   "cell_type": "markdown",
   "id": "18885b40-3dc0-4dcc-878a-6dbaedb62da8",
   "metadata": {},
   "source": [
    "## Matrice design (mat_design)\n",
    "\n",
    "Nous reprenons ici la méthodologie décrite par M. Riu en transformant la date littérale en un jour j, puis nous introduisons le même vecteur temporel rendant compte de la tendance linéaire, la saisonalité hebdomadaire de période $\\tau_{1}$ = 7 et la saisonalité annuelle de période $\\tau_{2}$ = 365,25. On note : \n",
    "\n",
    "$x_{j} = (x_{j}^0,..., x_{j}^{P^*})^T$\n",
    "\n",
    "où $P^*$ = 45 \n",
    "\n",
    "- Soit $x_{j}^0$ = 1 qui correspond à l'intercept : point de départ ou facteur de mise à l'échelle;\n",
    "- Soit $x_{j}^1 = \\frac{j}{365 \\times 3}$ qui correspond à la tendance linéaire. Nous avons gardé car nos données sont à peu près sur 3 ans;\n",
    "- Pour décrire les évolutions hebdomadaires, nous reprenons les résultats des séries de Fourier du mémoire : pour $l = 2,...,8$ on a $x_{j}^l = \\cos{\\frac{2\\pi(l-2)j}{\\tau_{1}}}$ ; et pour $l = 9,...,15$, on a on a $x_{j}^l = \\sin{\\frac{2\\pi(l-9)j}{\\tau_{1}}}$;\n",
    "- De même pour décrire les évolutions annuelles, nous reprenons les résultats des séries de Fourier du mémoire : pour $l = 16,...,30$ on a $x_{j}^l = \\cos{\\frac{2\\pi(l-16)j}{\\tau_{2}}}$ ; et pour $l = 31,...,45$, on a on a $x_{j}^l = \\sin{\\frac{2\\pi(l-31)j}{\\tau_{2}}}$ .\n",
    "\n",
    "\n",
    "Nous obtenons ainsi une matrice $X_{j}$  de taille $J \\times P$ avec $P = P^* + 1$  telle que : \n",
    " $X_{J} = \\pmatrix{x_{0}^T \\\\ x_{1}^T \\\\ ... \\\\ x_{J}^T}$.\n"
   ]
  },
  {
   "cell_type": "markdown",
   "id": "c61f6a12-ffb4-46ba-8b8f-6340af7d5632",
   "metadata": {},
   "source": [
    "## Nos trois régressions \n",
    "\n",
    "Notre modèle est constitué de 3 niveaux différents qui reprennent les mêmes lois que M. Riu et que nous adaptons dans cette partie. "
   ]
  },
  {
   "cell_type": "markdown",
   "id": "af1d7311-d46c-402e-930b-ccd8017413e5",
   "metadata": {},
   "source": [
    "### Régression 1 (R1) : Modèle Binomiale-négative-log\n",
    "\n",
    "Le modèle R1 permet de modéliser le nombre de test par jour $S_{j}$, à partir de la matrice design $X_{J}$. Soit $S_{j}$ $ \\in \\mathbb{N}$ le nombre de test par jour on pose similéairement au mémoire : \n",
    "\n",
    "\n",
    "<div style=\"text-align:center;\"> $\\mu_{j}^{(1)}:= exp( x_{j}^T \\theta^{(1)})$ </div>\n",
    "\n",
    "<div style=\"text-align:center;\"> $S_{j} \\sim negbin( \\mu_{j}^{(1)}, \\sigma^{(1)})$ </div>\n",
    "\n",
    "où $\\theta^{(1)} \\in \\mathbb{R}^P$ et $\\sigma^{(1)} \\in \\mathbb{R}_{+}^*$ sont des paramètres à estimer. \n",
    "\n",
    "Pour trouver $\\hat{\\theta^{(1)}}$ de $\\theta^{(1)}$, nous réalisons une régression linéaire classique de $S$ sur $X_{J}$ :\n",
    "\n",
    "<div style=\"text-align:center;\"> $\\log{(\\hat{S})} = \\hat{\\beta} \\log{(X_{J})} + \\hat{\\epsilon}$ </div>\n",
    "\n",
    "On obtient ainsi $\\hat{\\theta^{(1)}} = \\hat{\\beta} \\in \\mathbb{R}^P$ que l'on peut ensuite injecter dans notre modèle.\n",
    "\n",
    "Pour $\\sigma^{(1)} \\in \\mathbb{R}_{+}^*$, on se reporte au mémoire en sélectionnant un tel que  $\\frac{1}{\\sigma^{(1)}} \\sim \\mathcal{N}(0,\\, 0.5), \\, \\sigma^{(1)} > 0 $.\n"
   ]
  },
  {
   "cell_type": "markdown",
   "id": "8749a321-47f3-47d4-b63e-d28bf83d6a1e",
   "metadata": {},
   "source": [
    "### Régression 2 (R2) : Modèle Bétabinomiale-logit\n",
    "\n",
    "Le modèle R2 permet de modéliser le nombre de test positif par jour $T_{j}$, à partir de la matrice design $X_{J}$ et des valeurs des $S_{j}$  provenant de la première régression. Soit $T_{j} \\in [0 , \\, ... , \\, S_{j}]$ le nombre de test positif par jour, on pose similéairement au mémoire : \n",
    "\n",
    "\n",
    "\n",
    "<div style=\"text-align:center;\"> $\\mu_{j}^{(2)}:= \\frac{1}{1 + exp( - x_{j}^T \\theta^{(2)})}$ </div>\n",
    "<div style=\"text-align:center;\"> $\\alpha_{j}^{(2)}:= \\mu_{j}^{(2)} \\times  \\sigma^{(2)} $ </div>\n",
    "<div style=\"text-align:center;\"> $\\beta_{j}^{(2)}:= (1 - \\mu_{j}^{(2)}) \\times  \\sigma^{(2)} $ </div>\n",
    "\n",
    "<div style=\"text-align:center;\"> $T_{j} | S_{j} \\sim betabin(\\alpha_{j}^{(2)}, \\beta_{j}^{(2)}, S_{j})$ </div>\n",
    "\n",
    "\n",
    "\n",
    "où $\\theta^{(2)} \\in \\mathbb{R}^P$ et $\\sigma^{(2)} \\in \\mathbb{R}_{+}^*$ sont des paramètres à estimer. \n",
    "\n",
    "Pour trouver $\\hat{\\theta^{(2)}}$ de $\\theta^{(2)}$, nous réalisons une régression logit de $T$ sur $X_{J}$ :\n",
    "\n",
    "<div style=\"text-align:center;\"> $logit(\\hat{T}) = \\hat{\\beta} logit(X_{J}) + \\hat{\\epsilon}$ </div>\n",
    "\n",
    "On obtient ainsi $\\hat{\\theta^{(1)}} = \\hat{\\beta} \\in \\mathbb{R}^P$ que l'on peut ensuite injecter dans notre modèle.\n",
    "\n",
    "Pour $\\sigma^{(2)} \\in \\mathbb{R}_{+}^*$, on se reporte au mémoire en sélectionnant un tel que  $\\ln{(\\sigma^{(2)})} \\sim \\mathcal{N}(0,\\, 0.5), \\, \\sigma^{(2)} > 0 $.\n"
   ]
  },
  {
   "cell_type": "markdown",
   "id": "d8db7a14-7a5d-4b12-9758-6c7d4c706084",
   "metadata": {},
   "source": [
    "# Code \n",
    "\n",
    "A la demande de M. Riu nous utilisons la librairie pystan pour construire les modèles."
   ]
  },
  {
   "cell_type": "code",
   "execution_count": 1,
   "id": "f8b91a4b",
   "metadata": {
    "tags": []
   },
   "outputs": [],
   "source": [
    "%%capture\n",
    "!pip install prophet\n",
    "!pip install stan\n",
    "!pip install pystan\n",
    "!pip install nest_asyncio"
   ]
  },
  {
   "cell_type": "code",
   "execution_count": 2,
   "id": "9258f2f4",
   "metadata": {
    "tags": []
   },
   "outputs": [],
   "source": [
    "import pandas as pd\n",
    "from prophet import Prophet\n",
    "import numpy as np\n",
    "import math\n",
    "import matplotlib.pyplot as plt\n",
    "from sklearn.linear_model import LinearRegression\n",
    "import stan\n",
    "import nest_asyncio\n",
    "nest_asyncio.apply()"
   ]
  },
  {
   "cell_type": "markdown",
   "id": "151f72ac-8c95-48e9-b5c3-0f91a17644eb",
   "metadata": {},
   "source": [
    "## Préparation des données "
   ]
  },
  {
   "cell_type": "code",
   "execution_count": 3,
   "id": "2b0a6421",
   "metadata": {
    "tags": []
   },
   "outputs": [
    {
     "data": {
      "text/html": [
       "<div>\n",
       "<style scoped>\n",
       "    .dataframe tbody tr th:only-of-type {\n",
       "        vertical-align: middle;\n",
       "    }\n",
       "\n",
       "    .dataframe tbody tr th {\n",
       "        vertical-align: top;\n",
       "    }\n",
       "\n",
       "    .dataframe thead th {\n",
       "        text-align: right;\n",
       "    }\n",
       "</style>\n",
       "<table border=\"1\" class=\"dataframe\">\n",
       "  <thead>\n",
       "    <tr style=\"text-align: right;\">\n",
       "      <th></th>\n",
       "      <th>date</th>\n",
       "      <th>area_type</th>\n",
       "      <th>area_name</th>\n",
       "      <th>daily_cases</th>\n",
       "      <th>cum_cases</th>\n",
       "      <th>new_deaths_28days</th>\n",
       "      <th>cum_deaths_28days</th>\n",
       "      <th>new_deaths_60days</th>\n",
       "      <th>cum_deaths_60days</th>\n",
       "      <th>new_first_episode</th>\n",
       "      <th>...</th>\n",
       "      <th>new_third_dose</th>\n",
       "      <th>cum_third_dose</th>\n",
       "      <th>new_admissions</th>\n",
       "      <th>cum_admissions</th>\n",
       "      <th>hospital_cases</th>\n",
       "      <th>ventilator_beds</th>\n",
       "      <th>trans_rate_min</th>\n",
       "      <th>trans_rate_max</th>\n",
       "      <th>trans_growth_min</th>\n",
       "      <th>trans_growth_max</th>\n",
       "    </tr>\n",
       "  </thead>\n",
       "  <tbody>\n",
       "    <tr>\n",
       "      <th>0</th>\n",
       "      <td>2023-02-01</td>\n",
       "      <td>nation</td>\n",
       "      <td>England</td>\n",
       "      <td>1573.0</td>\n",
       "      <td>20535061.0</td>\n",
       "      <td>NaN</td>\n",
       "      <td>NaN</td>\n",
       "      <td>NaN</td>\n",
       "      <td>NaN</td>\n",
       "      <td>892.0</td>\n",
       "      <td>...</td>\n",
       "      <td>625.0</td>\n",
       "      <td>33356701.0</td>\n",
       "      <td>NaN</td>\n",
       "      <td>NaN</td>\n",
       "      <td>6055.0</td>\n",
       "      <td>136.0</td>\n",
       "      <td>NaN</td>\n",
       "      <td>NaN</td>\n",
       "      <td>NaN</td>\n",
       "      <td>NaN</td>\n",
       "    </tr>\n",
       "    <tr>\n",
       "      <th>1</th>\n",
       "      <td>2023-01-31</td>\n",
       "      <td>nation</td>\n",
       "      <td>England</td>\n",
       "      <td>2678.0</td>\n",
       "      <td>20533488.0</td>\n",
       "      <td>NaN</td>\n",
       "      <td>NaN</td>\n",
       "      <td>NaN</td>\n",
       "      <td>NaN</td>\n",
       "      <td>1564.0</td>\n",
       "      <td>...</td>\n",
       "      <td>587.0</td>\n",
       "      <td>33356076.0</td>\n",
       "      <td>NaN</td>\n",
       "      <td>NaN</td>\n",
       "      <td>6015.0</td>\n",
       "      <td>136.0</td>\n",
       "      <td>NaN</td>\n",
       "      <td>NaN</td>\n",
       "      <td>NaN</td>\n",
       "      <td>NaN</td>\n",
       "    </tr>\n",
       "    <tr>\n",
       "      <th>2</th>\n",
       "      <td>2023-01-30</td>\n",
       "      <td>nation</td>\n",
       "      <td>England</td>\n",
       "      <td>2886.0</td>\n",
       "      <td>20530810.0</td>\n",
       "      <td>30.0</td>\n",
       "      <td>180801.0</td>\n",
       "      <td>41.0</td>\n",
       "      <td>226052.0</td>\n",
       "      <td>1724.0</td>\n",
       "      <td>...</td>\n",
       "      <td>613.0</td>\n",
       "      <td>33355489.0</td>\n",
       "      <td>741.0</td>\n",
       "      <td>958745.0</td>\n",
       "      <td>5959.0</td>\n",
       "      <td>142.0</td>\n",
       "      <td>NaN</td>\n",
       "      <td>NaN</td>\n",
       "      <td>NaN</td>\n",
       "      <td>NaN</td>\n",
       "    </tr>\n",
       "    <tr>\n",
       "      <th>3</th>\n",
       "      <td>2023-01-29</td>\n",
       "      <td>nation</td>\n",
       "      <td>England</td>\n",
       "      <td>2118.0</td>\n",
       "      <td>20527924.0</td>\n",
       "      <td>44.0</td>\n",
       "      <td>180771.0</td>\n",
       "      <td>72.0</td>\n",
       "      <td>226011.0</td>\n",
       "      <td>1224.0</td>\n",
       "      <td>...</td>\n",
       "      <td>247.0</td>\n",
       "      <td>33354876.0</td>\n",
       "      <td>705.0</td>\n",
       "      <td>958004.0</td>\n",
       "      <td>5834.0</td>\n",
       "      <td>145.0</td>\n",
       "      <td>NaN</td>\n",
       "      <td>NaN</td>\n",
       "      <td>NaN</td>\n",
       "      <td>NaN</td>\n",
       "    </tr>\n",
       "    <tr>\n",
       "      <th>4</th>\n",
       "      <td>2023-01-28</td>\n",
       "      <td>nation</td>\n",
       "      <td>England</td>\n",
       "      <td>1711.0</td>\n",
       "      <td>20525806.0</td>\n",
       "      <td>47.0</td>\n",
       "      <td>180727.0</td>\n",
       "      <td>80.0</td>\n",
       "      <td>225939.0</td>\n",
       "      <td>1119.0</td>\n",
       "      <td>...</td>\n",
       "      <td>1326.0</td>\n",
       "      <td>33354629.0</td>\n",
       "      <td>562.0</td>\n",
       "      <td>957299.0</td>\n",
       "      <td>5750.0</td>\n",
       "      <td>140.0</td>\n",
       "      <td>NaN</td>\n",
       "      <td>NaN</td>\n",
       "      <td>NaN</td>\n",
       "      <td>NaN</td>\n",
       "    </tr>\n",
       "  </tbody>\n",
       "</table>\n",
       "<p>5 rows × 35 columns</p>\n",
       "</div>"
      ],
      "text/plain": [
       "         date area_type area_name  daily_cases   cum_cases  new_deaths_28days  \\\n",
       "0  2023-02-01    nation   England       1573.0  20535061.0                NaN   \n",
       "1  2023-01-31    nation   England       2678.0  20533488.0                NaN   \n",
       "2  2023-01-30    nation   England       2886.0  20530810.0               30.0   \n",
       "3  2023-01-29    nation   England       2118.0  20527924.0               44.0   \n",
       "4  2023-01-28    nation   England       1711.0  20525806.0               47.0   \n",
       "\n",
       "   cum_deaths_28days  new_deaths_60days  cum_deaths_60days  new_first_episode  \\\n",
       "0                NaN                NaN                NaN              892.0   \n",
       "1                NaN                NaN                NaN             1564.0   \n",
       "2           180801.0               41.0           226052.0             1724.0   \n",
       "3           180771.0               72.0           226011.0             1224.0   \n",
       "4           180727.0               80.0           225939.0             1119.0   \n",
       "\n",
       "   ...  new_third_dose  cum_third_dose  new_admissions  cum_admissions  \\\n",
       "0  ...           625.0      33356701.0             NaN             NaN   \n",
       "1  ...           587.0      33356076.0             NaN             NaN   \n",
       "2  ...           613.0      33355489.0           741.0        958745.0   \n",
       "3  ...           247.0      33354876.0           705.0        958004.0   \n",
       "4  ...          1326.0      33354629.0           562.0        957299.0   \n",
       "\n",
       "   hospital_cases  ventilator_beds  trans_rate_min  trans_rate_max  \\\n",
       "0          6055.0            136.0             NaN             NaN   \n",
       "1          6015.0            136.0             NaN             NaN   \n",
       "2          5959.0            142.0             NaN             NaN   \n",
       "3          5834.0            145.0             NaN             NaN   \n",
       "4          5750.0            140.0             NaN             NaN   \n",
       "\n",
       "   trans_growth_min  trans_growth_max  \n",
       "0               NaN               NaN  \n",
       "1               NaN               NaN  \n",
       "2               NaN               NaN  \n",
       "3               NaN               NaN  \n",
       "4               NaN               NaN  \n",
       "\n",
       "[5 rows x 35 columns]"
      ]
     },
     "execution_count": 3,
     "metadata": {},
     "output_type": "execute_result"
    }
   ],
   "source": [
    "df = pd.read_csv('https://raw.githubusercontent.com/Jeremstar/business_is_business/main/England_covid.csv')\n",
    "df.head()"
   ]
  },
  {
   "cell_type": "code",
   "execution_count": 4,
   "id": "d772ca04",
   "metadata": {
    "tags": []
   },
   "outputs": [
    {
     "data": {
      "text/html": [
       "<div>\n",
       "<style scoped>\n",
       "    .dataframe tbody tr th:only-of-type {\n",
       "        vertical-align: middle;\n",
       "    }\n",
       "\n",
       "    .dataframe tbody tr th {\n",
       "        vertical-align: top;\n",
       "    }\n",
       "\n",
       "    .dataframe thead th {\n",
       "        text-align: right;\n",
       "    }\n",
       "</style>\n",
       "<table border=\"1\" class=\"dataframe\">\n",
       "  <thead>\n",
       "    <tr style=\"text-align: right;\">\n",
       "      <th></th>\n",
       "      <th>date</th>\n",
       "      <th>new_deaths_60days</th>\n",
       "      <th>new_virus_test</th>\n",
       "      <th>daily_cases</th>\n",
       "    </tr>\n",
       "  </thead>\n",
       "  <tbody>\n",
       "    <tr>\n",
       "      <th>0</th>\n",
       "      <td>2023-02-01</td>\n",
       "      <td>NaN</td>\n",
       "      <td>20351</td>\n",
       "      <td>1573.0</td>\n",
       "    </tr>\n",
       "    <tr>\n",
       "      <th>1</th>\n",
       "      <td>2023-01-31</td>\n",
       "      <td>NaN</td>\n",
       "      <td>22623</td>\n",
       "      <td>2678.0</td>\n",
       "    </tr>\n",
       "    <tr>\n",
       "      <th>2</th>\n",
       "      <td>2023-01-30</td>\n",
       "      <td>41.0</td>\n",
       "      <td>24780</td>\n",
       "      <td>2886.0</td>\n",
       "    </tr>\n",
       "    <tr>\n",
       "      <th>3</th>\n",
       "      <td>2023-01-29</td>\n",
       "      <td>72.0</td>\n",
       "      <td>23254</td>\n",
       "      <td>2118.0</td>\n",
       "    </tr>\n",
       "    <tr>\n",
       "      <th>4</th>\n",
       "      <td>2023-01-28</td>\n",
       "      <td>80.0</td>\n",
       "      <td>24243</td>\n",
       "      <td>1711.0</td>\n",
       "    </tr>\n",
       "  </tbody>\n",
       "</table>\n",
       "</div>"
      ],
      "text/plain": [
       "         date  new_deaths_60days  new_virus_test  daily_cases\n",
       "0  2023-02-01                NaN           20351       1573.0\n",
       "1  2023-01-31                NaN           22623       2678.0\n",
       "2  2023-01-30               41.0           24780       2886.0\n",
       "3  2023-01-29               72.0           23254       2118.0\n",
       "4  2023-01-28               80.0           24243       1711.0"
      ]
     },
     "execution_count": 4,
     "metadata": {},
     "output_type": "execute_result"
    }
   ],
   "source": [
    "#Nettoyage des données\n",
    "df = df[[\"date\", \"new_deaths_60days\",\"new_virus_test\",\"daily_cases\"]]\n",
    "df.head()"
   ]
  },
  {
   "cell_type": "code",
   "execution_count": 5,
   "id": "42c41344-304d-4d0e-b739-da4c8e69ba56",
   "metadata": {
    "tags": []
   },
   "outputs": [
    {
     "name": "stderr",
     "output_type": "stream",
     "text": [
      "/tmp/ipykernel_2159/3390915376.py:1: FutureWarning: The default value of numeric_only in DataFrame.std is deprecated. In a future version, it will default to False. In addition, specifying 'numeric_only=None' is deprecated. Select only valid columns or specify the value of numeric_only to silence this warning.\n",
      "  df.std()\n"
     ]
    },
    {
     "data": {
      "text/plain": [
       "new_deaths_60days       225.822562\n",
       "new_virus_test       489749.881648\n",
       "daily_cases           26869.286877\n",
       "dtype: float64"
      ]
     },
     "execution_count": 5,
     "metadata": {},
     "output_type": "execute_result"
    }
   ],
   "source": [
    "df.std()"
   ]
  },
  {
   "cell_type": "code",
   "execution_count": 6,
   "id": "b49c054a",
   "metadata": {
    "tags": []
   },
   "outputs": [
    {
     "name": "stdout",
     "output_type": "stream",
     "text": [
      "date                  0\n",
      "new_deaths_60days    61\n",
      "new_virus_test        0\n",
      "daily_cases          27\n",
      "dtype: int64\n",
      "4504\n"
     ]
    },
    {
     "data": {
      "text/html": [
       "<div>\n",
       "<style scoped>\n",
       "    .dataframe tbody tr th:only-of-type {\n",
       "        vertical-align: middle;\n",
       "    }\n",
       "\n",
       "    .dataframe tbody tr th {\n",
       "        vertical-align: top;\n",
       "    }\n",
       "\n",
       "    .dataframe thead th {\n",
       "        text-align: right;\n",
       "    }\n",
       "</style>\n",
       "<table border=\"1\" class=\"dataframe\">\n",
       "  <thead>\n",
       "    <tr style=\"text-align: right;\">\n",
       "      <th></th>\n",
       "      <th>date</th>\n",
       "      <th>new_deaths_60days</th>\n",
       "      <th>new_virus_test</th>\n",
       "      <th>daily_cases</th>\n",
       "    </tr>\n",
       "  </thead>\n",
       "  <tbody>\n",
       "    <tr>\n",
       "      <th>2</th>\n",
       "      <td>2023-01-30</td>\n",
       "      <td>41.0</td>\n",
       "      <td>24780</td>\n",
       "      <td>2886.0</td>\n",
       "    </tr>\n",
       "    <tr>\n",
       "      <th>3</th>\n",
       "      <td>2023-01-29</td>\n",
       "      <td>72.0</td>\n",
       "      <td>23254</td>\n",
       "      <td>2118.0</td>\n",
       "    </tr>\n",
       "    <tr>\n",
       "      <th>4</th>\n",
       "      <td>2023-01-28</td>\n",
       "      <td>80.0</td>\n",
       "      <td>24243</td>\n",
       "      <td>1711.0</td>\n",
       "    </tr>\n",
       "    <tr>\n",
       "      <th>5</th>\n",
       "      <td>2023-01-27</td>\n",
       "      <td>97.0</td>\n",
       "      <td>31287</td>\n",
       "      <td>2189.0</td>\n",
       "    </tr>\n",
       "    <tr>\n",
       "      <th>6</th>\n",
       "      <td>2023-01-26</td>\n",
       "      <td>119.0</td>\n",
       "      <td>37446</td>\n",
       "      <td>2250.0</td>\n",
       "    </tr>\n",
       "  </tbody>\n",
       "</table>\n",
       "</div>"
      ],
      "text/plain": [
       "         date  new_deaths_60days  new_virus_test  daily_cases\n",
       "2  2023-01-30               41.0           24780       2886.0\n",
       "3  2023-01-29               72.0           23254       2118.0\n",
       "4  2023-01-28               80.0           24243       1711.0\n",
       "5  2023-01-27               97.0           31287       2189.0\n",
       "6  2023-01-26              119.0           37446       2250.0"
      ]
     },
     "execution_count": 6,
     "metadata": {},
     "output_type": "execute_result"
    }
   ],
   "source": [
    "missing = df.isnull().sum()\n",
    "print(missing)\n",
    "print(df.size)\n",
    "\n",
    "#On décide d'enlever les valeurs manquantes\n",
    "df = df.dropna(axis=0)\n",
    "df.head()"
   ]
  },
  {
   "cell_type": "code",
   "execution_count": 7,
   "id": "0fe3fe30",
   "metadata": {},
   "outputs": [
    {
     "data": {
      "text/html": [
       "<div>\n",
       "<style scoped>\n",
       "    .dataframe tbody tr th:only-of-type {\n",
       "        vertical-align: middle;\n",
       "    }\n",
       "\n",
       "    .dataframe tbody tr th {\n",
       "        vertical-align: top;\n",
       "    }\n",
       "\n",
       "    .dataframe thead th {\n",
       "        text-align: right;\n",
       "    }\n",
       "</style>\n",
       "<table border=\"1\" class=\"dataframe\">\n",
       "  <thead>\n",
       "    <tr style=\"text-align: right;\">\n",
       "      <th></th>\n",
       "      <th>date</th>\n",
       "      <th>new_deaths_60days</th>\n",
       "      <th>new_virus_test</th>\n",
       "      <th>daily_cases</th>\n",
       "      <th>j</th>\n",
       "    </tr>\n",
       "  </thead>\n",
       "  <tbody>\n",
       "    <tr>\n",
       "      <th>6</th>\n",
       "      <td>2023-01-26</td>\n",
       "      <td>119.0</td>\n",
       "      <td>37446</td>\n",
       "      <td>2250.0</td>\n",
       "      <td>1061</td>\n",
       "    </tr>\n",
       "    <tr>\n",
       "      <th>5</th>\n",
       "      <td>2023-01-27</td>\n",
       "      <td>97.0</td>\n",
       "      <td>31287</td>\n",
       "      <td>2189.0</td>\n",
       "      <td>1062</td>\n",
       "    </tr>\n",
       "    <tr>\n",
       "      <th>4</th>\n",
       "      <td>2023-01-28</td>\n",
       "      <td>80.0</td>\n",
       "      <td>24243</td>\n",
       "      <td>1711.0</td>\n",
       "      <td>1063</td>\n",
       "    </tr>\n",
       "    <tr>\n",
       "      <th>3</th>\n",
       "      <td>2023-01-29</td>\n",
       "      <td>72.0</td>\n",
       "      <td>23254</td>\n",
       "      <td>2118.0</td>\n",
       "      <td>1064</td>\n",
       "    </tr>\n",
       "    <tr>\n",
       "      <th>2</th>\n",
       "      <td>2023-01-30</td>\n",
       "      <td>41.0</td>\n",
       "      <td>24780</td>\n",
       "      <td>2886.0</td>\n",
       "      <td>1065</td>\n",
       "    </tr>\n",
       "  </tbody>\n",
       "</table>\n",
       "</div>"
      ],
      "text/plain": [
       "         date  new_deaths_60days  new_virus_test  daily_cases     j\n",
       "6  2023-01-26              119.0           37446       2250.0  1061\n",
       "5  2023-01-27               97.0           31287       2189.0  1062\n",
       "4  2023-01-28               80.0           24243       1711.0  1063\n",
       "3  2023-01-29               72.0           23254       2118.0  1064\n",
       "2  2023-01-30               41.0           24780       2886.0  1065"
      ]
     },
     "execution_count": 7,
     "metadata": {},
     "output_type": "execute_result"
    }
   ],
   "source": [
    "#On transforme la date en donnée incrémentale \n",
    "df = df.sort_values(by='date')\n",
    "df['j'] = np.arange(df.shape[0])\n",
    "df[\"j\"] = df['j'] + 1\n",
    "df.tail()"
   ]
  },
  {
   "cell_type": "markdown",
   "id": "86f28e7f-5e05-4ede-9eea-8a5bc3729702",
   "metadata": {},
   "source": [
    "## Construction de la matrice design"
   ]
  },
  {
   "cell_type": "code",
   "execution_count": 8,
   "id": "b00f012c-f488-4b4c-8692-7f6a33bf464e",
   "metadata": {
    "tags": []
   },
   "outputs": [],
   "source": [
    "#fonction pour implémenter la matrice design à partir de j (voir mémoire pour la méthodologie). Elle prend un j et retourne le vecteur associé. \n",
    "def find_var_expl_time(j): \n",
    "    x_j = [1]\n",
    "    x_j.append(j/365*3)\n",
    "    for l in range(2,46): \n",
    "        if l >= 2 and l <= 8: \n",
    "            x_j.append(math.cos(2*math.pi*(l-2)*j/7))\n",
    "        elif l >= 9 and l <= 15:\n",
    "            x_j.append(math.sin(2*math.pi*(l-9)*j/7))\n",
    "        elif l >= 16 and l <= 30: \n",
    "            x_j.append(math.cos(2*math.pi*(l-16)*j/(365.25)))\n",
    "        elif l >= 31 and l <= 45:\n",
    "            x_j.append(math.sin(2*math.pi*(l-35)*j/(365.25)))\n",
    "    return x_j"
   ]
  },
  {
   "cell_type": "code",
   "execution_count": 9,
   "id": "e519c1d4-69a5-49b7-a882-0b06856f87bf",
   "metadata": {
    "tags": []
   },
   "outputs": [],
   "source": [
    "#Construction de la matrice design à partir de la fonction précèdente. \n",
    "mat_design = np.empty((0,46))\n",
    "for j in df[\"j\"]:\n",
    "    row = np.array(find_var_expl_time(j))\n",
    "    mat_design = np.r_[mat_design,[row]]\n",
    "\n",
    "#mat_design = pd.DataFrame(mat_design)"
   ]
  },
  {
   "cell_type": "code",
   "execution_count": 10,
   "id": "8946a941-b589-4671-b5a2-10d2a9134848",
   "metadata": {
    "tags": []
   },
   "outputs": [
    {
     "data": {
      "text/plain": [
       "array([[1.00000000e+00, 8.21917808e-03, 1.00000000e+00, ...,\n",
       "        1.37185404e-01, 1.54204048e-01, 1.71177060e-01],\n",
       "       [1.00000000e+00, 1.64383562e-02, 1.00000000e+00, ...,\n",
       "        2.71776738e-01, 3.04719233e-01, 3.37301069e-01],\n",
       "       [1.00000000e+00, 2.46575342e-02, 1.00000000e+00, ...,\n",
       "        4.01228985e-01, 4.47944939e-01, 4.93468142e-01],\n",
       "       ...,\n",
       "       [1.00000000e+00, 8.73698630e+00, 1.00000000e+00, ...,\n",
       "        9.78988874e-01, 9.36590583e-01, 6.04701877e-01],\n",
       "       [1.00000000e+00, 8.74520548e+00, 1.00000000e+00, ...,\n",
       "        9.41758934e-01, 9.79425086e-01, 7.32110943e-01],\n",
       "       [1.00000000e+00, 8.75342466e+00, 1.00000000e+00, ...,\n",
       "        8.86721063e-01, 9.98829828e-01, 8.37908509e-01]])"
      ]
     },
     "execution_count": 10,
     "metadata": {},
     "output_type": "execute_result"
    }
   ],
   "source": [
    "mat_design"
   ]
  },
  {
   "cell_type": "markdown",
   "id": "88f23d06-e36c-4294-9669-76b91332e5ee",
   "metadata": {},
   "source": [
    "## Modèle R1"
   ]
  },
  {
   "cell_type": "markdown",
   "id": "37fd6d4e-bfce-4bc3-804d-8f5813519d02",
   "metadata": {},
   "source": [
    "### Régression linéaire "
   ]
  },
  {
   "cell_type": "code",
   "execution_count": 11,
   "id": "253676c7",
   "metadata": {},
   "outputs": [
    {
     "name": "stdout",
     "output_type": "stream",
     "text": [
      "Intercept :  93970961639050.31\n",
      "Beta :  [-8.64764652e+12  6.78960053e+03  1.30868989e+13  1.30485849e+16\n",
      "  2.25558872e+16 -4.67102434e+16  4.67102434e+16 -2.25558872e+16\n",
      " -1.30485849e+16 -4.93254152e+13  7.02640741e+15  2.41015587e+16\n",
      "  2.28018656e+16  2.28018656e+16  2.41015587e+16  7.02640741e+15\n",
      " -9.84102136e+13  1.21514175e+05  4.86523445e+04  3.44489095e+03\n",
      " -1.68899899e+04  7.76207816e+03  1.01014810e+04 -2.85774045e+04\n",
      " -2.38389641e+04 -3.09488003e+04 -2.21079936e+04 -1.83856662e+04\n",
      " -1.45618059e+04  2.50168206e+03  1.51741278e+04  1.34397316e+13\n",
      " -2.45815489e+13 -2.89750357e+12 -4.78704110e+12  1.00409727e+13\n",
      " -4.78704116e+12 -2.89750363e+12 -2.45815489e+13  1.34397316e+13\n",
      " -1.41136110e+04  7.83415061e+03 -4.82999056e+03  6.10132136e+03\n",
      "  6.27276885e+03  1.30072652e+04]\n"
     ]
    }
   ],
   "source": [
    "#Regression linéaire simple pour theta 1:\n",
    "X = mat_design\n",
    "S = df[\"new_virus_test\"]\n",
    "model = LinearRegression().fit(X, S)\n",
    "\n",
    "epsilon = model.intercept_\n",
    "theta = model.coef_\n",
    "\n",
    "print(\"Intercept : \",epsilon)\n",
    "print(\"Beta : \", theta)"
   ]
  },
  {
   "cell_type": "code",
   "execution_count": 12,
   "id": "1b6c1e4d",
   "metadata": {},
   "outputs": [
    {
     "data": {
      "image/png": "[encoded data removed]",
      "text/plain": [
       "<Figure size 640x480 with 1 Axes>"
      ]
     },
     "metadata": {},
     "output_type": "display_data"
    }
   ],
   "source": [
    "Time = df.shape[0]\n",
    "t = np.array(df.index).reshape(-1, 1) / Time\n",
    "\n",
    "\n",
    "plt.scatter(t, df['new_virus_test'], color='blue')\n",
    "plt.plot(t, model.predict(X), color='red')\n",
    "plt.xlabel('Time')\n",
    "plt.ylabel('new_virus_test')\n",
    "plt.title('Linear Regression')\n",
    "plt.show()"
   ]
  },
  {
   "cell_type": "code",
   "execution_count": 73,
   "id": "0a61635e-79c8-4a3d-a78f-dc020f617599",
   "metadata": {
    "tags": []
   },
   "outputs": [
    {
     "name": "stdout",
     "output_type": "stream",
     "text": [
      "Building...\n"
     ]
    },
    {
     "name": "stderr",
     "output_type": "stream",
     "text": [
      "\n",
      "Building: found in cache, done.Messages from stanc:\n",
      "Warning: The parameter beta has no priors. This means either no prior is\n",
      "    provided, or the prior(s) depend on data variables. In the later case,\n",
      "    this may be a false positive.\n",
      "Sampling:   0%\n",
      "Sampling: 100%, done.\n",
      "Messages received during sampling:\n",
      "  Gradient evaluation took 0.000125 seconds\n",
      "  1000 transitions using 10 leapfrog steps per transition would take 1.25 seconds.\n",
      "  Adjust your expectations accordingly!\n",
      "  Gradient evaluation took 0.000109 seconds\n",
      "  1000 transitions using 10 leapfrog steps per transition would take 1.09 seconds.\n",
      "  Adjust your expectations accordingly!\n",
      "  Gradient evaluation took 0.000152 seconds\n",
      "  1000 transitions using 10 leapfrog steps per transition would take 1.52 seconds.\n",
      "  Adjust your expectations accordingly!\n",
      "  Gradient evaluation took 0.000118 seconds\n",
      "  1000 transitions using 10 leapfrog steps per transition would take 1.18 seconds.\n",
      "  Adjust your expectations accordingly!\n"
     ]
    }
   ],
   "source": [
    "#Regression bayésienne avec stan\n",
    "stan_code = \"\"\"\n",
    "data {\n",
    "    int<lower=0> N;\n",
    "    int<lower=0> P;\n",
    "    matrix[N, P] X;\n",
    "    vector[N] S;\n",
    "}\n",
    "parameters {\n",
    "    vector[P] beta;\n",
    "    real<lower=0> sigma;\n",
    "\n",
    "}\n",
    "model {\n",
    "    S ~ normal(X * beta, sigma);\n",
    "    1./sigma ~ normal(0, 0.5);\n",
    "}\n",
    "\"\"\"\n",
    "\n",
    "# Data\n",
    "N = X.shape[0]\n",
    "P = X.shape[1]\n",
    "stan_data = {'N': N, 'P': P, 'X': pd.DataFrame(X).values, 'S': df[\"new_virus_test\"].values}\n",
    "posterior = stan.build(stan_code, data=stan_data, random_seed = 1)\n",
    "fit = posterior.sample(num_chains = 4, num_samples = 1000)\n",
    "\n",
    "df_fit = fit.to_frame()"
   ]
  },
  {
   "cell_type": "code",
   "execution_count": 77,
   "id": "0c3d7ea9-a15d-48d5-932d-18c7cc9e87fd",
   "metadata": {},
   "outputs": [
    {
     "data": {
      "image/png": "[encoded data removed]",
      "text/plain": [
       "<Figure size 640x480 with 1 Axes>"
      ]
     },
     "metadata": {},
     "output_type": "display_data"
    }
   ],
   "source": [
    "df_fit.head()\n",
    "# Extract the posterior samples\n",
    "posterior_samples = df_fit[['beta.1', 'beta.2', 'beta.3', 'beta.4', 'beta.5', 'beta.6', 'beta.7', 'beta.8', 'beta.9', 'beta.10', 'beta.11',       'beta.12', 'beta.13', 'beta.14', 'beta.15', 'beta.16', 'beta.17',       'beta.18', 'beta.19', 'beta.20', 'beta.21', 'beta.22', 'beta.23',       'beta.24', 'beta.25', 'beta.26', 'beta.27', 'beta.28', 'beta.29',       'beta.30', 'beta.31', 'beta.32', 'beta.33', 'beta.34', 'beta.35',       'beta.36', 'beta.37', 'beta.38', 'beta.39', 'beta.40', 'beta.41',       'beta.42', 'beta.43', 'beta.44', 'beta.45', 'beta.46']]\n",
    "\n",
    "# Compute the posterior predictive distribution\n",
    "S_pred = X.dot(posterior_samples.mean().values)\n",
    "S_pred_std = X.dot(posterior_samples.std().values)\n",
    "\n",
    "# Plot the posterior predictive distribution\n",
    "#plt.figure(figsize=(15, 5))\n",
    "plt.plot(t, S_pred, color='red')\n",
    "plt.scatter(t, df['new_virus_test'], color='blue')\n",
    "plt.xlabel('Time')\n",
    "plt.ylabel('new_virus_test')\n",
    "plt.title('Bayesian Regression R1')\n",
    "plt.show()"
   ]
  },
  {
   "cell_type": "markdown",
   "id": "6d75a0b5-2b3d-41b7-b3d1-053d33344a17",
   "metadata": {
    "tags": []
   },
   "source": [
    "### Régression 1 du Modèle 1 \n",
    "\n",
    "On implemente le modèle de la negbinomiale. "
   ]
  },
  {
   "cell_type": "code",
   "execution_count": 44,
   "id": "35443962-099f-434d-b3c1-78a03b756a54",
   "metadata": {
    "tags": []
   },
   "outputs": [],
   "source": [
    "Model = \"\"\"\n",
    "data {\n",
    "  int N; //nombre de données \n",
    "  int S[N]; //nombre de tests Covid\n",
    "  int K; // nombre de colonnes de la matrice design\n",
    "  vector[N] mu; //(matrice design *theta)**2\n",
    "  // priors\n",
    "  real inv_sigma_scale; // borne sup de la loi normale que suit l'inverse du sigma (voir mémoire) \n",
    "}\n",
    "parameters {\n",
    "  real inv_sigma; //inverse du sigma\n",
    "}\n",
    "transformed parameters {\n",
    "  real sigma; //\n",
    "  sigma = 1. / inv_sigma;\n",
    "}\n",
    "model {\n",
    "  inv_sigma ~ normal(0. , inv_sigma_scale);\n",
    "  for (i in 1:N) {\n",
    "    S[i] ~ neg_binomial_2(mu[i], sigma);\n",
    "  }\n",
    "}\n",
    "generated quantities {\n",
    "  vector[N] S_rep;\n",
    "  for (i in 1:N) {\n",
    "    S_rep[i] = neg_binomial_2_rng(mu[i], sigma);\n",
    "  }\n",
    "}\n",
    "\"\"\""
   ]
  },
  {
   "cell_type": "markdown",
   "id": "f7107a4d-431a-4e25-98d1-7b79fa7448b3",
   "metadata": {},
   "source": [
    "On calcule le produit scalaire  $X \\times \\hat{\\theta^{(1)}}$ directement et l'exponentielle ne fonctionnant pas car les valeurs sont trop grandes, on est passé à l'arctangente. "
   ]
  },
  {
   "cell_type": "code",
   "execution_count": 48,
   "id": "a151bd32-cfab-4a91-87c7-63075ff80095",
   "metadata": {
    "tags": []
   },
   "outputs": [
    {
     "data": {
      "text/plain": [
       "array([3.57079633, 3.57079633, 3.57079633, ..., 3.57079633, 3.57079633,\n",
       "       3.57079633])"
      ]
     },
     "execution_count": 48,
     "metadata": {},
     "output_type": "execute_result"
    }
   ],
   "source": [
    "X_theta = np.arctan(np.dot(mat_design, theta)) + 2\n",
    "X_theta"
   ]
  },
  {
   "cell_type": "code",
   "execution_count": 49,
   "id": "24c75806-0755-4b83-ab1a-b59516246c00",
   "metadata": {
    "tags": []
   },
   "outputs": [],
   "source": [
    "%%capture\n",
    "Data = {\"S\": list(df[\"new_virus_test\"]),\n",
    "                \"N\": len(S),\n",
    "                \"mu\": X_theta,\n",
    "                \"K\" : mat_design.shape[1],\n",
    "                \"inv_sigma_scale\" : 0.5\n",
    "       }\n",
    "\n",
    "\n",
    "posterior = stan.build(Model, data=Data)\n",
    "fit = posterior.sample(num_chains=4, num_samples=1000)\n",
    "\n",
    "df2 = fit.to_frame()  # pandas `DataFrame`"
   ]
  },
  {
   "cell_type": "code",
   "execution_count": 50,
   "id": "a26c12da-0467-49f0-90f5-3fe799eb3f90",
   "metadata": {
    "tags": []
   },
   "outputs": [
    {
     "name": "stdout",
     "output_type": "stream",
     "text": [
      "<stan.Fit>\n",
      "Parameters:\n",
      "    inv_sigma: ()\n",
      "    sigma: ()\n",
      "    S_rep: (1065,)\n",
      "Draws: 4000\n"
     ]
    }
   ],
   "source": [
    "print(fit)"
   ]
  },
  {
   "cell_type": "code",
   "execution_count": 51,
   "id": "55e301d4-e652-47ed-bc65-3666a62cf9f7",
   "metadata": {
    "tags": []
   },
   "outputs": [
    {
     "data": {
      "text/html": [
       "<div>\n",
       "<style scoped>\n",
       "    .dataframe tbody tr th:only-of-type {\n",
       "        vertical-align: middle;\n",
       "    }\n",
       "\n",
       "    .dataframe tbody tr th {\n",
       "        vertical-align: top;\n",
       "    }\n",
       "\n",
       "    .dataframe thead th {\n",
       "        text-align: right;\n",
       "    }\n",
       "</style>\n",
       "<table border=\"1\" class=\"dataframe\">\n",
       "  <thead>\n",
       "    <tr style=\"text-align: right;\">\n",
       "      <th>parameters</th>\n",
       "      <th>S_rep.1</th>\n",
       "      <th>S_rep.2</th>\n",
       "      <th>S_rep.3</th>\n",
       "      <th>S_rep.4</th>\n",
       "      <th>S_rep.5</th>\n",
       "      <th>S_rep.6</th>\n",
       "      <th>S_rep.7</th>\n",
       "      <th>S_rep.8</th>\n",
       "      <th>S_rep.9</th>\n",
       "      <th>S_rep.10</th>\n",
       "      <th>...</th>\n",
       "      <th>S_rep.1056</th>\n",
       "      <th>S_rep.1057</th>\n",
       "      <th>S_rep.1058</th>\n",
       "      <th>S_rep.1059</th>\n",
       "      <th>S_rep.1060</th>\n",
       "      <th>S_rep.1061</th>\n",
       "      <th>S_rep.1062</th>\n",
       "      <th>S_rep.1063</th>\n",
       "      <th>S_rep.1064</th>\n",
       "      <th>S_rep.1065</th>\n",
       "    </tr>\n",
       "    <tr>\n",
       "      <th>draws</th>\n",
       "      <th></th>\n",
       "      <th></th>\n",
       "      <th></th>\n",
       "      <th></th>\n",
       "      <th></th>\n",
       "      <th></th>\n",
       "      <th></th>\n",
       "      <th></th>\n",
       "      <th></th>\n",
       "      <th></th>\n",
       "      <th></th>\n",
       "      <th></th>\n",
       "      <th></th>\n",
       "      <th></th>\n",
       "      <th></th>\n",
       "      <th></th>\n",
       "      <th></th>\n",
       "      <th></th>\n",
       "      <th></th>\n",
       "      <th></th>\n",
       "      <th></th>\n",
       "    </tr>\n",
       "  </thead>\n",
       "  <tbody>\n",
       "    <tr>\n",
       "      <th>0</th>\n",
       "      <td>0.0</td>\n",
       "      <td>0.0</td>\n",
       "      <td>0.0</td>\n",
       "      <td>0.0</td>\n",
       "      <td>0.0</td>\n",
       "      <td>0.0</td>\n",
       "      <td>0.0</td>\n",
       "      <td>0.0</td>\n",
       "      <td>0.0</td>\n",
       "      <td>0.0</td>\n",
       "      <td>...</td>\n",
       "      <td>0.0</td>\n",
       "      <td>0.0</td>\n",
       "      <td>0.0</td>\n",
       "      <td>0.0</td>\n",
       "      <td>0.0</td>\n",
       "      <td>0.0</td>\n",
       "      <td>0.0</td>\n",
       "      <td>0.0</td>\n",
       "      <td>0.0</td>\n",
       "      <td>0.0</td>\n",
       "    </tr>\n",
       "    <tr>\n",
       "      <th>1</th>\n",
       "      <td>0.0</td>\n",
       "      <td>0.0</td>\n",
       "      <td>0.0</td>\n",
       "      <td>0.0</td>\n",
       "      <td>0.0</td>\n",
       "      <td>0.0</td>\n",
       "      <td>0.0</td>\n",
       "      <td>0.0</td>\n",
       "      <td>0.0</td>\n",
       "      <td>0.0</td>\n",
       "      <td>...</td>\n",
       "      <td>0.0</td>\n",
       "      <td>0.0</td>\n",
       "      <td>0.0</td>\n",
       "      <td>0.0</td>\n",
       "      <td>0.0</td>\n",
       "      <td>0.0</td>\n",
       "      <td>0.0</td>\n",
       "      <td>0.0</td>\n",
       "      <td>0.0</td>\n",
       "      <td>0.0</td>\n",
       "    </tr>\n",
       "    <tr>\n",
       "      <th>2</th>\n",
       "      <td>0.0</td>\n",
       "      <td>0.0</td>\n",
       "      <td>0.0</td>\n",
       "      <td>0.0</td>\n",
       "      <td>0.0</td>\n",
       "      <td>0.0</td>\n",
       "      <td>0.0</td>\n",
       "      <td>0.0</td>\n",
       "      <td>0.0</td>\n",
       "      <td>0.0</td>\n",
       "      <td>...</td>\n",
       "      <td>0.0</td>\n",
       "      <td>0.0</td>\n",
       "      <td>0.0</td>\n",
       "      <td>2.0</td>\n",
       "      <td>0.0</td>\n",
       "      <td>0.0</td>\n",
       "      <td>0.0</td>\n",
       "      <td>0.0</td>\n",
       "      <td>0.0</td>\n",
       "      <td>0.0</td>\n",
       "    </tr>\n",
       "    <tr>\n",
       "      <th>3</th>\n",
       "      <td>0.0</td>\n",
       "      <td>0.0</td>\n",
       "      <td>0.0</td>\n",
       "      <td>0.0</td>\n",
       "      <td>0.0</td>\n",
       "      <td>0.0</td>\n",
       "      <td>0.0</td>\n",
       "      <td>0.0</td>\n",
       "      <td>0.0</td>\n",
       "      <td>0.0</td>\n",
       "      <td>...</td>\n",
       "      <td>0.0</td>\n",
       "      <td>0.0</td>\n",
       "      <td>0.0</td>\n",
       "      <td>0.0</td>\n",
       "      <td>0.0</td>\n",
       "      <td>0.0</td>\n",
       "      <td>0.0</td>\n",
       "      <td>0.0</td>\n",
       "      <td>0.0</td>\n",
       "      <td>0.0</td>\n",
       "    </tr>\n",
       "    <tr>\n",
       "      <th>4</th>\n",
       "      <td>0.0</td>\n",
       "      <td>0.0</td>\n",
       "      <td>0.0</td>\n",
       "      <td>228.0</td>\n",
       "      <td>0.0</td>\n",
       "      <td>0.0</td>\n",
       "      <td>0.0</td>\n",
       "      <td>0.0</td>\n",
       "      <td>0.0</td>\n",
       "      <td>0.0</td>\n",
       "      <td>...</td>\n",
       "      <td>0.0</td>\n",
       "      <td>0.0</td>\n",
       "      <td>0.0</td>\n",
       "      <td>0.0</td>\n",
       "      <td>0.0</td>\n",
       "      <td>0.0</td>\n",
       "      <td>0.0</td>\n",
       "      <td>0.0</td>\n",
       "      <td>0.0</td>\n",
       "      <td>0.0</td>\n",
       "    </tr>\n",
       "    <tr>\n",
       "      <th>...</th>\n",
       "      <td>...</td>\n",
       "      <td>...</td>\n",
       "      <td>...</td>\n",
       "      <td>...</td>\n",
       "      <td>...</td>\n",
       "      <td>...</td>\n",
       "      <td>...</td>\n",
       "      <td>...</td>\n",
       "      <td>...</td>\n",
       "      <td>...</td>\n",
       "      <td>...</td>\n",
       "      <td>...</td>\n",
       "      <td>...</td>\n",
       "      <td>...</td>\n",
       "      <td>...</td>\n",
       "      <td>...</td>\n",
       "      <td>...</td>\n",
       "      <td>...</td>\n",
       "      <td>...</td>\n",
       "      <td>...</td>\n",
       "      <td>...</td>\n",
       "    </tr>\n",
       "    <tr>\n",
       "      <th>3995</th>\n",
       "      <td>0.0</td>\n",
       "      <td>0.0</td>\n",
       "      <td>0.0</td>\n",
       "      <td>22.0</td>\n",
       "      <td>0.0</td>\n",
       "      <td>0.0</td>\n",
       "      <td>0.0</td>\n",
       "      <td>0.0</td>\n",
       "      <td>0.0</td>\n",
       "      <td>0.0</td>\n",
       "      <td>...</td>\n",
       "      <td>1.0</td>\n",
       "      <td>0.0</td>\n",
       "      <td>0.0</td>\n",
       "      <td>0.0</td>\n",
       "      <td>0.0</td>\n",
       "      <td>0.0</td>\n",
       "      <td>0.0</td>\n",
       "      <td>0.0</td>\n",
       "      <td>0.0</td>\n",
       "      <td>0.0</td>\n",
       "    </tr>\n",
       "    <tr>\n",
       "      <th>3996</th>\n",
       "      <td>0.0</td>\n",
       "      <td>0.0</td>\n",
       "      <td>0.0</td>\n",
       "      <td>0.0</td>\n",
       "      <td>0.0</td>\n",
       "      <td>0.0</td>\n",
       "      <td>0.0</td>\n",
       "      <td>0.0</td>\n",
       "      <td>0.0</td>\n",
       "      <td>0.0</td>\n",
       "      <td>...</td>\n",
       "      <td>0.0</td>\n",
       "      <td>0.0</td>\n",
       "      <td>0.0</td>\n",
       "      <td>0.0</td>\n",
       "      <td>0.0</td>\n",
       "      <td>0.0</td>\n",
       "      <td>0.0</td>\n",
       "      <td>0.0</td>\n",
       "      <td>0.0</td>\n",
       "      <td>0.0</td>\n",
       "    </tr>\n",
       "    <tr>\n",
       "      <th>3997</th>\n",
       "      <td>0.0</td>\n",
       "      <td>0.0</td>\n",
       "      <td>0.0</td>\n",
       "      <td>0.0</td>\n",
       "      <td>0.0</td>\n",
       "      <td>0.0</td>\n",
       "      <td>0.0</td>\n",
       "      <td>0.0</td>\n",
       "      <td>0.0</td>\n",
       "      <td>0.0</td>\n",
       "      <td>...</td>\n",
       "      <td>0.0</td>\n",
       "      <td>0.0</td>\n",
       "      <td>0.0</td>\n",
       "      <td>0.0</td>\n",
       "      <td>0.0</td>\n",
       "      <td>0.0</td>\n",
       "      <td>0.0</td>\n",
       "      <td>0.0</td>\n",
       "      <td>0.0</td>\n",
       "      <td>0.0</td>\n",
       "    </tr>\n",
       "    <tr>\n",
       "      <th>3998</th>\n",
       "      <td>0.0</td>\n",
       "      <td>0.0</td>\n",
       "      <td>0.0</td>\n",
       "      <td>0.0</td>\n",
       "      <td>0.0</td>\n",
       "      <td>0.0</td>\n",
       "      <td>0.0</td>\n",
       "      <td>12.0</td>\n",
       "      <td>0.0</td>\n",
       "      <td>0.0</td>\n",
       "      <td>...</td>\n",
       "      <td>0.0</td>\n",
       "      <td>0.0</td>\n",
       "      <td>0.0</td>\n",
       "      <td>0.0</td>\n",
       "      <td>0.0</td>\n",
       "      <td>0.0</td>\n",
       "      <td>0.0</td>\n",
       "      <td>0.0</td>\n",
       "      <td>0.0</td>\n",
       "      <td>0.0</td>\n",
       "    </tr>\n",
       "    <tr>\n",
       "      <th>3999</th>\n",
       "      <td>0.0</td>\n",
       "      <td>0.0</td>\n",
       "      <td>0.0</td>\n",
       "      <td>0.0</td>\n",
       "      <td>0.0</td>\n",
       "      <td>0.0</td>\n",
       "      <td>0.0</td>\n",
       "      <td>0.0</td>\n",
       "      <td>0.0</td>\n",
       "      <td>0.0</td>\n",
       "      <td>...</td>\n",
       "      <td>0.0</td>\n",
       "      <td>0.0</td>\n",
       "      <td>0.0</td>\n",
       "      <td>0.0</td>\n",
       "      <td>0.0</td>\n",
       "      <td>0.0</td>\n",
       "      <td>0.0</td>\n",
       "      <td>0.0</td>\n",
       "      <td>0.0</td>\n",
       "      <td>0.0</td>\n",
       "    </tr>\n",
       "  </tbody>\n",
       "</table>\n",
       "<p>4000 rows × 1065 columns</p>\n",
       "</div>"
      ],
      "text/plain": [
       "parameters  S_rep.1  S_rep.2  S_rep.3  S_rep.4  S_rep.5  S_rep.6  S_rep.7  \\\n",
       "draws                                                                       \n",
       "0               0.0      0.0      0.0      0.0      0.0      0.0      0.0   \n",
       "1               0.0      0.0      0.0      0.0      0.0      0.0      0.0   \n",
       "2               0.0      0.0      0.0      0.0      0.0      0.0      0.0   \n",
       "3               0.0      0.0      0.0      0.0      0.0      0.0      0.0   \n",
       "4               0.0      0.0      0.0    228.0      0.0      0.0      0.0   \n",
       "...             ...      ...      ...      ...      ...      ...      ...   \n",
       "3995            0.0      0.0      0.0     22.0      0.0      0.0      0.0   \n",
       "3996            0.0      0.0      0.0      0.0      0.0      0.0      0.0   \n",
       "3997            0.0      0.0      0.0      0.0      0.0      0.0      0.0   \n",
       "3998            0.0      0.0      0.0      0.0      0.0      0.0      0.0   \n",
       "3999            0.0      0.0      0.0      0.0      0.0      0.0      0.0   \n",
       "\n",
       "parameters  S_rep.8  S_rep.9  S_rep.10  ...  S_rep.1056  S_rep.1057  \\\n",
       "draws                                   ...                           \n",
       "0               0.0      0.0       0.0  ...         0.0         0.0   \n",
       "1               0.0      0.0       0.0  ...         0.0         0.0   \n",
       "2               0.0      0.0       0.0  ...         0.0         0.0   \n",
       "3               0.0      0.0       0.0  ...         0.0         0.0   \n",
       "4               0.0      0.0       0.0  ...         0.0         0.0   \n",
       "...             ...      ...       ...  ...         ...         ...   \n",
       "3995            0.0      0.0       0.0  ...         1.0         0.0   \n",
       "3996            0.0      0.0       0.0  ...         0.0         0.0   \n",
       "3997            0.0      0.0       0.0  ...         0.0         0.0   \n",
       "3998           12.0      0.0       0.0  ...         0.0         0.0   \n",
       "3999            0.0      0.0       0.0  ...         0.0         0.0   \n",
       "\n",
       "parameters  S_rep.1058  S_rep.1059  S_rep.1060  S_rep.1061  S_rep.1062  \\\n",
       "draws                                                                    \n",
       "0                  0.0         0.0         0.0         0.0         0.0   \n",
       "1                  0.0         0.0         0.0         0.0         0.0   \n",
       "2                  0.0         2.0         0.0         0.0         0.0   \n",
       "3                  0.0         0.0         0.0         0.0         0.0   \n",
       "4                  0.0         0.0         0.0         0.0         0.0   \n",
       "...                ...         ...         ...         ...         ...   \n",
       "3995               0.0         0.0         0.0         0.0         0.0   \n",
       "3996               0.0         0.0         0.0         0.0         0.0   \n",
       "3997               0.0         0.0         0.0         0.0         0.0   \n",
       "3998               0.0         0.0         0.0         0.0         0.0   \n",
       "3999               0.0         0.0         0.0         0.0         0.0   \n",
       "\n",
       "parameters  S_rep.1063  S_rep.1064  S_rep.1065  \n",
       "draws                                           \n",
       "0                  0.0         0.0         0.0  \n",
       "1                  0.0         0.0         0.0  \n",
       "2                  0.0         0.0         0.0  \n",
       "3                  0.0         0.0         0.0  \n",
       "4                  0.0         0.0         0.0  \n",
       "...                ...         ...         ...  \n",
       "3995               0.0         0.0         0.0  \n",
       "3996               0.0         0.0         0.0  \n",
       "3997               0.0         0.0         0.0  \n",
       "3998               0.0         0.0         0.0  \n",
       "3999               0.0         0.0         0.0  \n",
       "\n",
       "[4000 rows x 1065 columns]"
      ]
     },
     "execution_count": 51,
     "metadata": {},
     "output_type": "execute_result"
    }
   ],
   "source": [
    "df_S_rep = df2.loc[:, \"S_rep.1\":\"S_rep.1065\"]\n",
    "df_S_rep"
   ]
  },
  {
   "cell_type": "code",
   "execution_count": 52,
   "id": "f41a4b41-1a72-4d4d-aaf1-f9c6f3c8dcd0",
   "metadata": {
    "tags": []
   },
   "outputs": [
    {
     "data": {
      "image/png": "[encoded data removed]",
      "text/plain": [
       "<Figure size 640x480 with 1 Axes>"
      ]
     },
     "metadata": {},
     "output_type": "display_data"
    }
   ],
   "source": [
    "plt.plot(t, df_S_rep.mean().values, color='red')\n",
    "plt.scatter(t,df[\"new_virus_test\"], color='blue')\n",
    "plt.xlabel('Time')\n",
    "plt.ylabel('new_virus_test')\n",
    "plt.title('Bayesian Regression M2')\n",
    "plt.show()"
   ]
  },
  {
   "cell_type": "markdown",
   "id": "3b4ae2bb-9526-4bdb-b87b-b0450c6f85ef",
   "metadata": {},
   "source": [
    "**Commentaire** : problème on ne trouve quasiment que des 0 donc il y a un problème d'implementation. "
   ]
  },
  {
   "cell_type": "markdown",
   "id": "a3bcabb1-df23-465c-a39a-837d3e8167f2",
   "metadata": {},
   "source": [
    "### Deuxième régression"
   ]
  },
  {
   "cell_type": "markdown",
   "id": "0e90befc-d1ad-441d-8af7-247fa0d2d119",
   "metadata": {},
   "source": [
    "On commence par produire les variables dont on aura besoin dans le code pystan."
   ]
  },
  {
   "cell_type": "code",
   "execution_count": 26,
   "id": "ac7b7d5e-8403-48c4-a628-5531f5bb6ca2",
   "metadata": {},
   "outputs": [],
   "source": [
    "#La variable p : proportion de tests positifs par jour\n",
    "df[\"positive_test_prop\"] = df[\"daily_cases\"] / df[\"new_virus_test\"]"
   ]
  },
  {
   "cell_type": "code",
   "execution_count": 27,
   "id": "8559eec2-6a25-4c23-b43c-cac2ee94814e",
   "metadata": {},
   "outputs": [
    {
     "name": "stdout",
     "output_type": "stream",
     "text": [
      "Intercept :  -15197050.139385467\n",
      "Beta :  [ 1.44310041e+06  6.78579944e-04  8.38373517e+06 -3.79063743e+07\n",
      " -1.51527621e+09  5.44069412e+09 -5.44069412e+09  1.51527621e+09\n",
      "  3.79063743e+07  6.66900694e+06 -3.76151907e+08  2.13695269e+09\n",
      " -7.30549818e+09 -7.30549818e+09  2.13695269e+09 -3.76151907e+08\n",
      "  5.37021461e+06  1.25530208e-02 -4.70787618e-03 -5.05653499e-03\n",
      " -1.80814379e-02 -4.25979495e-03 -1.11603096e-03 -1.53590329e-03\n",
      " -2.09807966e-03 -1.24517614e-03 -8.17189459e-05  8.61762305e-04\n",
      "  1.16021279e-03  6.96300041e-04  8.96105403e-04 -3.71736954e+06\n",
      "  2.65166062e+06  2.14970111e+06 -8.50737148e+05  1.53476669e+05\n",
      " -8.50737161e+05  2.14970112e+06  2.65166063e+06 -3.71736952e+06\n",
      "  2.77039161e-03 -3.74977646e-03 -3.49136628e-03 -3.46423007e-03\n",
      "  2.80699826e-03  2.48216967e-03]\n"
     ]
    },
    {
     "data": {
      "image/png": "[encoded data removed]",
      "text/plain": [
       "<Figure size 640x480 with 1 Axes>"
      ]
     },
     "metadata": {},
     "output_type": "display_data"
    }
   ],
   "source": [
    "#Regression linéaire simple pour theta 2:\n",
    "X = mat_design\n",
    "p = df[\"positive_test_prop\"]\n",
    "model = LinearRegression().fit(X, p)\n",
    "\n",
    "epsilon = model.intercept_\n",
    "theta2 = model.coef_\n",
    "\n",
    "print(\"Intercept : \",epsilon)\n",
    "print(\"Beta : \", theta2)\n",
    "\n",
    "\n",
    "plt.scatter(t, df[\"positive_test_prop\"], color='blue')\n",
    "plt.plot(t, model.predict(X), color='red')\n",
    "plt.xlabel('Time')\n",
    "plt.ylabel('positive_test_prop')\n",
    "plt.title('Linear Regression')\n",
    "plt.show()"
   ]
  },
  {
   "cell_type": "code",
   "execution_count": 28,
   "id": "2b0d0d58-b6fc-4f48-a168-f1fd965954f0",
   "metadata": {},
   "outputs": [],
   "source": [
    "#génération du sigma 2 de sorte que log(sigma2) suive une gaussienne centrée\n",
    "sigma2 = np.random.normal(loc=0, scale=np.sqrt(0.5))\n",
    "sigma2 = np.exp(sigma2)"
   ]
  },
  {
   "cell_type": "code",
   "execution_count": 63,
   "id": "b6cf4ea2-6557-4675-a4aa-add65b61fdba",
   "metadata": {
    "tags": []
   },
   "outputs": [
    {
     "name": "stdout",
     "output_type": "stream",
     "text": [
      "<class 'int'>\n"
     ]
    }
   ],
   "source": [
    "#on devrait injecter le nombre de tests réalisés (ie de sessions) estimé lors de la régression 1\n",
    "#tant qu'on n'en dispose pas, on génère des données au hasard\n",
    "\n",
    "import random\n",
    "\n",
    "sessions = []\n",
    "for i in range(1065):\n",
    "    sessions.append(random.randint(1, 100000))\n",
    "\n",
    "print(type(sessions[1]))\n"
   ]
  },
  {
   "cell_type": "code",
   "execution_count": 30,
   "id": "3c30be3d-b379-4a89-bfb4-723d136d80ab",
   "metadata": {},
   "outputs": [],
   "source": [
    "#On construit proprement la variable à expliquer dans la deuxième régression\n",
    "daily_cases_int = [int(nombre) for nombre in df[\"daily_cases\"].values.tolist()]"
   ]
  },
  {
   "cell_type": "code",
   "execution_count": 66,
   "id": "59ca79f2-d68a-48db-aa5a-3d8d88c29fff",
   "metadata": {},
   "outputs": [],
   "source": [
    "#Note importante : à la place du \"1000\", il faudrait noter \"sessions[i] ; cet objet, quand devra être un int\n",
    "Model = \"\"\"\n",
    "data {\n",
    "  int N; //nombre de données \n",
    "  int y[N]; //nombre de tests positifs\n",
    "  int K; // nombre de colonnes de la matrice design\n",
    "  real sigma2;\n",
    "  matrix[N, K] X; //matrice design \n",
    "  vector[K] theta2;\n",
    "  int sessions[N];\n",
    "}\n",
    "transformed parameters {\n",
    "  vector[N] mu;\n",
    "  vector[N] alpha;\n",
    "  vector[N] beta; //\n",
    "  mu = 1/(1+(atan((-X)*theta2)+2));\n",
    "  alpha = mu*sigma2;\n",
    "  beta = (1-mu)*sigma2;\n",
    "}\n",
    "model {\n",
    "  for (i in 1:N) {\n",
    "     y[i] ~ beta_binomial(sessions[i], alpha[i], beta[i]);\n",
    "  }\n",
    "}\n",
    "generated quantities {\n",
    "  vector[N] y_rep;\n",
    "  for (i in 1:N) {\n",
    "    y_rep[i] = beta_binomial_rng(sessions[i], alpha[i], beta[i]);\n",
    "  }\n",
    "}\n",
    "\"\"\""
   ]
  },
  {
   "cell_type": "code",
   "execution_count": 67,
   "id": "6969f204-3ea3-401f-b88d-1d17495758b2",
   "metadata": {},
   "outputs": [
    {
     "name": "stderr",
     "output_type": "stream",
     "text": [
      "In file included from /opt/mamba/lib/python3.10/site-packages/httpstan/include/stan/math/prim/fun.hpp:124,\n",
      "                 from /opt/mamba/lib/python3.10/site-packages/httpstan/include/stan/math/rev/fun/multiply.hpp:7,\n",
      "                 from /opt/mamba/lib/python3.10/site-packages/httpstan/include/stan/math/rev/fun/elt_multiply.hpp:9,\n",
      "                 from /opt/mamba/lib/python3.10/site-packages/httpstan/include/stan/math/rev/fun.hpp:55,\n",
      "                 from /opt/mamba/lib/python3.10/site-packages/httpstan/include/stan/math/rev.hpp:10,\n",
      "                 from /opt/mamba/lib/python3.10/site-packages/httpstan/include/stan/math.hpp:19,\n",
      "                 from /opt/mamba/lib/python3.10/site-packages/httpstan/include/stan/model/model_header.hpp:4,\n",
      "                 from /home/onyxia/.cache/httpstan/4.9.1/models/mmfkrsef/model_mmfkrsef.cpp:2:\n",
      "/opt/mamba/lib/python3.10/site-packages/httpstan/include/stan/math/prim/fun/grad_2F1.hpp: In instantiation of ‘TupleT stan::math::internal::grad_2F1_impl(const T1&, const T2&, const T3&, const T_z&, double, int) [with bool calc_a1 = true; bool calc_a2 = true; bool calc_b1 = true; bool calc_z = true; T1 = double; T2 = double; T3 = double; T_z = double; ScalarT = double; TupleT = std::tuple<double, double, double, double>]’:\n",
      "/opt/mamba/lib/python3.10/site-packages/httpstan/include/stan/math/prim/fun/grad_2F1.hpp:307:57:   required from ‘auto stan::math::grad_2F1(const T1&, const T2&, const T3&, const T_z&, double, int) [with bool ReturnSameT = true; T1 = double; T2 = double; T3 = double; T_z = double; stan::require_t<std::integral_constant<bool, __v> >* <anonymous> = 0]’\n",
      "/opt/mamba/lib/python3.10/site-packages/httpstan/include/stan/math/prim/fun/grad_inc_beta.hpp:37:25:   required from here\n",
      "/opt/mamba/lib/python3.10/site-packages/httpstan/include/stan/math/prim/fun/grad_2F1.hpp:192:12: warning: unused variable ‘pre_mult’ [-Wunused-variable]\n",
      "  192 |       auto pre_mult = a2 * pow(1 - z, -1 - a2);\n",
      "      |            ^~~~~~~~\n",
      "/opt/mamba/lib/python3.10/site-packages/httpstan/include/stan/math/prim/fun/grad_2F1.hpp: In instantiation of ‘TupleT stan::math::internal::grad_2F1_impl(const T1&, const T2&, const T3&, const T_z&, double, int) [with bool calc_a1 = true; bool calc_a2 = true; bool calc_b1 = true; bool calc_z = true; T1 = stan::math::var_value<double>; T2 = stan::math::var_value<double>; T3 = stan::math::var_value<double>; T_z = stan::math::var_value<double>; ScalarT = stan::math::var_value<double>; TupleT = std::tuple<stan::math::var_value<double, void>, stan::math::var_value<double, void>, stan::math::var_value<double, void>, stan::math::var_value<double, void> >]’:\n",
      "/opt/mamba/lib/python3.10/site-packages/httpstan/include/stan/math/prim/fun/grad_2F1.hpp:307:57:   required from ‘auto stan::math::grad_2F1(const T1&, const T2&, const T3&, const T_z&, double, int) [with bool ReturnSameT = true; T1 = stan::math::var_value<double>; T2 = stan::math::var_value<double>; T3 = stan::math::var_value<double>; T_z = stan::math::var_value<double>; stan::require_t<std::integral_constant<bool, __v> >* <anonymous> = 0]’\n",
      "/opt/mamba/lib/python3.10/site-packages/httpstan/include/stan/math/rev/fun/grad_inc_beta.hpp:49:25:   required from here\n",
      "/opt/mamba/lib/python3.10/site-packages/httpstan/include/stan/math/prim/fun/grad_2F1.hpp:192:12: warning: variable ‘pre_mult’ set but not used [-Wunused-but-set-variable]\n",
      "/home/onyxia/.cache/httpstan/4.9.1/models/mmfkrsef/model_mmfkrsef.cpp: In instantiation of ‘void model_mmfkrsef_namespace::model_mmfkrsef::transform_inits_impl(VecVar&, VecI&, VecVar&, std::ostream*) const [with VecVar = std::vector<double, std::allocator<double> >; VecI = std::vector<int>; stan::require_vector_t<T_y>* <anonymous> = 0; stan::require_vector_like_vt<std::is_integral, VecI>* <anonymous> = 0; std::ostream = std::basic_ostream<char>]’:\n",
      "/home/onyxia/.cache/httpstan/4.9.1/models/mmfkrsef/model_mmfkrsef.cpp:549:26:   required from here\n",
      "/home/onyxia/.cache/httpstan/4.9.1/models/mmfkrsef/model_mmfkrsef.cpp:356:11: warning: variable ‘pos__’ set but not used [-Wunused-but-set-variable]\n",
      "  356 |       int pos__ = std::numeric_limits<int>::min();\n",
      "      |           ^~~~~\n",
      "/home/onyxia/.cache/httpstan/4.9.1/models/mmfkrsef/model_mmfkrsef.cpp:353:22: warning: unused variable ‘DUMMY_VAR__’ [-Wunused-variable]\n",
      "  353 |     local_scalar_t__ DUMMY_VAR__(std::numeric_limits<double>::quiet_NaN());\n",
      "      |                      ^~~~~~~~~~~\n",
      "In file included from /opt/mamba/lib/python3.10/site-packages/httpstan/include/stan/math/prim/fun.hpp:124,\n",
      "                 from /opt/mamba/lib/python3.10/site-packages/httpstan/include/stan/math/rev/fun/multiply.hpp:7,\n",
      "                 from /opt/mamba/lib/python3.10/site-packages/httpstan/include/stan/math/rev/fun/elt_multiply.hpp:9,\n",
      "                 from /opt/mamba/lib/python3.10/site-packages/httpstan/include/stan/math/rev/fun.hpp:55,\n",
      "                 from /opt/mamba/lib/python3.10/site-packages/httpstan/include/stan/math/rev.hpp:10,\n",
      "                 from /opt/mamba/lib/python3.10/site-packages/httpstan/include/stan/math.hpp:19,\n",
      "                 from /opt/mamba/lib/python3.10/site-packages/httpstan/include/stan/model/model_header.hpp:4,\n",
      "                 from /home/onyxia/.cache/httpstan/4.9.1/models/mmfkrsef/model_mmfkrsef.cpp:2:\n",
      "/opt/mamba/lib/python3.10/site-packages/httpstan/include/stan/math/prim/fun/grad_2F1.hpp: In instantiation of ‘TupleT stan::math::internal::grad_2F1_impl_ab(const T1&, const T2&, const T3&, const T_z&, double, int) [with bool calc_a1 = true; bool calc_a2 = true; bool calc_b1 = true; T1 = double; T2 = double; T3 = double; T_z = double; ScalarT = double; TupleT = std::tuple<double, double, double>]’:\n",
      "/opt/mamba/lib/python3.10/site-packages/httpstan/include/stan/math/prim/fun/grad_2F1.hpp:205:78:   required from ‘TupleT stan::math::internal::grad_2F1_impl(const T1&, const T2&, const T3&, const T_z&, double, int) [with bool calc_a1 = true; bool calc_a2 = true; bool calc_b1 = true; bool calc_z = true; T1 = double; T2 = double; T3 = double; T_z = double; ScalarT = double; TupleT = std::tuple<double, double, double, double>]’\n",
      "/opt/mamba/lib/python3.10/site-packages/httpstan/include/stan/math/prim/fun/grad_2F1.hpp:307:57:   required from ‘auto stan::math::grad_2F1(const T1&, const T2&, const T3&, const T_z&, double, int) [with bool ReturnSameT = true; T1 = double; T2 = double; T3 = double; T_z = double; stan::require_t<std::integral_constant<bool, __v> >* <anonymous> = 0]’\n",
      "/opt/mamba/lib/python3.10/site-packages/httpstan/include/stan/math/prim/fun/grad_inc_beta.hpp:37:25:   required from here\n",
      "/opt/mamba/lib/python3.10/site-packages/httpstan/include/stan/math/prim/fun/grad_2F1.hpp:68:10: warning: unused variable ‘log_precision’ [-Wunused-variable]\n",
      "   68 |   double log_precision = log(precision);\n",
      "      |          ^~~~~~~~~~~~~\n",
      "/opt/mamba/lib/python3.10/site-packages/httpstan/include/stan/math/prim/fun/grad_2F1.hpp: In instantiation of ‘TupleT stan::math::internal::grad_2F1_impl_ab(const T1&, const T2&, const T3&, const T_z&, double, int) [with bool calc_a1 = true; bool calc_a2 = true; bool calc_b1 = true; T1 = stan::math::var_value<double>; T2 = stan::math::var_value<double>; T3 = stan::math::var_value<double>; T_z = stan::math::var_value<double>; ScalarT = stan::math::var_value<double>; TupleT = std::tuple<stan::math::var_value<double, void>, stan::math::var_value<double, void>, stan::math::var_value<double, void> >]’:\n",
      "/opt/mamba/lib/python3.10/site-packages/httpstan/include/stan/math/prim/fun/grad_2F1.hpp:205:78:   required from ‘TupleT stan::math::internal::grad_2F1_impl(const T1&, const T2&, const T3&, const T_z&, double, int) [with bool calc_a1 = true; bool calc_a2 = true; bool calc_b1 = true; bool calc_z = true; T1 = stan::math::var_value<double>; T2 = stan::math::var_value<double>; T3 = stan::math::var_value<double>; T_z = stan::math::var_value<double>; ScalarT = stan::math::var_value<double>; TupleT = std::tuple<stan::math::var_value<double, void>, stan::math::var_value<double, void>, stan::math::var_value<double, void>, stan::math::var_value<double, void> >]’\n",
      "/opt/mamba/lib/python3.10/site-packages/httpstan/include/stan/math/prim/fun/grad_2F1.hpp:307:57:   required from ‘auto stan::math::grad_2F1(const T1&, const T2&, const T3&, const T_z&, double, int) [with bool ReturnSameT = true; T1 = stan::math::var_value<double>; T2 = stan::math::var_value<double>; T3 = stan::math::var_value<double>; T_z = stan::math::var_value<double>; stan::require_t<std::integral_constant<bool, __v> >* <anonymous> = 0]’\n",
      "/opt/mamba/lib/python3.10/site-packages/httpstan/include/stan/math/rev/fun/grad_inc_beta.hpp:49:25:   required from here\n",
      "/opt/mamba/lib/python3.10/site-packages/httpstan/include/stan/math/prim/fun/grad_2F1.hpp:68:10: warning: unused variable ‘log_precision’ [-Wunused-variable]\n",
      "/home/onyxia/.cache/httpstan/4.9.1/models/mmfkrsef/model_mmfkrsef.cpp: In instantiation of ‘void model_mmfkrsef_namespace::model_mmfkrsef::write_array_impl(RNG&, VecR&, VecI&, VecVar&, bool, bool, std::ostream*) const [with RNG = boost::random::additive_combine_engine<boost::random::linear_congruential_engine<unsigned int, 40014, 0, 2147483563>, boost::random::linear_congruential_engine<unsigned int, 40692, 0, 2147483399> >; VecR = Eigen::Matrix<double, -1, 1>; VecI = std::vector<int>; VecVar = Eigen::Matrix<double, -1, 1>; stan::require_vector_like_vt<std::is_floating_point, VecR>* <anonymous> = 0; stan::require_vector_like_vt<std::is_integral, VecI>* <anonymous> = 0; stan::require_vector_vt<std::is_floating_point, VecVar>* <anonymous> = 0; std::ostream = std::basic_ostream<char>]’:\n",
      "/home/onyxia/.cache/httpstan/4.9.1/models/mmfkrsef/model_mmfkrsef.cpp:480:23:   required from ‘void model_mmfkrsef_namespace::model_mmfkrsef::write_array(RNG&, Eigen::Matrix<double, -1, 1>&, Eigen::Matrix<double, -1, 1>&, bool, bool, std::ostream*) const [with RNG = boost::random::additive_combine_engine<boost::random::linear_congruential_engine<unsigned int, 40014, 0, 2147483563>, boost::random::linear_congruential_engine<unsigned int, 40692, 0, 2147483399> >; std::ostream = std::basic_ostream<char>]’\n",
      "/opt/mamba/lib/python3.10/site-packages/httpstan/include/stan/model/model_base_crtp.hpp:140:61:   required from ‘void stan::model::model_base_crtp<M>::write_array(boost::random::ecuyer1988&, Eigen::VectorXd&, Eigen::VectorXd&, bool, bool, std::ostream*) const [with M = model_mmfkrsef_namespace::model_mmfkrsef; boost::random::ecuyer1988 = boost::random::additive_combine_engine<boost::random::linear_congruential_engine<unsigned int, 40014, 0, 2147483563>, boost::random::linear_congruential_engine<unsigned int, 40692, 0, 2147483399> >; Eigen::VectorXd = Eigen::Matrix<double, -1, 1>; std::ostream = std::basic_ostream<char>]’\n",
      "/opt/mamba/lib/python3.10/site-packages/httpstan/include/stan/model/model_base_crtp.hpp:136:8:   required from here\n",
      "/home/onyxia/.cache/httpstan/4.9.1/models/mmfkrsef/model_mmfkrsef.cpp:279:20: warning: unused variable ‘jacobian__’ [-Wunused-variable]\n",
      "  279 |     constexpr bool jacobian__ = false;\n",
      "      |                    ^~~~~~~~~~\n",
      "/home/onyxia/.cache/httpstan/4.9.1/models/mmfkrsef/model_mmfkrsef.cpp: In instantiation of ‘void model_mmfkrsef_namespace::model_mmfkrsef::write_array_impl(RNG&, VecR&, VecI&, VecVar&, bool, bool, std::ostream*) const [with RNG = boost::random::additive_combine_engine<boost::random::linear_congruential_engine<unsigned int, 40014, 0, 2147483563>, boost::random::linear_congruential_engine<unsigned int, 40692, 0, 2147483399> >; VecR = std::vector<double, std::allocator<double> >; VecI = std::vector<int>; VecVar = std::vector<double, std::allocator<double> >; stan::require_vector_like_vt<std::is_floating_point, VecR>* <anonymous> = 0; stan::require_vector_like_vt<std::is_integral, VecI>* <anonymous> = 0; stan::require_vector_vt<std::is_floating_point, VecVar>* <anonymous> = 0; std::ostream = std::basic_ostream<char>]’:\n",
      "/home/onyxia/.cache/httpstan/4.9.1/models/mmfkrsef/model_mmfkrsef.cpp:499:23:   required from ‘void model_mmfkrsef_namespace::model_mmfkrsef::write_array(RNG&, std::vector<double, std::allocator<double> >&, std::vector<int>&, std::vector<double, std::allocator<double> >&, bool, bool, std::ostream*) const [with RNG = boost::random::additive_combine_engine<boost::random::linear_congruential_engine<unsigned int, 40014, 0, 2147483563>, boost::random::linear_congruential_engine<unsigned int, 40692, 0, 2147483399> >; std::ostream = std::basic_ostream<char>]’\n",
      "/opt/mamba/lib/python3.10/site-packages/httpstan/include/stan/model/model_base_crtp.hpp:202:61:   required from ‘void stan::model::model_base_crtp<M>::write_array(boost::random::ecuyer1988&, std::vector<double, std::allocator<double> >&, std::vector<int>&, std::vector<double, std::allocator<double> >&, bool, bool, std::ostream*) const [with M = model_mmfkrsef_namespace::model_mmfkrsef; boost::random::ecuyer1988 = boost::random::additive_combine_engine<boost::random::linear_congruential_engine<unsigned int, 40014, 0, 2147483563>, boost::random::linear_congruential_engine<unsigned int, 40692, 0, 2147483399> >; std::ostream = std::basic_ostream<char>]’\n",
      "/opt/mamba/lib/python3.10/site-packages/httpstan/include/stan/model/model_base_crtp.hpp:198:8:   required from here\n",
      "/home/onyxia/.cache/httpstan/4.9.1/models/mmfkrsef/model_mmfkrsef.cpp:279:20: warning: unused variable ‘jacobian__’ [-Wunused-variable]\n"
     ]
    },
    {
     "ename": "RuntimeError",
     "evalue": "Exception during call to services function: `ValueError(\"Initialization failed. Rejecting initial value: Log probability evaluates to log(0), i.e. negative infinity. Stan can't start sampling from this initial value. Rejecting initial value: ...\")`, traceback: `['  File \"/opt/mamba/lib/python3.10/asyncio/tasks.py\", line 232, in __step\\n    result = coro.send(None)\\n', '  File \"/opt/mamba/lib/python3.10/site-packages/httpstan/services_stub.py\", line 185, in call\\n    future.result()\\n', '  File \"/opt/mamba/lib/python3.10/asyncio/futures.py\", line 201, in result\\n    raise self._exception.with_traceback(self._exception_tb)\\n']`",
     "output_type": "error",
     "traceback": [
      "\u001b[0;31m---------------------------------------------------------------------------\u001b[0m",
      "\u001b[0;31mRuntimeError\u001b[0m                              Traceback (most recent call last)",
      "Cell \u001b[0;32mIn[67], line 11\u001b[0m\n\u001b[1;32m      1\u001b[0m Data \u001b[38;5;241m=\u001b[39m {\u001b[38;5;124m\"\u001b[39m\u001b[38;5;124my\u001b[39m\u001b[38;5;124m\"\u001b[39m: daily_cases_int,\n\u001b[1;32m      2\u001b[0m                 \u001b[38;5;124m\"\u001b[39m\u001b[38;5;124mN\u001b[39m\u001b[38;5;124m\"\u001b[39m: \u001b[38;5;28mlen\u001b[39m(y),\n\u001b[1;32m      3\u001b[0m                 \u001b[38;5;124m\"\u001b[39m\u001b[38;5;124mX\u001b[39m\u001b[38;5;124m\"\u001b[39m: mat_design,\n\u001b[0;32m   (...)\u001b[0m\n\u001b[1;32m      7\u001b[0m                 \u001b[38;5;124m\"\u001b[39m\u001b[38;5;124msessions\u001b[39m\u001b[38;5;124m\"\u001b[39m : \u001b[38;5;28mlist\u001b[39m(sessions)\n\u001b[1;32m      8\u001b[0m        }\n\u001b[1;32m     10\u001b[0m posterior \u001b[38;5;241m=\u001b[39m stan\u001b[38;5;241m.\u001b[39mbuild(Model, data\u001b[38;5;241m=\u001b[39mData)\n\u001b[0;32m---> 11\u001b[0m fit \u001b[38;5;241m=\u001b[39m \u001b[43mposterior\u001b[49m\u001b[38;5;241;43m.\u001b[39;49m\u001b[43msample\u001b[49m\u001b[43m(\u001b[49m\u001b[43mnum_chains\u001b[49m\u001b[38;5;241;43m=\u001b[39;49m\u001b[38;5;241;43m4\u001b[39;49m\u001b[43m,\u001b[49m\u001b[43m \u001b[49m\u001b[43mnum_samples\u001b[49m\u001b[38;5;241;43m=\u001b[39;49m\u001b[38;5;241;43m1000\u001b[39;49m\u001b[43m)\u001b[49m\n\u001b[1;32m     13\u001b[0m df2 \u001b[38;5;241m=\u001b[39m fit\u001b[38;5;241m.\u001b[39mto_frame()  \u001b[38;5;66;03m# pandas `DataFrame`\u001b[39;00m\n",
      "File \u001b[0;32m/opt/mamba/lib/python3.10/site-packages/stan/model.py:89\u001b[0m, in \u001b[0;36mModel.sample\u001b[0;34m(self, num_chains, **kwargs)\u001b[0m\n\u001b[1;32m     61\u001b[0m \u001b[38;5;28;01mdef\u001b[39;00m \u001b[38;5;21msample\u001b[39m(\u001b[38;5;28mself\u001b[39m, \u001b[38;5;241m*\u001b[39m, num_chains\u001b[38;5;241m=\u001b[39m\u001b[38;5;241m4\u001b[39m, \u001b[38;5;241m*\u001b[39m\u001b[38;5;241m*\u001b[39mkwargs) \u001b[38;5;241m-\u001b[39m\u001b[38;5;241m>\u001b[39m stan\u001b[38;5;241m.\u001b[39mfit\u001b[38;5;241m.\u001b[39mFit:\n\u001b[1;32m     62\u001b[0m \u001b[38;5;250m    \u001b[39m\u001b[38;5;124;03m\"\"\"Draw samples from the model.\u001b[39;00m\n\u001b[1;32m     63\u001b[0m \n\u001b[1;32m     64\u001b[0m \u001b[38;5;124;03m    Parameters in ``kwargs`` will be passed to the default sample function.\u001b[39;00m\n\u001b[0;32m   (...)\u001b[0m\n\u001b[1;32m     87\u001b[0m \n\u001b[1;32m     88\u001b[0m \u001b[38;5;124;03m    \"\"\"\u001b[39;00m\n\u001b[0;32m---> 89\u001b[0m     \u001b[38;5;28;01mreturn\u001b[39;00m \u001b[38;5;28;43mself\u001b[39;49m\u001b[38;5;241;43m.\u001b[39;49m\u001b[43mhmc_nuts_diag_e_adapt\u001b[49m\u001b[43m(\u001b[49m\u001b[43mnum_chains\u001b[49m\u001b[38;5;241;43m=\u001b[39;49m\u001b[43mnum_chains\u001b[49m\u001b[43m,\u001b[49m\u001b[43m \u001b[49m\u001b[38;5;241;43m*\u001b[39;49m\u001b[38;5;241;43m*\u001b[39;49m\u001b[43mkwargs\u001b[49m\u001b[43m)\u001b[49m\n",
      "File \u001b[0;32m/opt/mamba/lib/python3.10/site-packages/stan/model.py:108\u001b[0m, in \u001b[0;36mModel.hmc_nuts_diag_e_adapt\u001b[0;34m(self, num_chains, **kwargs)\u001b[0m\n\u001b[1;32m     92\u001b[0m \u001b[38;5;250m\u001b[39m\u001b[38;5;124;03m\"\"\"Draw samples from the model using ``stan::services::sample::hmc_nuts_diag_e_adapt``.\u001b[39;00m\n\u001b[1;32m     93\u001b[0m \n\u001b[1;32m     94\u001b[0m \u001b[38;5;124;03mParameters in ``kwargs`` will be passed to the (Python wrapper of)\u001b[39;00m\n\u001b[0;32m   (...)\u001b[0m\n\u001b[1;32m    105\u001b[0m \n\u001b[1;32m    106\u001b[0m \u001b[38;5;124;03m\"\"\"\u001b[39;00m\n\u001b[1;32m    107\u001b[0m function \u001b[38;5;241m=\u001b[39m \u001b[38;5;124m\"\u001b[39m\u001b[38;5;124mstan::services::sample::hmc_nuts_diag_e_adapt\u001b[39m\u001b[38;5;124m\"\u001b[39m\n\u001b[0;32m--> 108\u001b[0m \u001b[38;5;28;01mreturn\u001b[39;00m \u001b[38;5;28;43mself\u001b[39;49m\u001b[38;5;241;43m.\u001b[39;49m\u001b[43m_create_fit\u001b[49m\u001b[43m(\u001b[49m\u001b[43mfunction\u001b[49m\u001b[38;5;241;43m=\u001b[39;49m\u001b[43mfunction\u001b[49m\u001b[43m,\u001b[49m\u001b[43m \u001b[49m\u001b[43mnum_chains\u001b[49m\u001b[38;5;241;43m=\u001b[39;49m\u001b[43mnum_chains\u001b[49m\u001b[43m,\u001b[49m\u001b[43m \u001b[49m\u001b[38;5;241;43m*\u001b[39;49m\u001b[38;5;241;43m*\u001b[39;49m\u001b[43mkwargs\u001b[49m\u001b[43m)\u001b[49m\n",
      "File \u001b[0;32m/opt/mamba/lib/python3.10/site-packages/stan/model.py:313\u001b[0m, in \u001b[0;36mModel._create_fit\u001b[0;34m(self, function, num_chains, **kwargs)\u001b[0m\n\u001b[1;32m    310\u001b[0m     \u001b[38;5;28;01mreturn\u001b[39;00m fit\n\u001b[1;32m    312\u001b[0m \u001b[38;5;28;01mtry\u001b[39;00m:\n\u001b[0;32m--> 313\u001b[0m     \u001b[38;5;28;01mreturn\u001b[39;00m \u001b[43masyncio\u001b[49m\u001b[38;5;241;43m.\u001b[39;49m\u001b[43mrun\u001b[49m\u001b[43m(\u001b[49m\u001b[43mgo\u001b[49m\u001b[43m(\u001b[49m\u001b[43m)\u001b[49m\u001b[43m)\u001b[49m\n\u001b[1;32m    314\u001b[0m \u001b[38;5;28;01mexcept\u001b[39;00m \u001b[38;5;167;01mKeyboardInterrupt\u001b[39;00m:\n\u001b[1;32m    315\u001b[0m     \u001b[38;5;28;01mreturn\u001b[39;00m\n",
      "File \u001b[0;32m/opt/mamba/lib/python3.10/site-packages/nest_asyncio.py:35\u001b[0m, in \u001b[0;36m_patch_asyncio.<locals>.run\u001b[0;34m(main, debug)\u001b[0m\n\u001b[1;32m     33\u001b[0m task \u001b[38;5;241m=\u001b[39m asyncio\u001b[38;5;241m.\u001b[39mensure_future(main)\n\u001b[1;32m     34\u001b[0m \u001b[38;5;28;01mtry\u001b[39;00m:\n\u001b[0;32m---> 35\u001b[0m     \u001b[38;5;28;01mreturn\u001b[39;00m \u001b[43mloop\u001b[49m\u001b[38;5;241;43m.\u001b[39;49m\u001b[43mrun_until_complete\u001b[49m\u001b[43m(\u001b[49m\u001b[43mtask\u001b[49m\u001b[43m)\u001b[49m\n\u001b[1;32m     36\u001b[0m \u001b[38;5;28;01mfinally\u001b[39;00m:\n\u001b[1;32m     37\u001b[0m     \u001b[38;5;28;01mif\u001b[39;00m \u001b[38;5;129;01mnot\u001b[39;00m task\u001b[38;5;241m.\u001b[39mdone():\n",
      "File \u001b[0;32m/opt/mamba/lib/python3.10/site-packages/nest_asyncio.py:90\u001b[0m, in \u001b[0;36m_patch_loop.<locals>.run_until_complete\u001b[0;34m(self, future)\u001b[0m\n\u001b[1;32m     87\u001b[0m \u001b[38;5;28;01mif\u001b[39;00m \u001b[38;5;129;01mnot\u001b[39;00m f\u001b[38;5;241m.\u001b[39mdone():\n\u001b[1;32m     88\u001b[0m     \u001b[38;5;28;01mraise\u001b[39;00m \u001b[38;5;167;01mRuntimeError\u001b[39;00m(\n\u001b[1;32m     89\u001b[0m         \u001b[38;5;124m'\u001b[39m\u001b[38;5;124mEvent loop stopped before Future completed.\u001b[39m\u001b[38;5;124m'\u001b[39m)\n\u001b[0;32m---> 90\u001b[0m \u001b[38;5;28;01mreturn\u001b[39;00m \u001b[43mf\u001b[49m\u001b[38;5;241;43m.\u001b[39;49m\u001b[43mresult\u001b[49m\u001b[43m(\u001b[49m\u001b[43m)\u001b[49m\n",
      "File \u001b[0;32m/opt/mamba/lib/python3.10/asyncio/futures.py:201\u001b[0m, in \u001b[0;36mFuture.result\u001b[0;34m(self)\u001b[0m\n\u001b[1;32m    199\u001b[0m \u001b[38;5;28mself\u001b[39m\u001b[38;5;241m.\u001b[39m__log_traceback \u001b[38;5;241m=\u001b[39m \u001b[38;5;28;01mFalse\u001b[39;00m\n\u001b[1;32m    200\u001b[0m \u001b[38;5;28;01mif\u001b[39;00m \u001b[38;5;28mself\u001b[39m\u001b[38;5;241m.\u001b[39m_exception \u001b[38;5;129;01mis\u001b[39;00m \u001b[38;5;129;01mnot\u001b[39;00m \u001b[38;5;28;01mNone\u001b[39;00m:\n\u001b[0;32m--> 201\u001b[0m     \u001b[38;5;28;01mraise\u001b[39;00m \u001b[38;5;28mself\u001b[39m\u001b[38;5;241m.\u001b[39m_exception\u001b[38;5;241m.\u001b[39mwith_traceback(\u001b[38;5;28mself\u001b[39m\u001b[38;5;241m.\u001b[39m_exception_tb)\n\u001b[1;32m    202\u001b[0m \u001b[38;5;28;01mreturn\u001b[39;00m \u001b[38;5;28mself\u001b[39m\u001b[38;5;241m.\u001b[39m_result\n",
      "File \u001b[0;32m/opt/mamba/lib/python3.10/asyncio/tasks.py:232\u001b[0m, in \u001b[0;36mTask.__step\u001b[0;34m(***failed resolving arguments***)\u001b[0m\n\u001b[1;32m    228\u001b[0m \u001b[38;5;28;01mtry\u001b[39;00m:\n\u001b[1;32m    229\u001b[0m     \u001b[38;5;28;01mif\u001b[39;00m exc \u001b[38;5;129;01mis\u001b[39;00m \u001b[38;5;28;01mNone\u001b[39;00m:\n\u001b[1;32m    230\u001b[0m         \u001b[38;5;66;03m# We use the `send` method directly, because coroutines\u001b[39;00m\n\u001b[1;32m    231\u001b[0m         \u001b[38;5;66;03m# don't have `__iter__` and `__next__` methods.\u001b[39;00m\n\u001b[0;32m--> 232\u001b[0m         result \u001b[38;5;241m=\u001b[39m \u001b[43mcoro\u001b[49m\u001b[38;5;241;43m.\u001b[39;49m\u001b[43msend\u001b[49m\u001b[43m(\u001b[49m\u001b[38;5;28;43;01mNone\u001b[39;49;00m\u001b[43m)\u001b[49m\n\u001b[1;32m    233\u001b[0m     \u001b[38;5;28;01melse\u001b[39;00m:\n\u001b[1;32m    234\u001b[0m         result \u001b[38;5;241m=\u001b[39m coro\u001b[38;5;241m.\u001b[39mthrow(exc)\n",
      "File \u001b[0;32m/opt/mamba/lib/python3.10/site-packages/stan/model.py:236\u001b[0m, in \u001b[0;36mModel._create_fit.<locals>.go\u001b[0;34m()\u001b[0m\n\u001b[1;32m    234\u001b[0m         sampling_output\u001b[38;5;241m.\u001b[39mwrite_line(\u001b[38;5;124m\"\u001b[39m\u001b[38;5;124m<info>Sampling:</info> <error>Initialization failed.</error>\u001b[39m\u001b[38;5;124m\"\u001b[39m)\n\u001b[1;32m    235\u001b[0m         \u001b[38;5;28;01mraise\u001b[39;00m \u001b[38;5;167;01mRuntimeError\u001b[39;00m(\u001b[38;5;124m\"\u001b[39m\u001b[38;5;124mInitialization failed.\u001b[39m\u001b[38;5;124m\"\u001b[39m)\n\u001b[0;32m--> 236\u001b[0m     \u001b[38;5;28;01mraise\u001b[39;00m \u001b[38;5;167;01mRuntimeError\u001b[39;00m(message)\n\u001b[1;32m    238\u001b[0m resp \u001b[38;5;241m=\u001b[39m \u001b[38;5;28;01mawait\u001b[39;00m client\u001b[38;5;241m.\u001b[39mget(\u001b[38;5;124mf\u001b[39m\u001b[38;5;124m\"\u001b[39m\u001b[38;5;124m/\u001b[39m\u001b[38;5;132;01m{\u001b[39;00mfit_name\u001b[38;5;132;01m}\u001b[39;00m\u001b[38;5;124m\"\u001b[39m)\n\u001b[1;32m    239\u001b[0m \u001b[38;5;28;01mif\u001b[39;00m resp\u001b[38;5;241m.\u001b[39mstatus \u001b[38;5;241m!=\u001b[39m \u001b[38;5;241m200\u001b[39m:\n",
      "\u001b[0;31mRuntimeError\u001b[0m: Exception during call to services function: `ValueError(\"Initialization failed. Rejecting initial value: Log probability evaluates to log(0), i.e. negative infinity. Stan can't start sampling from this initial value. Rejecting initial value: ...\")`, traceback: `['  File \"/opt/mamba/lib/python3.10/asyncio/tasks.py\", line 232, in __step\\n    result = coro.send(None)\\n', '  File \"/opt/mamba/lib/python3.10/site-packages/httpstan/services_stub.py\", line 185, in call\\n    future.result()\\n', '  File \"/opt/mamba/lib/python3.10/asyncio/futures.py\", line 201, in result\\n    raise self._exception.with_traceback(self._exception_tb)\\n']`"
     ]
    }
   ],
   "source": [
    "%%capture\n",
    "Data = {\"y\": daily_cases_int,\n",
    "                \"N\": len(y),\n",
    "                \"X\": mat_design,\n",
    "                \"K\" : mat_design.shape[1],\n",
    "                \"theta2\" : theta2,\n",
    "                \"sigma2\" : sigma2,\n",
    "                \"sessions\" : list(sessions)\n",
    "       }\n",
    "\n",
    "posterior = stan.build(Model, data=Data)\n",
    "fit = posterior.sample(num_chains=4, num_samples=1000)\n",
    "\n",
    "df2 = fit.to_frame()  # pandas `DataFrame`"
   ]
  },
  {
   "cell_type": "code",
   "execution_count": null,
   "id": "19a36d1d-6df1-4d8c-acc0-a589fa42b288",
   "metadata": {},
   "outputs": [],
   "source": []
  }
 ],
 "metadata": {
  "kernelspec": {
   "display_name": "Python 3 (ipykernel)",
   "language": "python",
   "name": "python3"
  },
  "language_info": {
   "codemirror_mode": {
    "name": "ipython",
    "version": 3
   },
   "file_extension": ".py",
   "mimetype": "text/x-python",
   "name": "python",
   "nbconvert_exporter": "python",
   "pygments_lexer": "ipython3",
   "version": "3.10.8"
  }
 },
 "nbformat": 4,
 "nbformat_minor": 5
}
