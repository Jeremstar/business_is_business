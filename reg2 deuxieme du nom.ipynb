{
 "cells": [
  {
   "cell_type": "code",
   "execution_count": 1,
   "id": "4007ee6e-aa37-4f54-a90a-c27b1bca9519",
   "metadata": {
    "tags": []
   },
   "outputs": [
    {
     "name": "stdout",
     "output_type": "stream",
     "text": [
      "Collecting prophet\n",
      "  Downloading prophet-1.1.2-py3-none-manylinux_2_17_x86_64.manylinux2014_x86_64.whl (8.9 MB)\n",
      "\u001b[2K     \u001b[90m━━━━━━━━━━━━━━━━━━━━━━━━━━━━━━━━━━━━━━━━\u001b[0m \u001b[32m8.9/8.9 MB\u001b[0m \u001b[31m20.8 MB/s\u001b[0m eta \u001b[36m0:00:00\u001b[0m00:01\u001b[0m00:01\u001b[0m\n",
      "\u001b[?25hCollecting holidays>=0.14.2\n",
      "  Downloading holidays-0.19-py3-none-any.whl (208 kB)\n",
      "\u001b[2K     \u001b[90m━━━━━━━━━━━━━━━━━━━━━━━━━━━━━━━━━━━━━\u001b[0m \u001b[32m208.5/208.5 kB\u001b[0m \u001b[31m455.6 kB/s\u001b[0m eta \u001b[36m0:00:00\u001b[0m00:01\u001b[0m\n",
      "\u001b[?25hRequirement already satisfied: python-dateutil>=2.8.0 in /opt/mamba/lib/python3.10/site-packages (from prophet) (2.8.2)\n",
      "Collecting convertdate>=2.1.2\n",
      "  Downloading convertdate-2.4.0-py3-none-any.whl (47 kB)\n",
      "\u001b[2K     \u001b[90m━━━━━━━━━━━━━━━━━━━━━━━━━━━━━━━━━━━━━━━━\u001b[0m \u001b[32m47.9/47.9 kB\u001b[0m \u001b[31m4.6 MB/s\u001b[0m eta \u001b[36m0:00:00\u001b[0m\n",
      "\u001b[?25hRequirement already satisfied: numpy>=1.15.4 in /opt/mamba/lib/python3.10/site-packages (from prophet) (1.23.5)\n",
      "Collecting cmdstanpy>=1.0.4\n",
      "  Downloading cmdstanpy-1.1.0-py3-none-any.whl (83 kB)\n",
      "\u001b[2K     \u001b[90m━━━━━━━━━━━━━━━━━━━━━━━━━━━━━━━━━━━━━━━\u001b[0m \u001b[32m83.2/83.2 kB\u001b[0m \u001b[31m396.6 kB/s\u001b[0m eta \u001b[36m0:00:00\u001b[0m00:01\u001b[0m\n",
      "\u001b[?25hRequirement already satisfied: matplotlib>=2.0.0 in /opt/mamba/lib/python3.10/site-packages (from prophet) (3.6.3)\n",
      "Requirement already satisfied: tqdm>=4.36.1 in /opt/mamba/lib/python3.10/site-packages (from prophet) (4.64.1)\n",
      "Collecting LunarCalendar>=0.0.9\n",
      "  Downloading LunarCalendar-0.0.9-py2.py3-none-any.whl (18 kB)\n",
      "Requirement already satisfied: pandas>=1.0.4 in /opt/mamba/lib/python3.10/site-packages (from prophet) (1.5.3)\n",
      "Collecting pymeeus<=1,>=0.3.13\n",
      "  Downloading PyMeeus-0.5.12.tar.gz (5.8 MB)\n",
      "\u001b[2K     \u001b[90m━━━━━━━━━━━━━━━━━━━━━━━━━━━━━━━━━━━━━━━━\u001b[0m \u001b[32m5.8/5.8 MB\u001b[0m \u001b[31m14.0 MB/s\u001b[0m eta \u001b[36m0:00:00\u001b[0m00:01\u001b[0m00:01\u001b[0m\n",
      "\u001b[?25h  Preparing metadata (setup.py) ... \u001b[?25ldone\n",
      "\u001b[?25hCollecting hijri-converter\n",
      "  Downloading hijri_converter-2.2.4-py3-none-any.whl (14 kB)\n",
      "Collecting korean-lunar-calendar\n",
      "  Downloading korean_lunar_calendar-0.3.1-py3-none-any.whl (9.0 kB)\n",
      "Collecting ephem>=3.7.5.3\n",
      "  Downloading ephem-4.1.4-cp310-cp310-manylinux_2_17_x86_64.manylinux2014_x86_64.whl (1.8 MB)\n",
      "\u001b[2K     \u001b[90m━━━━━━━━━━━━━━━━━━━━━━━━━━━━━━━━━━━━━━━━\u001b[0m \u001b[32m1.8/1.8 MB\u001b[0m \u001b[31m20.7 MB/s\u001b[0m eta \u001b[36m0:00:00\u001b[0ma \u001b[36m0:00:01\u001b[0m\n",
      "\u001b[?25hRequirement already satisfied: pytz in /opt/mamba/lib/python3.10/site-packages (from LunarCalendar>=0.0.9->prophet) (2022.7.1)\n",
      "Requirement already satisfied: packaging>=20.0 in /opt/mamba/lib/python3.10/site-packages (from matplotlib>=2.0.0->prophet) (22.0)\n",
      "Requirement already satisfied: pyparsing>=2.2.1 in /opt/mamba/lib/python3.10/site-packages (from matplotlib>=2.0.0->prophet) (3.0.9)\n",
      "Requirement already satisfied: kiwisolver>=1.0.1 in /opt/mamba/lib/python3.10/site-packages (from matplotlib>=2.0.0->prophet) (1.4.4)\n",
      "Requirement already satisfied: fonttools>=4.22.0 in /opt/mamba/lib/python3.10/site-packages (from matplotlib>=2.0.0->prophet) (4.38.0)\n",
      "Requirement already satisfied: pillow>=6.2.0 in /opt/mamba/lib/python3.10/site-packages (from matplotlib>=2.0.0->prophet) (9.4.0)\n",
      "Requirement already satisfied: cycler>=0.10 in /opt/mamba/lib/python3.10/site-packages (from matplotlib>=2.0.0->prophet) (0.11.0)\n",
      "Requirement already satisfied: contourpy>=1.0.1 in /opt/mamba/lib/python3.10/site-packages (from matplotlib>=2.0.0->prophet) (1.0.7)\n",
      "Requirement already satisfied: six>=1.5 in /opt/mamba/lib/python3.10/site-packages (from python-dateutil>=2.8.0->prophet) (1.16.0)\n",
      "Building wheels for collected packages: pymeeus\n",
      "  Building wheel for pymeeus (setup.py) ... \u001b[?25ldone\n",
      "\u001b[?25h  Created wheel for pymeeus: filename=PyMeeus-0.5.12-py3-none-any.whl size=731999 sha256=5d781c83bde2039d2c3318f69b8f03d2c69b9c35b96167ea1c4d9f7464ab797a\n",
      "  Stored in directory: /home/onyxia/.cache/pip/wheels/d6/67/78/aa2e8d108639dd23a5e9e72a4fc88bb44f5541894382712f48\n",
      "Successfully built pymeeus\n",
      "Installing collected packages: pymeeus, korean-lunar-calendar, ephem, hijri-converter, convertdate, LunarCalendar, holidays, cmdstanpy, prophet\n",
      "Successfully installed LunarCalendar-0.0.9 cmdstanpy-1.1.0 convertdate-2.4.0 ephem-4.1.4 hijri-converter-2.2.4 holidays-0.19 korean-lunar-calendar-0.3.1 prophet-1.1.2 pymeeus-0.5.12\n",
      "Collecting stan\n",
      "  Downloading stan-1.0.tar.gz (717 bytes)\n",
      "  Preparing metadata (setup.py) ... \u001b[?25ldone\n",
      "\u001b[?25hBuilding wheels for collected packages: stan\n",
      "  Building wheel for stan (setup.py) ... \u001b[?25lerror\n",
      "  \u001b[1;31merror\u001b[0m: \u001b[1msubprocess-exited-with-error\u001b[0m\n",
      "  \n",
      "  \u001b[31m×\u001b[0m \u001b[32mpython setup.py bdist_wheel\u001b[0m did not run successfully.\n",
      "  \u001b[31m│\u001b[0m exit code: \u001b[1;36m1\u001b[0m\n",
      "  \u001b[31m╰─>\u001b[0m \u001b[31m[6 lines of output]\u001b[0m\n",
      "  \u001b[31m   \u001b[0m Traceback (most recent call last):\n",
      "  \u001b[31m   \u001b[0m   File \"<string>\", line 2, in <module>\n",
      "  \u001b[31m   \u001b[0m   File \"<pip-setuptools-caller>\", line 34, in <module>\n",
      "  \u001b[31m   \u001b[0m   File \"/tmp/pip-install-rhxsyntm/stan_f57079b681a144ba9b6667e14dce64db/setup.py\", line 13, in <module>\n",
      "  \u001b[31m   \u001b[0m     raise Exception(message)\n",
      "  \u001b[31m   \u001b[0m Exception: You tried to install \"stan\". The package for PyStan is named \"pystan\".\n",
      "  \u001b[31m   \u001b[0m \u001b[31m[end of output]\u001b[0m\n",
      "  \n",
      "  \u001b[1;35mnote\u001b[0m: This error originates from a subprocess, and is likely not a problem with pip.\n",
      "\u001b[31m  ERROR: Failed building wheel for stan\u001b[0m\u001b[31m\n",
      "\u001b[0m\u001b[?25h  Running setup.py clean for stan\n",
      "Failed to build stan\n",
      "Installing collected packages: stan\n",
      "  Running setup.py install for stan ... \u001b[?25lerror\n",
      "  \u001b[1;31merror\u001b[0m: \u001b[1msubprocess-exited-with-error\u001b[0m\n",
      "  \n",
      "  \u001b[31m×\u001b[0m \u001b[32mRunning setup.py install for stan\u001b[0m did not run successfully.\n",
      "  \u001b[31m│\u001b[0m exit code: \u001b[1;36m1\u001b[0m\n",
      "  \u001b[31m╰─>\u001b[0m \u001b[31m[6 lines of output]\u001b[0m\n",
      "  \u001b[31m   \u001b[0m Traceback (most recent call last):\n",
      "  \u001b[31m   \u001b[0m   File \"<string>\", line 2, in <module>\n",
      "  \u001b[31m   \u001b[0m   File \"<pip-setuptools-caller>\", line 34, in <module>\n",
      "  \u001b[31m   \u001b[0m   File \"/tmp/pip-install-rhxsyntm/stan_f57079b681a144ba9b6667e14dce64db/setup.py\", line 9, in <module>\n",
      "  \u001b[31m   \u001b[0m     raise Exception(message)\n",
      "  \u001b[31m   \u001b[0m Exception: You tried to install \"stan\". The package for PyStan is named \"pystan\".\n",
      "  \u001b[31m   \u001b[0m \u001b[31m[end of output]\u001b[0m\n",
      "  \n",
      "  \u001b[1;35mnote\u001b[0m: This error originates from a subprocess, and is likely not a problem with pip.\n",
      "\u001b[1;31merror\u001b[0m: \u001b[1mlegacy-install-failure\u001b[0m\n",
      "\n",
      "\u001b[31m×\u001b[0m Encountered error while trying to install package.\n",
      "\u001b[31m╰─>\u001b[0m stan\n",
      "\n",
      "\u001b[1;35mnote\u001b[0m: This is an issue with the package mentioned above, not pip.\n",
      "\u001b[1;36mhint\u001b[0m: See above for output from the failure.\n",
      "\u001b[?25hCollecting pystan\n",
      "  Downloading pystan-3.6.0-py3-none-any.whl (13 kB)\n",
      "Collecting aiohttp<4.0,>=3.6\n",
      "  Downloading aiohttp-3.8.4-cp310-cp310-manylinux_2_17_x86_64.manylinux2014_x86_64.whl (1.0 MB)\n",
      "\u001b[2K     \u001b[90m━━━━━━━━━━━━━━━━━━━━━━━━━━━━━━━━━━━━━━━━\u001b[0m \u001b[32m1.0/1.0 MB\u001b[0m \u001b[31m500.3 kB/s\u001b[0m eta \u001b[36m0:00:00\u001b[0m0:01\u001b[0m0:01\u001b[0m\n",
      "\u001b[?25hCollecting clikit<0.7,>=0.6\n",
      "  Downloading clikit-0.6.2-py2.py3-none-any.whl (91 kB)\n",
      "\u001b[2K     \u001b[90m━━━━━━━━━━━━━━━━━━━━━━━━━━━━━━━━━━━━━━━\u001b[0m \u001b[32m91.8/91.8 kB\u001b[0m \u001b[31m162.6 kB/s\u001b[0m eta \u001b[36m0:00:00\u001b[0ma \u001b[36m0:00:01\u001b[0m\n",
      "\u001b[?25hCollecting pysimdjson<6.0.0,>=5.0.2\n",
      "  Downloading pysimdjson-5.0.2-cp310-cp310-manylinux_2_17_x86_64.manylinux2014_x86_64.whl (1.8 MB)\n",
      "\u001b[2K     \u001b[90m━━━━━━━━━━━━━━━━━━━━━━━━━━━━━━━━━━━━━━━━\u001b[0m \u001b[32m1.8/1.8 MB\u001b[0m \u001b[31m1.9 MB/s\u001b[0m eta \u001b[36m0:00:00\u001b[0m:00:01\u001b[0m00:01\u001b[0m\n",
      "\u001b[?25hRequirement already satisfied: numpy<2.0,>=1.19 in /opt/mamba/lib/python3.10/site-packages (from pystan) (1.23.5)\n",
      "Collecting httpstan<4.10,>=4.9\n",
      "  Downloading httpstan-4.9.1-cp310-cp310-manylinux_2_17_x86_64.manylinux2014_x86_64.whl (43.4 MB)\n",
      "\u001b[2K     \u001b[90m━━━━━━━━━━━━━━━━━━━━━━━━━━━━━━━━━━━━━━━━\u001b[0m \u001b[32m43.4/43.4 MB\u001b[0m \u001b[31m5.1 MB/s\u001b[0m eta \u001b[36m0:00:00\u001b[0m00:01\u001b[0m00:01\u001b[0mm\n",
      "\u001b[?25hRequirement already satisfied: setuptools in /opt/mamba/lib/python3.10/site-packages (from pystan) (65.6.3)\n",
      "Requirement already satisfied: attrs>=17.3.0 in /opt/mamba/lib/python3.10/site-packages (from aiohttp<4.0,>=3.6->pystan) (22.2.0)\n",
      "Requirement already satisfied: charset-normalizer<4.0,>=2.0 in /opt/mamba/lib/python3.10/site-packages (from aiohttp<4.0,>=3.6->pystan) (2.1.1)\n",
      "Collecting multidict<7.0,>=4.5\n",
      "  Downloading multidict-6.0.4-cp310-cp310-manylinux_2_17_x86_64.manylinux2014_x86_64.whl (114 kB)\n",
      "\u001b[2K     \u001b[90m━━━━━━━━━━━━━━━━━━━━━━━━━━━━━━━━━━━━━━\u001b[0m \u001b[32m114.5/114.5 kB\u001b[0m \u001b[31m24.6 MB/s\u001b[0m eta \u001b[36m0:00:00\u001b[0m\n",
      "\u001b[?25hCollecting yarl<2.0,>=1.0\n",
      "  Downloading yarl-1.8.2-cp310-cp310-manylinux_2_17_x86_64.manylinux2014_x86_64.whl (264 kB)\n",
      "\u001b[2K     \u001b[90m━━━━━━━━━━━━━━━━━━━━━━━━━━━━━━━━━━━━━━━\u001b[0m \u001b[32m264.0/264.0 kB\u001b[0m \u001b[31m2.5 MB/s\u001b[0m eta \u001b[36m0:00:00\u001b[0ma \u001b[36m0:00:01\u001b[0m\n",
      "\u001b[?25hCollecting frozenlist>=1.1.1\n",
      "  Downloading frozenlist-1.3.3-cp310-cp310-manylinux_2_5_x86_64.manylinux1_x86_64.manylinux_2_17_x86_64.manylinux2014_x86_64.whl (149 kB)\n",
      "\u001b[2K     \u001b[90m━━━━━━━━━━━━━━━━━━━━━━━━━━━━━━━━━━━━━\u001b[0m \u001b[32m149.6/149.6 kB\u001b[0m \u001b[31m488.6 kB/s\u001b[0m eta \u001b[36m0:00:00\u001b[0ma \u001b[36m0:00:01\u001b[0m\n",
      "\u001b[?25hCollecting aiosignal>=1.1.2\n",
      "  Downloading aiosignal-1.3.1-py3-none-any.whl (7.6 kB)\n",
      "Collecting async-timeout<5.0,>=4.0.0a3\n",
      "  Downloading async_timeout-4.0.2-py3-none-any.whl (5.8 kB)\n",
      "Collecting crashtest<0.4.0,>=0.3.0\n",
      "  Downloading crashtest-0.3.1-py3-none-any.whl (7.0 kB)\n",
      "Collecting pylev<2.0,>=1.3\n",
      "  Downloading pylev-1.4.0-py2.py3-none-any.whl (6.1 kB)\n",
      "Collecting pastel<0.3.0,>=0.2.0\n",
      "  Downloading pastel-0.2.1-py2.py3-none-any.whl (6.0 kB)\n",
      "Requirement already satisfied: appdirs<2.0,>=1.4 in /opt/mamba/lib/python3.10/site-packages (from httpstan<4.10,>=4.9->pystan) (1.4.4)\n",
      "Collecting webargs<9.0,>=8.0\n",
      "  Downloading webargs-8.2.0-py3-none-any.whl (30 kB)\n",
      "Collecting marshmallow<4.0,>=3.10\n",
      "  Downloading marshmallow-3.19.0-py3-none-any.whl (49 kB)\n",
      "\u001b[2K     \u001b[90m━━━━━━━━━━━━━━━━━━━━━━━━━━━━━━━━━━━━━━━━\u001b[0m \u001b[32m49.1/49.1 kB\u001b[0m \u001b[31m19.7 MB/s\u001b[0m eta \u001b[36m0:00:00\u001b[0m\n",
      "\u001b[?25hRequirement already satisfied: packaging>=17.0 in /opt/mamba/lib/python3.10/site-packages (from marshmallow<4.0,>=3.10->httpstan<4.10,>=4.9->pystan) (22.0)\n",
      "Requirement already satisfied: idna>=2.0 in /opt/mamba/lib/python3.10/site-packages (from yarl<2.0,>=1.0->aiohttp<4.0,>=3.6->pystan) (3.4)\n",
      "Installing collected packages: pylev, pysimdjson, pastel, multidict, marshmallow, frozenlist, crashtest, async-timeout, yarl, webargs, clikit, aiosignal, aiohttp, httpstan, pystan\n",
      "Successfully installed aiohttp-3.8.4 aiosignal-1.3.1 async-timeout-4.0.2 clikit-0.6.2 crashtest-0.3.1 frozenlist-1.3.3 httpstan-4.9.1 marshmallow-3.19.0 multidict-6.0.4 pastel-0.2.1 pylev-1.4.0 pysimdjson-5.0.2 pystan-3.6.0 webargs-8.2.0 yarl-1.8.2\n",
      "Requirement already satisfied: nest_asyncio in /opt/mamba/lib/python3.10/site-packages (1.5.6)\n"
     ]
    }
   ],
   "source": [
    "!pip install prophet\n",
    "!pip install stan\n",
    "!pip install pystan\n",
    "!pip install nest_asyncio"
   ]
  },
  {
   "cell_type": "code",
   "execution_count": 2,
   "id": "be060c3b-4633-43ab-98eb-b0878deaeb2a",
   "metadata": {
    "tags": []
   },
   "outputs": [],
   "source": [
    "import pandas as pd\n",
    "from prophet import Prophet\n",
    "import numpy as np\n",
    "import math\n",
    "from sklearn.linear_model import LinearRegression\n",
    "import matplotlib.pyplot as plt\n",
    "import seaborn as sns\n",
    "import stan\n",
    "import nest_asyncio\n",
    "nest_asyncio.apply()"
   ]
  },
  {
   "cell_type": "code",
   "execution_count": 3,
   "id": "5632b0bb-f8de-4eaf-9324-611aa8fd8b3a",
   "metadata": {
    "tags": []
   },
   "outputs": [],
   "source": [
    "df = pd.read_csv('https://raw.githubusercontent.com/Jeremstar/business_is_business/main/England_covid.csv')"
   ]
  },
  {
   "cell_type": "code",
   "execution_count": 4,
   "id": "4c315cd8-7dba-4b99-8af4-48ee878923cf",
   "metadata": {
    "tags": []
   },
   "outputs": [],
   "source": [
    "df = df[[\"date\", \"new_deaths_60days\",\"new_virus_test\",\"daily_cases\"]]"
   ]
  },
  {
   "cell_type": "code",
   "execution_count": 5,
   "id": "6a6d5d0f-68e9-4a12-8dbc-15ba5efda191",
   "metadata": {
    "tags": []
   },
   "outputs": [],
   "source": [
    "df = df.dropna(axis=0)"
   ]
  },
  {
   "cell_type": "code",
   "execution_count": 6,
   "id": "021328ad-e310-42cd-881b-6b68773a2990",
   "metadata": {
    "tags": []
   },
   "outputs": [],
   "source": [
    "df = df.sort_values(by='date')\n",
    "df['j'] = np.arange(df.shape[0])\n",
    "df[\"j\"] = df['j'] + 1\n",
    "\n",
    "def find_var_expl_time(j): \n",
    "    x_j = [1]\n",
    "    x_j.append(j/365*3)\n",
    "    for l in range(2,46): \n",
    "        if l >= 2 and l <= 8: \n",
    "            x_j.append(math.cos(2*math.pi*(l-2)*j/7))\n",
    "        elif l >= 9 and l <= 15:\n",
    "            x_j.append(math.sin(2*math.pi*(l-9)*j/7))\n",
    "        elif l >= 16 and l <= 30: \n",
    "            x_j.append(math.cos(2*math.pi*(l-16)*j/(365.25)))\n",
    "        elif l >= 31 and l <= 45:\n",
    "            x_j.append(math.sin(2*math.pi*(l-35)*j/(365.25)))\n",
    "    return x_j\n",
    "\n",
    "mat_design = np.empty((0,46))\n",
    "for j in df[\"j\"]:\n",
    "    row = np.array(find_var_expl_time(j))\n",
    "    mat_design = np.r_[mat_design,[row]]\n",
    "\n",
    "mat_design2 = pd.DataFrame(mat_design)"
   ]
  },
  {
   "cell_type": "code",
   "execution_count": 38,
   "id": "0dca3021-0245-40ee-ac1d-2904982b063d",
   "metadata": {
    "tags": []
   },
   "outputs": [],
   "source": [
    "#Il faut fabriquer la variable p\n",
    "df[\"positive_test_prop\"] = df[\"daily_cases\"] / df[\"new_virus_test\"]"
   ]
  },
  {
   "cell_type": "code",
   "execution_count": 40,
   "id": "3cbf8f64-0180-4f96-8290-6342f504dfb2",
   "metadata": {
    "tags": []
   },
   "outputs": [
    {
     "name": "stdout",
     "output_type": "stream",
     "text": [
      "Intercept :  -15197050.139385467\n",
      "Beta :  [ 1.44310041e+06  6.78579944e-04  8.38373517e+06 -3.79063743e+07\n",
      " -1.51527621e+09  5.44069412e+09 -5.44069412e+09  1.51527621e+09\n",
      "  3.79063743e+07  6.66900694e+06 -3.76151907e+08  2.13695269e+09\n",
      " -7.30549818e+09 -7.30549818e+09  2.13695269e+09 -3.76151907e+08\n",
      "  5.37021461e+06  1.25530208e-02 -4.70787618e-03 -5.05653499e-03\n",
      " -1.80814379e-02 -4.25979495e-03 -1.11603096e-03 -1.53590329e-03\n",
      " -2.09807966e-03 -1.24517614e-03 -8.17189459e-05  8.61762305e-04\n",
      "  1.16021279e-03  6.96300041e-04  8.96105403e-04 -3.71736954e+06\n",
      "  2.65166062e+06  2.14970111e+06 -8.50737148e+05  1.53476669e+05\n",
      " -8.50737161e+05  2.14970112e+06  2.65166063e+06 -3.71736952e+06\n",
      "  2.77039161e-03 -3.74977646e-03 -3.49136628e-03 -3.46423007e-03\n",
      "  2.80699826e-03  2.48216967e-03]\n"
     ]
    },
    {
     "data": {
      "image/png": "[encoded data removed]",
      "text/plain": [
       "<Figure size 640x480 with 1 Axes>"
      ]
     },
     "metadata": {},
     "output_type": "display_data"
    }
   ],
   "source": [
    "#Regression linéaire simple pour theta 2:\n",
    "X = mat_design\n",
    "y = df[\"positive_test_prop\"]\n",
    "model = LinearRegression().fit(X, y)\n",
    "\n",
    "epsilon = model.intercept_\n",
    "theta2 = model.coef_\n",
    "\n",
    "print(\"Intercept : \",epsilon)\n",
    "print(\"Beta : \", theta2)\n",
    "\n",
    "T = df.shape[0]\n",
    "t = np.array(df.index).reshape(-1, 1) / T\n",
    "\n",
    "\n",
    "plt.scatter(t, df[\"positive_test_prop\"], color='blue')\n",
    "plt.plot(t, model.predict(X), color='red')\n",
    "plt.xlabel('Time')\n",
    "plt.ylabel('positive_test_prop')\n",
    "plt.title('Linear Regression')\n",
    "plt.show()"
   ]
  },
  {
   "cell_type": "code",
   "execution_count": 8,
   "id": "0e696e09-280a-42c4-9005-86fad4a3acce",
   "metadata": {
    "tags": []
   },
   "outputs": [],
   "source": [
    "#Il faut aussi fabriquer le sigma 2\n",
    "sigma2 = np.random.normal(loc=0, scale=np.sqrt(0.5))\n",
    "sigma2 = np.exp(sigma2)"
   ]
  },
  {
   "cell_type": "code",
   "execution_count": 9,
   "id": "33bec0e8-1af0-44bb-827e-37210d8d338a",
   "metadata": {
    "tags": []
   },
   "outputs": [
    {
     "data": {
      "text/plain": [
       "0.8205297995855267"
      ]
     },
     "execution_count": 9,
     "metadata": {},
     "output_type": "execute_result"
    }
   ],
   "source": [
    "sigma2"
   ]
  },
  {
   "cell_type": "code",
   "execution_count": 10,
   "id": "cd94b33f-2a76-48bb-b6a0-fbe9af1dc5f5",
   "metadata": {
    "tags": []
   },
   "outputs": [
    {
     "name": "stdout",
     "output_type": "stream",
     "text": [
      "[3657, 12409, 58035, 28710, 41246, 49780, 94788, 15250, 8401, 91809, 43325, 80129, 91891, 14876, 47735, 21446, 80795, 63187, 78830, 63876, 28378, 84585, 71651, 20262, 97235, 84433, 67208, 23410, 91814, 4134, 32385, 90899, 11420, 44619, 20856, 15840, 64992, 74345, 49488, 78554, 10359, 21907, 14703, 16245, 25506, 52064, 84152, 73072, 69686, 4472, 23490, 54279, 79619, 24501, 84234, 10744, 25040, 82197, 59331, 25796, 26478, 90857, 76480, 77150, 95032, 11871, 80084, 63419, 58108, 79370, 94094, 37972, 61459, 9554, 79616, 55344, 56119, 70984, 28197, 27779, 30626, 8015, 41683, 78790, 17426, 23349, 96767, 36373, 88056, 31225, 97389, 65328, 43212, 21228, 18306, 6594, 4488, 49347, 99892, 73531, 83714, 69278, 89027, 55287, 44478, 62970, 70477, 68167, 88940, 88467, 21551, 36512, 67041, 8562, 61454, 55975, 9998, 86127, 37749, 84098, 1788, 80694, 71438, 24083, 47980, 67924, 68217, 92555, 93117, 29711, 8912, 9294, 89666, 831, 37804, 32226, 45291, 84057, 50486, 33742, 77607, 55246, 15981, 99834, 79282, 90476, 49392, 2011, 30549, 89124, 46979, 42122, 47091, 83635, 4604, 96589, 97130, 43144, 57548, 9063, 32783, 26681, 97977, 13843, 19494, 44269, 14080, 83599, 61694, 51466, 74426, 70146, 57800, 86132, 88043, 40140, 65749, 66412, 17124, 92784, 66285, 51166, 58490, 53860, 36917, 26619, 79499, 86614, 74829, 33179, 34208, 42117, 98093, 12620, 72447, 28689, 63223, 70484, 16234, 72185, 11805, 30117, 67724, 63225, 4590, 88900, 88249, 4614, 47740, 43658, 69057, 27285, 39201, 77783, 56704, 89871, 49513, 53705, 31898, 91889, 36290, 45100, 64687, 37254, 70774, 57420, 72524, 19483, 80947, 26338, 74028, 77113, 16166, 58614, 33359, 51003, 2392, 56985, 69428, 79905, 57466, 7277, 46432, 83454, 38418, 97227, 82294, 80795, 40250, 20786, 8060, 13207, 76280, 64745, 95736, 66937, 43436, 8696, 18165, 12921, 19193, 23563, 55773, 62113, 77415, 13009, 24078, 59057, 8712, 15595, 68280, 90484, 18473, 74291, 18293, 98230, 32370, 72666, 27581, 89800, 62497, 62893, 84731, 18460, 7768, 31207, 39364, 50169, 30955, 88576, 98177, 27271, 63397, 22666, 56146, 24017, 17342, 32881, 82806, 85413, 38864, 28207, 48304, 31063, 13875, 33023, 68811, 14031, 44870, 15317, 20538, 83442, 88036, 2491, 17808, 44630, 35309, 57789, 88395, 24266, 52841, 9696, 47475, 12884, 42555, 88069, 35514, 33258, 87456, 65448, 52664, 8993, 19562, 8303, 55470, 50759, 98147, 66643, 37002, 80834, 5754, 44436, 12502, 18767, 8922, 47212, 75692, 44204, 16791, 66942, 95569, 66248, 39338, 32998, 84824, 36131, 18063, 46162, 97756, 42762, 25451, 44945, 50294, 94822, 80680, 8409, 757, 81082, 58869, 30712, 47865, 11781, 10378, 18139, 98462, 51426, 86307, 71976, 70095, 60904, 14815, 82532, 59409, 24340, 14554, 1215, 58090, 49672, 37567, 71072, 25815, 78244, 91995, 28437, 12123, 29747, 98332, 66239, 27858, 3670, 12878, 41495, 24507, 9824, 24769, 89996, 96577, 69500, 94275, 15646, 28536, 26724, 334, 4345, 18225, 73311, 41277, 96788, 72411, 25688, 57297, 37311, 81190, 59419, 45331, 32088, 72260, 57266, 52511, 3219, 23433, 39034, 95814, 92070, 50246, 96752, 54517, 48199, 47004, 53664, 59239, 26271, 28782, 40264, 61238, 70005, 93763, 67806, 26977, 35557, 81119, 98481, 16947, 45543, 63174, 35404, 44746, 72811, 9276, 850, 28818, 43465, 77950, 95031, 90388, 69312, 24897, 48558, 50547, 44807, 75979, 15421, 1080, 8204, 69397, 45629, 40169, 94528, 85544, 2326, 76726, 86000, 9202, 30207, 60904, 75145, 74749, 61812, 40922, 58720, 19545, 49473, 88687, 23402, 13045, 38006, 16579, 80671, 72059, 64585, 17278, 4146, 97816, 90482, 57373, 65662, 4017, 70814, 76222, 43333, 37684, 40938, 66778, 67913, 89012, 12729, 87273, 57743, 64707, 95545, 63147, 22832, 11809, 69017, 2770, 99407, 13181, 48701, 35037, 55740, 33341, 5892, 55009, 21729, 48334, 53976, 11785, 22406, 73623, 18188, 30416, 34347, 93685, 89593, 42337, 22800, 62866, 23944, 94895, 57296, 39858, 74664, 19538, 94980, 96876, 2389, 88943, 82507, 22995, 85094, 92791, 61981, 8289, 48011, 41992, 31700, 83564, 4299, 57321, 36296, 64244, 18624, 50151, 28908, 61194, 59749, 36442, 15105, 12627, 75476, 66473, 26392, 44960, 49314, 40958, 57581, 67327, 76225, 29802, 95791, 41761, 74725, 15344, 81011, 91489, 78535, 19285, 82699, 54637, 36236, 68295, 64326, 54830, 80411, 84406, 51349, 24980, 52149, 8371, 85307, 38058, 50386, 10417, 36880, 57347, 87364, 75734, 3015, 33323, 38860, 88222, 53284, 30648, 68584, 69996, 57799, 20016, 66155, 40127, 25196, 45026, 458, 64318, 52388, 74975, 62564, 86935, 95809, 44729, 37641, 62609, 96715, 57967, 35266, 2391, 90954, 29210, 44931, 49691, 30263, 15730, 26202, 62350, 98622, 19316, 78703, 89541, 42306, 75533, 89348, 20841, 41976, 90426, 40738, 64063, 58992, 83437, 29146, 39244, 51139, 37984, 29553, 57542, 17346, 64795, 94743, 92087, 93340, 53759, 56737, 2344, 86182, 45030, 87516, 86502, 49729, 22967, 55550, 17909, 47043, 86112, 63635, 25258, 64110, 10332, 33672, 96291, 66269, 70404, 82874, 98771, 5449, 61701, 26705, 62331, 33935, 84848, 52352, 37086, 36283, 72001, 22898, 74170, 59238, 18384, 26132, 99628, 99362, 45177, 10896, 31843, 60836, 91743, 80618, 36108, 50936, 37050, 43907, 18599, 58365, 25273, 12808, 21221, 30086, 21921, 2443, 9562, 90452, 24380, 92144, 44759, 11502, 97503, 98383, 16566, 52860, 73796, 16050, 28076, 25724, 15102, 72794, 1865, 71616, 8394, 57633, 51254, 55225, 24157, 15688, 64782, 29855, 59080, 86278, 63744, 71529, 41867, 60433, 40841, 67650, 97, 35489, 10877, 77988, 38222, 27385, 43457, 73293, 40361, 94966, 986, 69766, 67026, 71460, 98980, 43702, 81041, 13731, 76300, 50725, 60447, 41820, 17770, 46815, 86652, 14703, 37513, 32302, 95191, 75868, 40239, 61008, 64059, 39912, 33323, 88739, 84753, 13476, 64433, 59466, 30776, 41436, 44841, 45632, 26976, 30554, 82235, 86314, 77791, 45089, 33059, 32341, 29664, 98378, 36066, 90049, 65680, 26029, 51440, 86453, 2058, 15648, 1996, 28504, 33755, 8661, 27082, 880, 1153, 7802, 2212, 18983, 57955, 3379, 32079, 24747, 11814, 55841, 22593, 59462, 63864, 78477, 99451, 52531, 45898, 28612, 62815, 88705, 81053, 62669, 74569, 48261, 10906, 37124, 33133, 46368, 9675, 93136, 26553, 40409, 65307, 96236, 84182, 20940, 10118, 82416, 52235, 50654, 1675, 33903, 36390, 84810, 86364, 98270, 63748, 25709, 27820, 27557, 28770, 58173, 83458, 59345, 12847, 92893, 77334, 18952, 43311, 39991, 73066, 82063, 90476, 30180, 73174, 32777, 36626, 57123, 49113, 15354, 66019, 87048, 27047, 89967, 3457, 68115, 56411, 47552, 48469, 27483, 63190, 27241, 21937, 27253, 84255, 53239, 19971, 45463, 51587, 30489, 46523, 95581, 52701, 30438, 75920, 21389, 50296, 24711, 42757, 11720, 425, 65160, 97356, 11165, 43895, 92539, 12296, 40622, 7116, 93861, 13137, 20509, 58819, 77514, 96577, 67399, 81250, 95934, 356, 16570, 64150, 39808, 92023, 97741, 33532, 24213, 39028, 96278, 86663, 91016, 43804, 85389, 90945, 51623, 24559, 65889, 39755, 52839, 89318, 71200, 85053, 2364, 51249, 34097, 39763, 20852, 27067, 16436, 38676, 87940, 59140, 38332, 90448, 97321, 36348, 64584, 67474, 75365, 30715, 31992, 34568, 71606, 14779, 57487, 91348, 12292, 8363, 7044, 60174, 11054, 97946, 73510, 54728, 96074, 19106, 22159, 41901, 55895, 44991, 59534, 2792, 68839, 54907, 95296, 10585, 52772, 31076, 19378, 21077, 83550, 8430, 68328, 80743, 13992, 53176, 3681, 67638, 56946, 41691, 50597, 70623, 56761, 26028, 7391, 9552, 14120, 41960, 73621, 45011, 57695, 33671, 48610, 21315, 82883, 53922, 61975, 1571, 53682, 30377, 58940, 60117, 37518, 18071, 44654, 26300, 31815, 53295]\n"
     ]
    }
   ],
   "source": [
    "#génération de sessions aléatoires\n",
    "import random\n",
    "\n",
    "sessions = []\n",
    "for i in range(1065):\n",
    "    sessions.append(random.randint(1, 100000))\n",
    "\n",
    "print(sessions)"
   ]
  },
  {
   "cell_type": "code",
   "execution_count": 28,
   "id": "0b58e9e5-096a-4bbb-80de-4a6d2685877c",
   "metadata": {
    "tags": []
   },
   "outputs": [],
   "source": [
    "#obligé de bien mettre le y sous format int\n",
    "daily_cases_int = [int(nombre) for nombre in df[\"daily_cases\"].values.tolist()]"
   ]
  },
  {
   "cell_type": "code",
   "execution_count": 29,
   "id": "765bd28d-eea5-4265-bf6b-6e9af83aa7f7",
   "metadata": {
    "tags": []
   },
   "outputs": [],
   "source": [
    "Data = {\"y\": daily_cases_int,\n",
    "                \"N\": len(y),\n",
    "                \"X\": mat_design,\n",
    "                \"K\" : mat_design.shape[1],\n",
    "                \"theta2\" : theta2,\n",
    "                \"sigma2\" : sigma2,\n",
    "                \"sessions\" : sessions\n",
    "       }"
   ]
  },
  {
   "cell_type": "code",
   "execution_count": 44,
   "id": "f30a529b-3f36-4935-9271-b3f754998f37",
   "metadata": {
    "tags": []
   },
   "outputs": [],
   "source": [
    "Model = \"\"\"\n",
    "data {\n",
    "  int N; //nombre de données \n",
    "  int y[N]; //nombre de tests positifs\n",
    "  int K; // nombre de colonnes de la matrice design\n",
    "  real sigma2;\n",
    "  matrix[N, K] X; //matrice design \n",
    "  vector[K] theta2;\n",
    "  vector[N] sessions;\n",
    "}\n",
    "transformed parameters {\n",
    "  vector[N] mu;\n",
    "  vector[N] alpha;\n",
    "  vector[N] beta; //\n",
    "  mu = 1/(1+(atan((-X)*theta2)+2));\n",
    "  alpha = mu*sigma2;\n",
    "  beta = (1-mu)*sigma2;\n",
    "}\n",
    "model {\n",
    "  for (i in 1:N) {\n",
    "    y[i] ~ beta_binomial(1000, alpha[i], beta[i]);\n",
    "  }\n",
    "}\n",
    "generated quantities {\n",
    "  vector[N] y_rep;\n",
    "  for (i in 1:N) {\n",
    "    y_rep[i] = beta_binomial_rng(1000, alpha[i], beta[i]);\n",
    "  }\n",
    "}\n",
    "\"\"\""
   ]
  },
  {
   "cell_type": "code",
   "execution_count": 45,
   "id": "f598c253-a378-4f11-9328-30eacbd678cd",
   "metadata": {
    "tags": []
   },
   "outputs": [
    {
     "name": "stdout",
     "output_type": "stream",
     "text": [
      "Building..."
     ]
    },
    {
     "name": "stderr",
     "output_type": "stream",
     "text": [
      "In file included from /opt/mamba/lib/python3.10/site-packages/httpstan/include/stan/math/prim/fun.hpp:124,\n",
      "                 from /opt/mamba/lib/python3.10/site-packages/httpstan/include/stan/math/rev/fun/multiply.hpp:7,\n",
      "                 from /opt/mamba/lib/python3.10/site-packages/httpstan/include/stan/math/rev/fun/elt_multiply.hpp:9,\n",
      "                 from /opt/mamba/lib/python3.10/site-packages/httpstan/include/stan/math/rev/fun.hpp:55,\n",
      "                 from /opt/mamba/lib/python3.10/site-packages/httpstan/include/stan/math/rev.hpp:10,\n",
      "                 from /opt/mamba/lib/python3.10/site-packages/httpstan/include/stan/math.hpp:19,\n",
      "                 from /opt/mamba/lib/python3.10/site-packages/httpstan/include/stan/model/model_header.hpp:4,\n",
      "                 from /home/onyxia/.cache/httpstan/4.9.1/models/e4dst34c/model_e4dst34c.cpp:2:\n",
      "/opt/mamba/lib/python3.10/site-packages/httpstan/include/stan/math/prim/fun/grad_2F1.hpp: In instantiation of ‘TupleT stan::math::internal::grad_2F1_impl(const T1&, const T2&, const T3&, const T_z&, double, int) [with bool calc_a1 = true; bool calc_a2 = true; bool calc_b1 = true; bool calc_z = true; T1 = double; T2 = double; T3 = double; T_z = double; ScalarT = double; TupleT = std::tuple<double, double, double, double>]’:\n",
      "/opt/mamba/lib/python3.10/site-packages/httpstan/include/stan/math/prim/fun/grad_2F1.hpp:307:57:   required from ‘auto stan::math::grad_2F1(const T1&, const T2&, const T3&, const T_z&, double, int) [with bool ReturnSameT = true; T1 = double; T2 = double; T3 = double; T_z = double; stan::require_t<std::integral_constant<bool, __v> >* <anonymous> = 0]’\n",
      "/opt/mamba/lib/python3.10/site-packages/httpstan/include/stan/math/prim/fun/grad_inc_beta.hpp:37:25:   required from here\n",
      "/opt/mamba/lib/python3.10/site-packages/httpstan/include/stan/math/prim/fun/grad_2F1.hpp:192:12: warning: unused variable ‘pre_mult’ [-Wunused-variable]\n",
      "  192 |       auto pre_mult = a2 * pow(1 - z, -1 - a2);\n",
      "      |            ^~~~~~~~\n",
      "/opt/mamba/lib/python3.10/site-packages/httpstan/include/stan/math/prim/fun/grad_2F1.hpp: In instantiation of ‘TupleT stan::math::internal::grad_2F1_impl(const T1&, const T2&, const T3&, const T_z&, double, int) [with bool calc_a1 = true; bool calc_a2 = true; bool calc_b1 = true; bool calc_z = true; T1 = stan::math::var_value<double>; T2 = stan::math::var_value<double>; T3 = stan::math::var_value<double>; T_z = stan::math::var_value<double>; ScalarT = stan::math::var_value<double>; TupleT = std::tuple<stan::math::var_value<double, void>, stan::math::var_value<double, void>, stan::math::var_value<double, void>, stan::math::var_value<double, void> >]’:\n",
      "/opt/mamba/lib/python3.10/site-packages/httpstan/include/stan/math/prim/fun/grad_2F1.hpp:307:57:   required from ‘auto stan::math::grad_2F1(const T1&, const T2&, const T3&, const T_z&, double, int) [with bool ReturnSameT = true; T1 = stan::math::var_value<double>; T2 = stan::math::var_value<double>; T3 = stan::math::var_value<double>; T_z = stan::math::var_value<double>; stan::require_t<std::integral_constant<bool, __v> >* <anonymous> = 0]’\n",
      "/opt/mamba/lib/python3.10/site-packages/httpstan/include/stan/math/rev/fun/grad_inc_beta.hpp:49:25:   required from here\n",
      "/opt/mamba/lib/python3.10/site-packages/httpstan/include/stan/math/prim/fun/grad_2F1.hpp:192:12: warning: variable ‘pre_mult’ set but not used [-Wunused-but-set-variable]\n",
      "/home/onyxia/.cache/httpstan/4.9.1/models/e4dst34c/model_e4dst34c.cpp: In instantiation of ‘void model_e4dst34c_namespace::model_e4dst34c::transform_inits_impl(VecVar&, VecI&, VecVar&, std::ostream*) const [with VecVar = std::vector<double, std::allocator<double> >; VecI = std::vector<int>; stan::require_vector_t<T_y>* <anonymous> = 0; stan::require_vector_like_vt<std::is_integral, VecI>* <anonymous> = 0; std::ostream = std::basic_ostream<char>]’:\n",
      "/home/onyxia/.cache/httpstan/4.9.1/models/e4dst34c/model_e4dst34c.cpp:562:26:   required from here\n",
      "/home/onyxia/.cache/httpstan/4.9.1/models/e4dst34c/model_e4dst34c.cpp:369:11: warning: variable ‘pos__’ set but not used [-Wunused-but-set-variable]\n",
      "  369 |       int pos__ = std::numeric_limits<int>::min();\n",
      "      |           ^~~~~\n",
      "/home/onyxia/.cache/httpstan/4.9.1/models/e4dst34c/model_e4dst34c.cpp:366:22: warning: unused variable ‘DUMMY_VAR__’ [-Wunused-variable]\n",
      "  366 |     local_scalar_t__ DUMMY_VAR__(std::numeric_limits<double>::quiet_NaN());\n",
      "      |                      ^~~~~~~~~~~\n",
      "In file included from /opt/mamba/lib/python3.10/site-packages/httpstan/include/stan/math/prim/fun.hpp:124,\n",
      "                 from /opt/mamba/lib/python3.10/site-packages/httpstan/include/stan/math/rev/fun/multiply.hpp:7,\n",
      "                 from /opt/mamba/lib/python3.10/site-packages/httpstan/include/stan/math/rev/fun/elt_multiply.hpp:9,\n",
      "                 from /opt/mamba/lib/python3.10/site-packages/httpstan/include/stan/math/rev/fun.hpp:55,\n",
      "                 from /opt/mamba/lib/python3.10/site-packages/httpstan/include/stan/math/rev.hpp:10,\n",
      "                 from /opt/mamba/lib/python3.10/site-packages/httpstan/include/stan/math.hpp:19,\n",
      "                 from /opt/mamba/lib/python3.10/site-packages/httpstan/include/stan/model/model_header.hpp:4,\n",
      "                 from /home/onyxia/.cache/httpstan/4.9.1/models/e4dst34c/model_e4dst34c.cpp:2:\n",
      "/opt/mamba/lib/python3.10/site-packages/httpstan/include/stan/math/prim/fun/grad_2F1.hpp: In instantiation of ‘TupleT stan::math::internal::grad_2F1_impl_ab(const T1&, const T2&, const T3&, const T_z&, double, int) [with bool calc_a1 = true; bool calc_a2 = true; bool calc_b1 = true; T1 = double; T2 = double; T3 = double; T_z = double; ScalarT = double; TupleT = std::tuple<double, double, double>]’:\n",
      "/opt/mamba/lib/python3.10/site-packages/httpstan/include/stan/math/prim/fun/grad_2F1.hpp:205:78:   required from ‘TupleT stan::math::internal::grad_2F1_impl(const T1&, const T2&, const T3&, const T_z&, double, int) [with bool calc_a1 = true; bool calc_a2 = true; bool calc_b1 = true; bool calc_z = true; T1 = double; T2 = double; T3 = double; T_z = double; ScalarT = double; TupleT = std::tuple<double, double, double, double>]’\n",
      "/opt/mamba/lib/python3.10/site-packages/httpstan/include/stan/math/prim/fun/grad_2F1.hpp:307:57:   required from ‘auto stan::math::grad_2F1(const T1&, const T2&, const T3&, const T_z&, double, int) [with bool ReturnSameT = true; T1 = double; T2 = double; T3 = double; T_z = double; stan::require_t<std::integral_constant<bool, __v> >* <anonymous> = 0]’\n",
      "/opt/mamba/lib/python3.10/site-packages/httpstan/include/stan/math/prim/fun/grad_inc_beta.hpp:37:25:   required from here\n",
      "/opt/mamba/lib/python3.10/site-packages/httpstan/include/stan/math/prim/fun/grad_2F1.hpp:68:10: warning: unused variable ‘log_precision’ [-Wunused-variable]\n",
      "   68 |   double log_precision = log(precision);\n",
      "      |          ^~~~~~~~~~~~~\n",
      "/opt/mamba/lib/python3.10/site-packages/httpstan/include/stan/math/prim/fun/grad_2F1.hpp: In instantiation of ‘TupleT stan::math::internal::grad_2F1_impl_ab(const T1&, const T2&, const T3&, const T_z&, double, int) [with bool calc_a1 = true; bool calc_a2 = true; bool calc_b1 = true; T1 = stan::math::var_value<double>; T2 = stan::math::var_value<double>; T3 = stan::math::var_value<double>; T_z = stan::math::var_value<double>; ScalarT = stan::math::var_value<double>; TupleT = std::tuple<stan::math::var_value<double, void>, stan::math::var_value<double, void>, stan::math::var_value<double, void> >]’:\n",
      "/opt/mamba/lib/python3.10/site-packages/httpstan/include/stan/math/prim/fun/grad_2F1.hpp:205:78:   required from ‘TupleT stan::math::internal::grad_2F1_impl(const T1&, const T2&, const T3&, const T_z&, double, int) [with bool calc_a1 = true; bool calc_a2 = true; bool calc_b1 = true; bool calc_z = true; T1 = stan::math::var_value<double>; T2 = stan::math::var_value<double>; T3 = stan::math::var_value<double>; T_z = stan::math::var_value<double>; ScalarT = stan::math::var_value<double>; TupleT = std::tuple<stan::math::var_value<double, void>, stan::math::var_value<double, void>, stan::math::var_value<double, void>, stan::math::var_value<double, void> >]’\n",
      "/opt/mamba/lib/python3.10/site-packages/httpstan/include/stan/math/prim/fun/grad_2F1.hpp:307:57:   required from ‘auto stan::math::grad_2F1(const T1&, const T2&, const T3&, const T_z&, double, int) [with bool ReturnSameT = true; T1 = stan::math::var_value<double>; T2 = stan::math::var_value<double>; T3 = stan::math::var_value<double>; T_z = stan::math::var_value<double>; stan::require_t<std::integral_constant<bool, __v> >* <anonymous> = 0]’\n",
      "/opt/mamba/lib/python3.10/site-packages/httpstan/include/stan/math/rev/fun/grad_inc_beta.hpp:49:25:   required from here\n",
      "/opt/mamba/lib/python3.10/site-packages/httpstan/include/stan/math/prim/fun/grad_2F1.hpp:68:10: warning: unused variable ‘log_precision’ [-Wunused-variable]\n",
      "/home/onyxia/.cache/httpstan/4.9.1/models/e4dst34c/model_e4dst34c.cpp: In instantiation of ‘void model_e4dst34c_namespace::model_e4dst34c::write_array_impl(RNG&, VecR&, VecI&, VecVar&, bool, bool, std::ostream*) const [with RNG = boost::random::additive_combine_engine<boost::random::linear_congruential_engine<unsigned int, 40014, 0, 2147483563>, boost::random::linear_congruential_engine<unsigned int, 40692, 0, 2147483399> >; VecR = Eigen::Matrix<double, -1, 1>; VecI = std::vector<int>; VecVar = Eigen::Matrix<double, -1, 1>; stan::require_vector_like_vt<std::is_floating_point, VecR>* <anonymous> = 0; stan::require_vector_like_vt<std::is_integral, VecI>* <anonymous> = 0; stan::require_vector_vt<std::is_floating_point, VecVar>* <anonymous> = 0; std::ostream = std::basic_ostream<char>]’:\n",
      "/home/onyxia/.cache/httpstan/4.9.1/models/e4dst34c/model_e4dst34c.cpp:493:23:   required from ‘void model_e4dst34c_namespace::model_e4dst34c::write_array(RNG&, Eigen::Matrix<double, -1, 1>&, Eigen::Matrix<double, -1, 1>&, bool, bool, std::ostream*) const [with RNG = boost::random::additive_combine_engine<boost::random::linear_congruential_engine<unsigned int, 40014, 0, 2147483563>, boost::random::linear_congruential_engine<unsigned int, 40692, 0, 2147483399> >; std::ostream = std::basic_ostream<char>]’\n",
      "/opt/mamba/lib/python3.10/site-packages/httpstan/include/stan/model/model_base_crtp.hpp:140:61:   required from ‘void stan::model::model_base_crtp<M>::write_array(boost::random::ecuyer1988&, Eigen::VectorXd&, Eigen::VectorXd&, bool, bool, std::ostream*) const [with M = model_e4dst34c_namespace::model_e4dst34c; boost::random::ecuyer1988 = boost::random::additive_combine_engine<boost::random::linear_congruential_engine<unsigned int, 40014, 0, 2147483563>, boost::random::linear_congruential_engine<unsigned int, 40692, 0, 2147483399> >; Eigen::VectorXd = Eigen::Matrix<double, -1, 1>; std::ostream = std::basic_ostream<char>]’\n",
      "/opt/mamba/lib/python3.10/site-packages/httpstan/include/stan/model/model_base_crtp.hpp:136:8:   required from here\n",
      "/home/onyxia/.cache/httpstan/4.9.1/models/e4dst34c/model_e4dst34c.cpp:294:20: warning: unused variable ‘jacobian__’ [-Wunused-variable]\n",
      "  294 |     constexpr bool jacobian__ = false;\n",
      "      |                    ^~~~~~~~~~\n",
      "/home/onyxia/.cache/httpstan/4.9.1/models/e4dst34c/model_e4dst34c.cpp: In instantiation of ‘void model_e4dst34c_namespace::model_e4dst34c::write_array_impl(RNG&, VecR&, VecI&, VecVar&, bool, bool, std::ostream*) const [with RNG = boost::random::additive_combine_engine<boost::random::linear_congruential_engine<unsigned int, 40014, 0, 2147483563>, boost::random::linear_congruential_engine<unsigned int, 40692, 0, 2147483399> >; VecR = std::vector<double, std::allocator<double> >; VecI = std::vector<int>; VecVar = std::vector<double, std::allocator<double> >; stan::require_vector_like_vt<std::is_floating_point, VecR>* <anonymous> = 0; stan::require_vector_like_vt<std::is_integral, VecI>* <anonymous> = 0; stan::require_vector_vt<std::is_floating_point, VecVar>* <anonymous> = 0; std::ostream = std::basic_ostream<char>]’:\n",
      "/home/onyxia/.cache/httpstan/4.9.1/models/e4dst34c/model_e4dst34c.cpp:512:23:   required from ‘void model_e4dst34c_namespace::model_e4dst34c::write_array(RNG&, std::vector<double, std::allocator<double> >&, std::vector<int>&, std::vector<double, std::allocator<double> >&, bool, bool, std::ostream*) const [with RNG = boost::random::additive_combine_engine<boost::random::linear_congruential_engine<unsigned int, 40014, 0, 2147483563>, boost::random::linear_congruential_engine<unsigned int, 40692, 0, 2147483399> >; std::ostream = std::basic_ostream<char>]’\n",
      "/opt/mamba/lib/python3.10/site-packages/httpstan/include/stan/model/model_base_crtp.hpp:202:61:   required from ‘void stan::model::model_base_crtp<M>::write_array(boost::random::ecuyer1988&, std::vector<double, std::allocator<double> >&, std::vector<int>&, std::vector<double, std::allocator<double> >&, bool, bool, std::ostream*) const [with M = model_e4dst34c_namespace::model_e4dst34c; boost::random::ecuyer1988 = boost::random::additive_combine_engine<boost::random::linear_congruential_engine<unsigned int, 40014, 0, 2147483563>, boost::random::linear_congruential_engine<unsigned int, 40692, 0, 2147483399> >; std::ostream = std::basic_ostream<char>]’\n",
      "/opt/mamba/lib/python3.10/site-packages/httpstan/include/stan/model/model_base_crtp.hpp:198:8:   required from here\n",
      "/home/onyxia/.cache/httpstan/4.9.1/models/e4dst34c/model_e4dst34c.cpp:294:20: warning: unused variable ‘jacobian__’ [-Wunused-variable]\n"
     ]
    },
    {
     "name": "stdout",
     "output_type": "stream",
     "text": [
      "\n"
     ]
    },
    {
     "name": "stderr",
     "output_type": "stream",
     "text": [
      "\n",
      "Building: 25.7s, done.Messages from stanc:\n",
      "Warning in '/tmp/httpstan_sy6wt2vs/model_e4dst34c.stan', line 4, column 2: Declaration\n",
      "    of arrays by placing brackets after a variable name is deprecated and\n",
      "    will be removed in Stan 2.32.0. Instead use the array keyword before the\n",
      "    type. This can be changed automatically using the auto-format flag to\n",
      "    stanc\n",
      "Warning in '/tmp/httpstan_sy6wt2vs/model_e4dst34c.stan', line 21, column 25: Argument\n",
      "    1000 suggests there may be parameters that are not unit scale; consider\n",
      "    rescaling with a multiplier (see manual section 22.12).\n"
     ]
    }
   ],
   "source": [
    "posterior = stan.build(Model, data=Data)"
   ]
  }
 ],
 "metadata": {
  "kernelspec": {
   "display_name": "Python 3 (ipykernel)",
   "language": "python",
   "name": "python3"
  },
  "language_info": {
   "codemirror_mode": {
    "name": "ipython",
    "version": 3
   },
   "file_extension": ".py",
   "mimetype": "text/x-python",
   "name": "python",
   "nbconvert_exporter": "python",
   "pygments_lexer": "ipython3",
   "version": "3.10.8"
  }
 },
 "nbformat": 4,
 "nbformat_minor": 5
}
